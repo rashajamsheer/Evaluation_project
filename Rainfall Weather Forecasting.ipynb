{
 "cells": [
  {
   "cell_type": "code",
   "execution_count": 1,
   "metadata": {},
   "outputs": [],
   "source": [
    "import pandas as pd\n",
    "import numpy as np\n",
    "import matplotlib.pyplot as plt\n",
    "import seaborn as sns\n",
    "import warnings\n",
    "warnings.filterwarnings('ignore')"
   ]
  },
  {
   "cell_type": "code",
   "execution_count": 2,
   "metadata": {},
   "outputs": [
    {
     "data": {
      "text/html": [
       "<div>\n",
       "<style scoped>\n",
       "    .dataframe tbody tr th:only-of-type {\n",
       "        vertical-align: middle;\n",
       "    }\n",
       "\n",
       "    .dataframe tbody tr th {\n",
       "        vertical-align: top;\n",
       "    }\n",
       "\n",
       "    .dataframe thead th {\n",
       "        text-align: right;\n",
       "    }\n",
       "</style>\n",
       "<table border=\"1\" class=\"dataframe\">\n",
       "  <thead>\n",
       "    <tr style=\"text-align: right;\">\n",
       "      <th></th>\n",
       "      <th>Date</th>\n",
       "      <th>Location</th>\n",
       "      <th>MinTemp</th>\n",
       "      <th>MaxTemp</th>\n",
       "      <th>Rainfall</th>\n",
       "      <th>Evaporation</th>\n",
       "      <th>Sunshine</th>\n",
       "      <th>WindGustDir</th>\n",
       "      <th>WindGustSpeed</th>\n",
       "      <th>WindDir9am</th>\n",
       "      <th>...</th>\n",
       "      <th>Humidity9am</th>\n",
       "      <th>Humidity3pm</th>\n",
       "      <th>Pressure9am</th>\n",
       "      <th>Pressure3pm</th>\n",
       "      <th>Cloud9am</th>\n",
       "      <th>Cloud3pm</th>\n",
       "      <th>Temp9am</th>\n",
       "      <th>Temp3pm</th>\n",
       "      <th>RainToday</th>\n",
       "      <th>RainTomorrow</th>\n",
       "    </tr>\n",
       "  </thead>\n",
       "  <tbody>\n",
       "    <tr>\n",
       "      <th>0</th>\n",
       "      <td>2008-12-01</td>\n",
       "      <td>Albury</td>\n",
       "      <td>13.4</td>\n",
       "      <td>22.9</td>\n",
       "      <td>0.6</td>\n",
       "      <td>NaN</td>\n",
       "      <td>NaN</td>\n",
       "      <td>W</td>\n",
       "      <td>44.0</td>\n",
       "      <td>W</td>\n",
       "      <td>...</td>\n",
       "      <td>71.0</td>\n",
       "      <td>22.0</td>\n",
       "      <td>1007.7</td>\n",
       "      <td>1007.1</td>\n",
       "      <td>8.0</td>\n",
       "      <td>NaN</td>\n",
       "      <td>16.9</td>\n",
       "      <td>21.8</td>\n",
       "      <td>No</td>\n",
       "      <td>No</td>\n",
       "    </tr>\n",
       "    <tr>\n",
       "      <th>1</th>\n",
       "      <td>2008-12-02</td>\n",
       "      <td>Albury</td>\n",
       "      <td>7.4</td>\n",
       "      <td>25.1</td>\n",
       "      <td>0.0</td>\n",
       "      <td>NaN</td>\n",
       "      <td>NaN</td>\n",
       "      <td>WNW</td>\n",
       "      <td>44.0</td>\n",
       "      <td>NNW</td>\n",
       "      <td>...</td>\n",
       "      <td>44.0</td>\n",
       "      <td>25.0</td>\n",
       "      <td>1010.6</td>\n",
       "      <td>1007.8</td>\n",
       "      <td>NaN</td>\n",
       "      <td>NaN</td>\n",
       "      <td>17.2</td>\n",
       "      <td>24.3</td>\n",
       "      <td>No</td>\n",
       "      <td>No</td>\n",
       "    </tr>\n",
       "    <tr>\n",
       "      <th>2</th>\n",
       "      <td>2008-12-03</td>\n",
       "      <td>Albury</td>\n",
       "      <td>12.9</td>\n",
       "      <td>25.7</td>\n",
       "      <td>0.0</td>\n",
       "      <td>NaN</td>\n",
       "      <td>NaN</td>\n",
       "      <td>WSW</td>\n",
       "      <td>46.0</td>\n",
       "      <td>W</td>\n",
       "      <td>...</td>\n",
       "      <td>38.0</td>\n",
       "      <td>30.0</td>\n",
       "      <td>1007.6</td>\n",
       "      <td>1008.7</td>\n",
       "      <td>NaN</td>\n",
       "      <td>2.0</td>\n",
       "      <td>21.0</td>\n",
       "      <td>23.2</td>\n",
       "      <td>No</td>\n",
       "      <td>No</td>\n",
       "    </tr>\n",
       "    <tr>\n",
       "      <th>3</th>\n",
       "      <td>2008-12-04</td>\n",
       "      <td>Albury</td>\n",
       "      <td>9.2</td>\n",
       "      <td>28.0</td>\n",
       "      <td>0.0</td>\n",
       "      <td>NaN</td>\n",
       "      <td>NaN</td>\n",
       "      <td>NE</td>\n",
       "      <td>24.0</td>\n",
       "      <td>SE</td>\n",
       "      <td>...</td>\n",
       "      <td>45.0</td>\n",
       "      <td>16.0</td>\n",
       "      <td>1017.6</td>\n",
       "      <td>1012.8</td>\n",
       "      <td>NaN</td>\n",
       "      <td>NaN</td>\n",
       "      <td>18.1</td>\n",
       "      <td>26.5</td>\n",
       "      <td>No</td>\n",
       "      <td>No</td>\n",
       "    </tr>\n",
       "    <tr>\n",
       "      <th>4</th>\n",
       "      <td>2008-12-05</td>\n",
       "      <td>Albury</td>\n",
       "      <td>17.5</td>\n",
       "      <td>32.3</td>\n",
       "      <td>1.0</td>\n",
       "      <td>NaN</td>\n",
       "      <td>NaN</td>\n",
       "      <td>W</td>\n",
       "      <td>41.0</td>\n",
       "      <td>ENE</td>\n",
       "      <td>...</td>\n",
       "      <td>82.0</td>\n",
       "      <td>33.0</td>\n",
       "      <td>1010.8</td>\n",
       "      <td>1006.0</td>\n",
       "      <td>7.0</td>\n",
       "      <td>8.0</td>\n",
       "      <td>17.8</td>\n",
       "      <td>29.7</td>\n",
       "      <td>No</td>\n",
       "      <td>No</td>\n",
       "    </tr>\n",
       "    <tr>\n",
       "      <th>...</th>\n",
       "      <td>...</td>\n",
       "      <td>...</td>\n",
       "      <td>...</td>\n",
       "      <td>...</td>\n",
       "      <td>...</td>\n",
       "      <td>...</td>\n",
       "      <td>...</td>\n",
       "      <td>...</td>\n",
       "      <td>...</td>\n",
       "      <td>...</td>\n",
       "      <td>...</td>\n",
       "      <td>...</td>\n",
       "      <td>...</td>\n",
       "      <td>...</td>\n",
       "      <td>...</td>\n",
       "      <td>...</td>\n",
       "      <td>...</td>\n",
       "      <td>...</td>\n",
       "      <td>...</td>\n",
       "      <td>...</td>\n",
       "      <td>...</td>\n",
       "    </tr>\n",
       "    <tr>\n",
       "      <th>8420</th>\n",
       "      <td>2017-06-21</td>\n",
       "      <td>Uluru</td>\n",
       "      <td>2.8</td>\n",
       "      <td>23.4</td>\n",
       "      <td>0.0</td>\n",
       "      <td>NaN</td>\n",
       "      <td>NaN</td>\n",
       "      <td>E</td>\n",
       "      <td>31.0</td>\n",
       "      <td>SE</td>\n",
       "      <td>...</td>\n",
       "      <td>51.0</td>\n",
       "      <td>24.0</td>\n",
       "      <td>1024.6</td>\n",
       "      <td>1020.3</td>\n",
       "      <td>NaN</td>\n",
       "      <td>NaN</td>\n",
       "      <td>10.1</td>\n",
       "      <td>22.4</td>\n",
       "      <td>No</td>\n",
       "      <td>No</td>\n",
       "    </tr>\n",
       "    <tr>\n",
       "      <th>8421</th>\n",
       "      <td>2017-06-22</td>\n",
       "      <td>Uluru</td>\n",
       "      <td>3.6</td>\n",
       "      <td>25.3</td>\n",
       "      <td>0.0</td>\n",
       "      <td>NaN</td>\n",
       "      <td>NaN</td>\n",
       "      <td>NNW</td>\n",
       "      <td>22.0</td>\n",
       "      <td>SE</td>\n",
       "      <td>...</td>\n",
       "      <td>56.0</td>\n",
       "      <td>21.0</td>\n",
       "      <td>1023.5</td>\n",
       "      <td>1019.1</td>\n",
       "      <td>NaN</td>\n",
       "      <td>NaN</td>\n",
       "      <td>10.9</td>\n",
       "      <td>24.5</td>\n",
       "      <td>No</td>\n",
       "      <td>No</td>\n",
       "    </tr>\n",
       "    <tr>\n",
       "      <th>8422</th>\n",
       "      <td>2017-06-23</td>\n",
       "      <td>Uluru</td>\n",
       "      <td>5.4</td>\n",
       "      <td>26.9</td>\n",
       "      <td>0.0</td>\n",
       "      <td>NaN</td>\n",
       "      <td>NaN</td>\n",
       "      <td>N</td>\n",
       "      <td>37.0</td>\n",
       "      <td>SE</td>\n",
       "      <td>...</td>\n",
       "      <td>53.0</td>\n",
       "      <td>24.0</td>\n",
       "      <td>1021.0</td>\n",
       "      <td>1016.8</td>\n",
       "      <td>NaN</td>\n",
       "      <td>NaN</td>\n",
       "      <td>12.5</td>\n",
       "      <td>26.1</td>\n",
       "      <td>No</td>\n",
       "      <td>No</td>\n",
       "    </tr>\n",
       "    <tr>\n",
       "      <th>8423</th>\n",
       "      <td>2017-06-24</td>\n",
       "      <td>Uluru</td>\n",
       "      <td>7.8</td>\n",
       "      <td>27.0</td>\n",
       "      <td>0.0</td>\n",
       "      <td>NaN</td>\n",
       "      <td>NaN</td>\n",
       "      <td>SE</td>\n",
       "      <td>28.0</td>\n",
       "      <td>SSE</td>\n",
       "      <td>...</td>\n",
       "      <td>51.0</td>\n",
       "      <td>24.0</td>\n",
       "      <td>1019.4</td>\n",
       "      <td>1016.5</td>\n",
       "      <td>3.0</td>\n",
       "      <td>2.0</td>\n",
       "      <td>15.1</td>\n",
       "      <td>26.0</td>\n",
       "      <td>No</td>\n",
       "      <td>No</td>\n",
       "    </tr>\n",
       "    <tr>\n",
       "      <th>8424</th>\n",
       "      <td>2017-06-25</td>\n",
       "      <td>Uluru</td>\n",
       "      <td>14.9</td>\n",
       "      <td>NaN</td>\n",
       "      <td>0.0</td>\n",
       "      <td>NaN</td>\n",
       "      <td>NaN</td>\n",
       "      <td>NaN</td>\n",
       "      <td>NaN</td>\n",
       "      <td>ESE</td>\n",
       "      <td>...</td>\n",
       "      <td>62.0</td>\n",
       "      <td>36.0</td>\n",
       "      <td>1020.2</td>\n",
       "      <td>1017.9</td>\n",
       "      <td>8.0</td>\n",
       "      <td>8.0</td>\n",
       "      <td>15.0</td>\n",
       "      <td>20.9</td>\n",
       "      <td>No</td>\n",
       "      <td>NaN</td>\n",
       "    </tr>\n",
       "  </tbody>\n",
       "</table>\n",
       "<p>8425 rows × 23 columns</p>\n",
       "</div>"
      ],
      "text/plain": [
       "            Date Location  MinTemp  MaxTemp  Rainfall  Evaporation  Sunshine  \\\n",
       "0     2008-12-01   Albury     13.4     22.9       0.6          NaN       NaN   \n",
       "1     2008-12-02   Albury      7.4     25.1       0.0          NaN       NaN   \n",
       "2     2008-12-03   Albury     12.9     25.7       0.0          NaN       NaN   \n",
       "3     2008-12-04   Albury      9.2     28.0       0.0          NaN       NaN   \n",
       "4     2008-12-05   Albury     17.5     32.3       1.0          NaN       NaN   \n",
       "...          ...      ...      ...      ...       ...          ...       ...   \n",
       "8420  2017-06-21    Uluru      2.8     23.4       0.0          NaN       NaN   \n",
       "8421  2017-06-22    Uluru      3.6     25.3       0.0          NaN       NaN   \n",
       "8422  2017-06-23    Uluru      5.4     26.9       0.0          NaN       NaN   \n",
       "8423  2017-06-24    Uluru      7.8     27.0       0.0          NaN       NaN   \n",
       "8424  2017-06-25    Uluru     14.9      NaN       0.0          NaN       NaN   \n",
       "\n",
       "     WindGustDir  WindGustSpeed WindDir9am  ... Humidity9am  Humidity3pm  \\\n",
       "0              W           44.0          W  ...        71.0         22.0   \n",
       "1            WNW           44.0        NNW  ...        44.0         25.0   \n",
       "2            WSW           46.0          W  ...        38.0         30.0   \n",
       "3             NE           24.0         SE  ...        45.0         16.0   \n",
       "4              W           41.0        ENE  ...        82.0         33.0   \n",
       "...          ...            ...        ...  ...         ...          ...   \n",
       "8420           E           31.0         SE  ...        51.0         24.0   \n",
       "8421         NNW           22.0         SE  ...        56.0         21.0   \n",
       "8422           N           37.0         SE  ...        53.0         24.0   \n",
       "8423          SE           28.0        SSE  ...        51.0         24.0   \n",
       "8424         NaN            NaN        ESE  ...        62.0         36.0   \n",
       "\n",
       "      Pressure9am  Pressure3pm  Cloud9am  Cloud3pm  Temp9am  Temp3pm  \\\n",
       "0          1007.7       1007.1       8.0       NaN     16.9     21.8   \n",
       "1          1010.6       1007.8       NaN       NaN     17.2     24.3   \n",
       "2          1007.6       1008.7       NaN       2.0     21.0     23.2   \n",
       "3          1017.6       1012.8       NaN       NaN     18.1     26.5   \n",
       "4          1010.8       1006.0       7.0       8.0     17.8     29.7   \n",
       "...           ...          ...       ...       ...      ...      ...   \n",
       "8420       1024.6       1020.3       NaN       NaN     10.1     22.4   \n",
       "8421       1023.5       1019.1       NaN       NaN     10.9     24.5   \n",
       "8422       1021.0       1016.8       NaN       NaN     12.5     26.1   \n",
       "8423       1019.4       1016.5       3.0       2.0     15.1     26.0   \n",
       "8424       1020.2       1017.9       8.0       8.0     15.0     20.9   \n",
       "\n",
       "      RainToday  RainTomorrow  \n",
       "0            No            No  \n",
       "1            No            No  \n",
       "2            No            No  \n",
       "3            No            No  \n",
       "4            No            No  \n",
       "...         ...           ...  \n",
       "8420         No            No  \n",
       "8421         No            No  \n",
       "8422         No            No  \n",
       "8423         No            No  \n",
       "8424         No           NaN  \n",
       "\n",
       "[8425 rows x 23 columns]"
      ]
     },
     "execution_count": 2,
     "metadata": {},
     "output_type": "execute_result"
    }
   ],
   "source": [
    "df = pd.read_csv(\"https://raw.githubusercontent.com/dsrscientist/dataset3/main/weatherAUS.csv\")\n",
    "df"
   ]
  },
  {
   "cell_type": "code",
   "execution_count": 3,
   "metadata": {},
   "outputs": [
    {
     "name": "stdout",
     "output_type": "stream",
     "text": [
      "<class 'pandas.core.frame.DataFrame'>\n",
      "RangeIndex: 8425 entries, 0 to 8424\n",
      "Data columns (total 23 columns):\n",
      " #   Column         Non-Null Count  Dtype  \n",
      "---  ------         --------------  -----  \n",
      " 0   Date           8425 non-null   object \n",
      " 1   Location       8425 non-null   object \n",
      " 2   MinTemp        8350 non-null   float64\n",
      " 3   MaxTemp        8365 non-null   float64\n",
      " 4   Rainfall       8185 non-null   float64\n",
      " 5   Evaporation    4913 non-null   float64\n",
      " 6   Sunshine       4431 non-null   float64\n",
      " 7   WindGustDir    7434 non-null   object \n",
      " 8   WindGustSpeed  7434 non-null   float64\n",
      " 9   WindDir9am     7596 non-null   object \n",
      " 10  WindDir3pm     8117 non-null   object \n",
      " 11  WindSpeed9am   8349 non-null   float64\n",
      " 12  WindSpeed3pm   8318 non-null   float64\n",
      " 13  Humidity9am    8366 non-null   float64\n",
      " 14  Humidity3pm    8323 non-null   float64\n",
      " 15  Pressure9am    7116 non-null   float64\n",
      " 16  Pressure3pm    7113 non-null   float64\n",
      " 17  Cloud9am       6004 non-null   float64\n",
      " 18  Cloud3pm       5970 non-null   float64\n",
      " 19  Temp9am        8369 non-null   float64\n",
      " 20  Temp3pm        8329 non-null   float64\n",
      " 21  RainToday      8185 non-null   object \n",
      " 22  RainTomorrow   8186 non-null   object \n",
      "dtypes: float64(16), object(7)\n",
      "memory usage: 1.5+ MB\n"
     ]
    }
   ],
   "source": [
    "df.info()"
   ]
  },
  {
   "cell_type": "raw",
   "metadata": {},
   "source": [
    "problem statement"
   ]
  },
  {
   "cell_type": "markdown",
   "metadata": {},
   "source": [
    "a) Design a predictive model with the use of machine learning algorithms to forecast whether or not it will rain tomorrow.\n",
    "\n",
    "b)  Design a predictive model with the use of machine learning algorithms to predict how much rainfall could be there."
   ]
  },
  {
   "cell_type": "code",
   "execution_count": 4,
   "metadata": {},
   "outputs": [
    {
     "name": "stdout",
     "output_type": "stream",
     "text": [
      "size of the dataset: (8425, 23)\n",
      "name of the columns Index(['Date', 'Location', 'MinTemp', 'MaxTemp', 'Rainfall', 'Evaporation',\n",
      "       'Sunshine', 'WindGustDir', 'WindGustSpeed', 'WindDir9am', 'WindDir3pm',\n",
      "       'WindSpeed9am', 'WindSpeed3pm', 'Humidity9am', 'Humidity3pm',\n",
      "       'Pressure9am', 'Pressure3pm', 'Cloud9am', 'Cloud3pm', 'Temp9am',\n",
      "       'Temp3pm', 'RainToday', 'RainTomorrow'],\n",
      "      dtype='object')\n"
     ]
    }
   ],
   "source": [
    "print(\"size of the dataset:\",df.shape)\n",
    "print(\"name of the columns\",df.columns)"
   ]
  },
  {
   "cell_type": "markdown",
   "metadata": {},
   "source": [
    "Date  - The date of observation\n",
    "\n",
    "Location  -The common name of the location of the weather station\n",
    "\n",
    "MinTemp  -The minimum temperature in degrees celsius\n",
    "\n",
    "MaxTemp -The maximum temperature in degrees celsius\n",
    "\n",
    "Rainfall  -The amount of rainfall recorded for the day in mm\n",
    "\n",
    "Evaporation  -The so-called Class A pan evaporation (mm) in the 24 hours to 9am\n",
    "\n",
    "Sunshine  -The number of hours of bright sunshine in the day.\n",
    "\n",
    "WindGustDi r- The direction of the strongest wind gust in the 24 hours to midnight\n",
    "\n",
    "WindGustSpeed -The speed (km/h) of the strongest wind gust in the 24 hours to midnight\n",
    "\n",
    "WindDir9am -Direction of the wind at 9am\n",
    "\n",
    "WindDir3pm -Direction of the wind at 3pm\n",
    "\n",
    "WindSpeed9am -Wind speed (km/hr) averaged over 10 minutes prior to 9am\n",
    "\n",
    "WindSpeed3pm -Wind speed (km/hr) averaged over 10 minutes prior to 3pm\n",
    "\n",
    "Humidity9am -Humidity (percent) at 9am\n",
    "\n",
    "Humidity3pm -Humidity (percent) at 3pm\n",
    "\n",
    "Pressure9am -Atmospheric pressure (hpa) reduced to mean sea level at 9am\n",
    "\n",
    "Pressure3pm -Atmospheric pressure (hpa) reduced to mean sea level at 3pm\n",
    "\n",
    "Cloud9am - Fraction of sky obscured by cloud at 9am. \n",
    "\n",
    "Cloud3pm -Fraction of sky obscured by cloud \n",
    "\n",
    "Temp9am-Temperature (degrees C) at 9am\n",
    "\n",
    "Temp3pm -Temperature (degrees C) at 3pm\n",
    "\n",
    "RainToday -Boolean: 1 if precipitation (mm) in the 24 hours to 9am exceeds 1mm, otherwise 0\n",
    "\n",
    "RainTomorrow -The amount of next day rain in mm. Used to create response variable . A kind of measure of the \"risk\"."
   ]
  },
  {
   "cell_type": "code",
   "execution_count": 5,
   "metadata": {},
   "outputs": [
    {
     "data": {
      "text/plain": [
       "Date                0\n",
       "Location            0\n",
       "MinTemp            75\n",
       "MaxTemp            60\n",
       "Rainfall          240\n",
       "Evaporation      3512\n",
       "Sunshine         3994\n",
       "WindGustDir       991\n",
       "WindGustSpeed     991\n",
       "WindDir9am        829\n",
       "WindDir3pm        308\n",
       "WindSpeed9am       76\n",
       "WindSpeed3pm      107\n",
       "Humidity9am        59\n",
       "Humidity3pm       102\n",
       "Pressure9am      1309\n",
       "Pressure3pm      1312\n",
       "Cloud9am         2421\n",
       "Cloud3pm         2455\n",
       "Temp9am            56\n",
       "Temp3pm            96\n",
       "RainToday         240\n",
       "RainTomorrow      239\n",
       "dtype: int64"
      ]
     },
     "execution_count": 5,
     "metadata": {},
     "output_type": "execute_result"
    }
   ],
   "source": [
    "df.isnull().sum()"
   ]
  },
  {
   "cell_type": "code",
   "execution_count": 6,
   "metadata": {},
   "outputs": [
    {
     "name": "stdout",
     "output_type": "stream",
     "text": [
      "(6762, 23)\n"
     ]
    }
   ],
   "source": [
    "#first remove duplicates & recheck the size\n",
    "df.drop_duplicates(inplace=True)\n",
    "\n",
    "print(df.shape)"
   ]
  },
  {
   "cell_type": "markdown",
   "metadata": {},
   "source": [
    "After removing duplicate, our data reduce from 8425 to 6762"
   ]
  },
  {
   "cell_type": "code",
   "execution_count": 7,
   "metadata": {},
   "outputs": [],
   "source": [
    "# let's change the date column from object to datetime\n",
    "df[\"Date\"] = pd.to_datetime(df[\"Date\"])"
   ]
  },
  {
   "cell_type": "code",
   "execution_count": 8,
   "metadata": {},
   "outputs": [],
   "source": [
    "# extract day,month and year for better understanding of the model\n",
    "df['Month']=df['Date'].apply(lambda x:x.month) \n",
    "df['Day']=df['Date'].apply(lambda x:x.day)  \n",
    "df['year']=df['Date'].apply(lambda x:x.year) "
   ]
  },
  {
   "cell_type": "code",
   "execution_count": 9,
   "metadata": {},
   "outputs": [],
   "source": [
    "# lets drop date column\n",
    "df.drop(\"Date\",axis=1,inplace = True)"
   ]
  },
  {
   "cell_type": "code",
   "execution_count": 10,
   "metadata": {},
   "outputs": [],
   "source": [
    "# here, I am using Interpolation for handling missing value"
   ]
  },
  {
   "cell_type": "markdown",
   "metadata": {},
   "source": [
    "Interpolation: \n",
    "\n",
    "Interpolation methods estimate missing values based on the available data points. Common interpolation techniques include linear interpolation, polynomial interpolation, and spline interpolation."
   ]
  },
  {
   "cell_type": "markdown",
   "metadata": {},
   "source": [
    "For Continuous Columns:\n",
    "\n",
    "Linear interpolation, polynomial interpolation, and spline interpolation are suitable methods for filling missing values in continuous columns."
   ]
  },
  {
   "cell_type": "code",
   "execution_count": 11,
   "metadata": {},
   "outputs": [],
   "source": [
    "for column in df.columns:\n",
    "    if pd.api.types.is_numeric_dtype(df[column]):\n",
    "        df[column].interpolate(method='linear', inplace=True) "
   ]
  },
  {
   "cell_type": "code",
   "execution_count": 12,
   "metadata": {},
   "outputs": [],
   "source": [
    "# Identify categorical columns\n",
    "categorical_columns = df.select_dtypes(include='object').columns\n",
    "\n",
    "# Handle missing values in categorical columns using mode\n",
    "for column in categorical_columns:\n",
    "    df[column].fillna(df[column].mode()[0], inplace=True)"
   ]
  },
  {
   "cell_type": "code",
   "execution_count": 13,
   "metadata": {},
   "outputs": [
    {
     "data": {
      "text/plain": [
       "Location           0\n",
       "MinTemp            0\n",
       "MaxTemp            0\n",
       "Rainfall           0\n",
       "Evaporation      907\n",
       "Sunshine         907\n",
       "WindGustDir        0\n",
       "WindGustSpeed      0\n",
       "WindDir9am         0\n",
       "WindDir3pm         0\n",
       "WindSpeed9am       0\n",
       "WindSpeed3pm       0\n",
       "Humidity9am        0\n",
       "Humidity3pm        0\n",
       "Pressure9am        0\n",
       "Pressure3pm        0\n",
       "Cloud9am           0\n",
       "Cloud3pm           2\n",
       "Temp9am            0\n",
       "Temp3pm            0\n",
       "RainToday          0\n",
       "RainTomorrow       0\n",
       "Month              0\n",
       "Day                0\n",
       "year               0\n",
       "dtype: int64"
      ]
     },
     "execution_count": 13,
     "metadata": {},
     "output_type": "execute_result"
    }
   ],
   "source": [
    "df.isnull().sum()"
   ]
  },
  {
   "cell_type": "markdown",
   "metadata": {},
   "source": [
    "The variables \"Evaporation\" and \"Sunshine\" still contain outliers, and missing values are located at the beginning and end of the dataset, making interpolation inaccurate. Therefore, it is essential to handle these outliers and missing values effectively."
   ]
  },
  {
   "cell_type": "code",
   "execution_count": 14,
   "metadata": {},
   "outputs": [],
   "source": [
    "df[\"Evaporation\"] = df[\"Evaporation\"].fillna(df[\"Evaporation\"].mean())\n",
    "df[\"Sunshine\"] = df[\"Sunshine\"].fillna(df[\"Sunshine\"].mean())"
   ]
  },
  {
   "cell_type": "code",
   "execution_count": null,
   "metadata": {},
   "outputs": [],
   "source": []
  },
  {
   "cell_type": "code",
   "execution_count": 15,
   "metadata": {},
   "outputs": [],
   "source": [
    "df[\"Cloud3pm\"] = df[\"Cloud3pm\"].fillna(df[\"Cloud3pm\"].mean())"
   ]
  },
  {
   "cell_type": "code",
   "execution_count": 16,
   "metadata": {},
   "outputs": [
    {
     "data": {
      "text/plain": [
       "Location         0\n",
       "MinTemp          0\n",
       "MaxTemp          0\n",
       "Rainfall         0\n",
       "Evaporation      0\n",
       "Sunshine         0\n",
       "WindGustDir      0\n",
       "WindGustSpeed    0\n",
       "WindDir9am       0\n",
       "WindDir3pm       0\n",
       "WindSpeed9am     0\n",
       "WindSpeed3pm     0\n",
       "Humidity9am      0\n",
       "Humidity3pm      0\n",
       "Pressure9am      0\n",
       "Pressure3pm      0\n",
       "Cloud9am         0\n",
       "Cloud3pm         0\n",
       "Temp9am          0\n",
       "Temp3pm          0\n",
       "RainToday        0\n",
       "RainTomorrow     0\n",
       "Month            0\n",
       "Day              0\n",
       "year             0\n",
       "dtype: int64"
      ]
     },
     "execution_count": 16,
     "metadata": {},
     "output_type": "execute_result"
    }
   ],
   "source": [
    "df.isnull().sum()"
   ]
  },
  {
   "cell_type": "code",
   "execution_count": 17,
   "metadata": {},
   "outputs": [
    {
     "data": {
      "text/html": [
       "<div>\n",
       "<style scoped>\n",
       "    .dataframe tbody tr th:only-of-type {\n",
       "        vertical-align: middle;\n",
       "    }\n",
       "\n",
       "    .dataframe tbody tr th {\n",
       "        vertical-align: top;\n",
       "    }\n",
       "\n",
       "    .dataframe thead th {\n",
       "        text-align: right;\n",
       "    }\n",
       "</style>\n",
       "<table border=\"1\" class=\"dataframe\">\n",
       "  <thead>\n",
       "    <tr style=\"text-align: right;\">\n",
       "      <th></th>\n",
       "      <th>MinTemp</th>\n",
       "      <th>MaxTemp</th>\n",
       "      <th>Rainfall</th>\n",
       "      <th>Evaporation</th>\n",
       "      <th>Sunshine</th>\n",
       "      <th>WindGustSpeed</th>\n",
       "      <th>WindSpeed9am</th>\n",
       "      <th>WindSpeed3pm</th>\n",
       "      <th>Humidity9am</th>\n",
       "      <th>Humidity3pm</th>\n",
       "      <th>Pressure9am</th>\n",
       "      <th>Pressure3pm</th>\n",
       "      <th>Cloud9am</th>\n",
       "      <th>Cloud3pm</th>\n",
       "      <th>Temp9am</th>\n",
       "      <th>Temp3pm</th>\n",
       "      <th>Month</th>\n",
       "      <th>Day</th>\n",
       "      <th>year</th>\n",
       "    </tr>\n",
       "  </thead>\n",
       "  <tbody>\n",
       "    <tr>\n",
       "      <th>count</th>\n",
       "      <td>6762.000000</td>\n",
       "      <td>6762.000000</td>\n",
       "      <td>6762.000000</td>\n",
       "      <td>6762.000000</td>\n",
       "      <td>6762.000000</td>\n",
       "      <td>6762.000000</td>\n",
       "      <td>6762.000000</td>\n",
       "      <td>6762.000000</td>\n",
       "      <td>6762.000000</td>\n",
       "      <td>6762.000000</td>\n",
       "      <td>6762.000000</td>\n",
       "      <td>6762.000000</td>\n",
       "      <td>6762.000000</td>\n",
       "      <td>6762.000000</td>\n",
       "      <td>6762.000000</td>\n",
       "      <td>6762.000000</td>\n",
       "      <td>6762.000000</td>\n",
       "      <td>6762.000000</td>\n",
       "      <td>6762.000000</td>\n",
       "    </tr>\n",
       "    <tr>\n",
       "      <th>mean</th>\n",
       "      <td>13.108836</td>\n",
       "      <td>24.108503</td>\n",
       "      <td>2.978217</td>\n",
       "      <td>7.257131</td>\n",
       "      <td>8.692442</td>\n",
       "      <td>38.300429</td>\n",
       "      <td>12.730331</td>\n",
       "      <td>17.593833</td>\n",
       "      <td>67.567657</td>\n",
       "      <td>50.463324</td>\n",
       "      <td>1018.665343</td>\n",
       "      <td>1015.727418</td>\n",
       "      <td>4.298211</td>\n",
       "      <td>4.121820</td>\n",
       "      <td>17.900222</td>\n",
       "      <td>22.719055</td>\n",
       "      <td>6.462141</td>\n",
       "      <td>15.737208</td>\n",
       "      <td>2012.052203</td>\n",
       "    </tr>\n",
       "    <tr>\n",
       "      <th>std</th>\n",
       "      <td>5.561909</td>\n",
       "      <td>6.149542</td>\n",
       "      <td>10.931806</td>\n",
       "      <td>8.014326</td>\n",
       "      <td>3.056251</td>\n",
       "      <td>14.240512</td>\n",
       "      <td>9.829059</td>\n",
       "      <td>9.646323</td>\n",
       "      <td>17.222478</td>\n",
       "      <td>18.626494</td>\n",
       "      <td>6.403870</td>\n",
       "      <td>6.113283</td>\n",
       "      <td>2.897597</td>\n",
       "      <td>2.689265</td>\n",
       "      <td>5.738197</td>\n",
       "      <td>5.986658</td>\n",
       "      <td>3.377471</td>\n",
       "      <td>8.793898</td>\n",
       "      <td>2.301057</td>\n",
       "    </tr>\n",
       "    <tr>\n",
       "      <th>min</th>\n",
       "      <td>-2.000000</td>\n",
       "      <td>8.200000</td>\n",
       "      <td>0.000000</td>\n",
       "      <td>0.000000</td>\n",
       "      <td>0.000000</td>\n",
       "      <td>7.000000</td>\n",
       "      <td>0.000000</td>\n",
       "      <td>0.000000</td>\n",
       "      <td>10.000000</td>\n",
       "      <td>6.000000</td>\n",
       "      <td>989.800000</td>\n",
       "      <td>982.900000</td>\n",
       "      <td>0.000000</td>\n",
       "      <td>0.000000</td>\n",
       "      <td>1.900000</td>\n",
       "      <td>7.300000</td>\n",
       "      <td>1.000000</td>\n",
       "      <td>1.000000</td>\n",
       "      <td>2008.000000</td>\n",
       "    </tr>\n",
       "    <tr>\n",
       "      <th>25%</th>\n",
       "      <td>9.000000</td>\n",
       "      <td>19.500000</td>\n",
       "      <td>0.000000</td>\n",
       "      <td>4.000000</td>\n",
       "      <td>7.800000</td>\n",
       "      <td>28.000000</td>\n",
       "      <td>6.000000</td>\n",
       "      <td>9.000000</td>\n",
       "      <td>56.000000</td>\n",
       "      <td>37.000000</td>\n",
       "      <td>1014.200000</td>\n",
       "      <td>1011.500000</td>\n",
       "      <td>1.000000</td>\n",
       "      <td>1.000000</td>\n",
       "      <td>13.800000</td>\n",
       "      <td>18.400000</td>\n",
       "      <td>4.000000</td>\n",
       "      <td>8.000000</td>\n",
       "      <td>2010.000000</td>\n",
       "    </tr>\n",
       "    <tr>\n",
       "      <th>50%</th>\n",
       "      <td>13.200000</td>\n",
       "      <td>23.500000</td>\n",
       "      <td>0.000000</td>\n",
       "      <td>5.793870</td>\n",
       "      <td>8.829487</td>\n",
       "      <td>37.000000</td>\n",
       "      <td>11.000000</td>\n",
       "      <td>17.000000</td>\n",
       "      <td>68.000000</td>\n",
       "      <td>50.000000</td>\n",
       "      <td>1019.600000</td>\n",
       "      <td>1016.800000</td>\n",
       "      <td>5.000000</td>\n",
       "      <td>4.000000</td>\n",
       "      <td>18.000000</td>\n",
       "      <td>22.200000</td>\n",
       "      <td>6.000000</td>\n",
       "      <td>16.000000</td>\n",
       "      <td>2012.000000</td>\n",
       "    </tr>\n",
       "    <tr>\n",
       "      <th>75%</th>\n",
       "      <td>17.500000</td>\n",
       "      <td>28.400000</td>\n",
       "      <td>1.000000</td>\n",
       "      <td>7.257131</td>\n",
       "      <td>11.100000</td>\n",
       "      <td>46.633354</td>\n",
       "      <td>19.000000</td>\n",
       "      <td>24.000000</td>\n",
       "      <td>81.000000</td>\n",
       "      <td>63.000000</td>\n",
       "      <td>1023.200000</td>\n",
       "      <td>1019.400000</td>\n",
       "      <td>7.000000</td>\n",
       "      <td>7.000000</td>\n",
       "      <td>22.200000</td>\n",
       "      <td>26.800000</td>\n",
       "      <td>9.000000</td>\n",
       "      <td>23.000000</td>\n",
       "      <td>2014.000000</td>\n",
       "    </tr>\n",
       "    <tr>\n",
       "      <th>max</th>\n",
       "      <td>28.500000</td>\n",
       "      <td>45.500000</td>\n",
       "      <td>371.000000</td>\n",
       "      <td>145.000000</td>\n",
       "      <td>13.900000</td>\n",
       "      <td>107.000000</td>\n",
       "      <td>63.000000</td>\n",
       "      <td>83.000000</td>\n",
       "      <td>100.000000</td>\n",
       "      <td>99.000000</td>\n",
       "      <td>1039.000000</td>\n",
       "      <td>1036.000000</td>\n",
       "      <td>8.000000</td>\n",
       "      <td>8.000000</td>\n",
       "      <td>39.400000</td>\n",
       "      <td>44.100000</td>\n",
       "      <td>12.000000</td>\n",
       "      <td>31.000000</td>\n",
       "      <td>2017.000000</td>\n",
       "    </tr>\n",
       "  </tbody>\n",
       "</table>\n",
       "</div>"
      ],
      "text/plain": [
       "           MinTemp      MaxTemp     Rainfall  Evaporation     Sunshine  \\\n",
       "count  6762.000000  6762.000000  6762.000000  6762.000000  6762.000000   \n",
       "mean     13.108836    24.108503     2.978217     7.257131     8.692442   \n",
       "std       5.561909     6.149542    10.931806     8.014326     3.056251   \n",
       "min      -2.000000     8.200000     0.000000     0.000000     0.000000   \n",
       "25%       9.000000    19.500000     0.000000     4.000000     7.800000   \n",
       "50%      13.200000    23.500000     0.000000     5.793870     8.829487   \n",
       "75%      17.500000    28.400000     1.000000     7.257131    11.100000   \n",
       "max      28.500000    45.500000   371.000000   145.000000    13.900000   \n",
       "\n",
       "       WindGustSpeed  WindSpeed9am  WindSpeed3pm  Humidity9am  Humidity3pm  \\\n",
       "count    6762.000000   6762.000000   6762.000000  6762.000000  6762.000000   \n",
       "mean       38.300429     12.730331     17.593833    67.567657    50.463324   \n",
       "std        14.240512      9.829059      9.646323    17.222478    18.626494   \n",
       "min         7.000000      0.000000      0.000000    10.000000     6.000000   \n",
       "25%        28.000000      6.000000      9.000000    56.000000    37.000000   \n",
       "50%        37.000000     11.000000     17.000000    68.000000    50.000000   \n",
       "75%        46.633354     19.000000     24.000000    81.000000    63.000000   \n",
       "max       107.000000     63.000000     83.000000   100.000000    99.000000   \n",
       "\n",
       "       Pressure9am  Pressure3pm     Cloud9am     Cloud3pm      Temp9am  \\\n",
       "count  6762.000000  6762.000000  6762.000000  6762.000000  6762.000000   \n",
       "mean   1018.665343  1015.727418     4.298211     4.121820    17.900222   \n",
       "std       6.403870     6.113283     2.897597     2.689265     5.738197   \n",
       "min     989.800000   982.900000     0.000000     0.000000     1.900000   \n",
       "25%    1014.200000  1011.500000     1.000000     1.000000    13.800000   \n",
       "50%    1019.600000  1016.800000     5.000000     4.000000    18.000000   \n",
       "75%    1023.200000  1019.400000     7.000000     7.000000    22.200000   \n",
       "max    1039.000000  1036.000000     8.000000     8.000000    39.400000   \n",
       "\n",
       "           Temp3pm        Month          Day         year  \n",
       "count  6762.000000  6762.000000  6762.000000  6762.000000  \n",
       "mean     22.719055     6.462141    15.737208  2012.052203  \n",
       "std       5.986658     3.377471     8.793898     2.301057  \n",
       "min       7.300000     1.000000     1.000000  2008.000000  \n",
       "25%      18.400000     4.000000     8.000000  2010.000000  \n",
       "50%      22.200000     6.000000    16.000000  2012.000000  \n",
       "75%      26.800000     9.000000    23.000000  2014.000000  \n",
       "max      44.100000    12.000000    31.000000  2017.000000  "
      ]
     },
     "execution_count": 17,
     "metadata": {},
     "output_type": "execute_result"
    }
   ],
   "source": [
    "df.describe()"
   ]
  },
  {
   "cell_type": "markdown",
   "metadata": {},
   "source": [
    "In the statistical analysis of the dataset, the mean and median of all columns show slight differences, indicating relatively symmetric data distribution. However, further investigation is needed to check for skewness. Moreover, a significant number of columns exhibit a notable difference between the 75th percentile and the maximum value, indicating the presence of outliers. To ensure accurate analysis, a detailed approach for handling outliers should be implemented."
   ]
  },
  {
   "cell_type": "code",
   "execution_count": 18,
   "metadata": {},
   "outputs": [],
   "source": [
    "conti_col = df[['MinTemp','MaxTemp','Rainfall','Evaporation','Sunshine','WindGustSpeed','WindSpeed9am','WindSpeed3pm','Humidity9am','Humidity3pm','Pressure9am','Pressure3pm','Cloud9am','Cloud3pm','Temp9am','Temp3pm',\n",
    " 'Month','Day','year']]"
   ]
  },
  {
   "cell_type": "code",
   "execution_count": 19,
   "metadata": {},
   "outputs": [
    {
     "data": {
      "image/png": "[encoded data removed]",
      "text/plain": [
       "<Figure size 432x288 with 1 Axes>"
      ]
     },
     "metadata": {
      "needs_background": "light"
     },
     "output_type": "display_data"
    }
   ],
   "source": [
    "sns.countplot(x='RainToday',data=df)\n",
    "plt.show()"
   ]
  },
  {
   "cell_type": "markdown",
   "metadata": {},
   "source": [
    "Here we can understand the precipitation amount was 1 mm or less, or if there was no rain at all in the specific day."
   ]
  },
  {
   "cell_type": "code",
   "execution_count": 20,
   "metadata": {},
   "outputs": [
    {
     "data": {
      "image/png": "[encoded data removed]",
      "text/plain": [
       "<Figure size 432x288 with 1 Axes>"
      ]
     },
     "metadata": {
      "needs_background": "light"
     },
     "output_type": "display_data"
    }
   ],
   "source": [
    "sns.countplot(x='RainTomorrow',data=df)\n",
    "plt.show()"
   ]
  },
  {
   "cell_type": "markdown",
   "metadata": {},
   "source": [
    "Through the collected data we can understand that there is no rain or less than 1mm rain in tomorrow"
   ]
  },
  {
   "cell_type": "code",
   "execution_count": 21,
   "metadata": {},
   "outputs": [
    {
     "data": {
      "image/png": "[encoded data removed]",
      "text/plain": [
       "<Figure size 432x288 with 1 Axes>"
      ]
     },
     "metadata": {
      "needs_background": "light"
     },
     "output_type": "display_data"
    }
   ],
   "source": [
    "sns.countplot(y='WindGustDir',data=df)\n",
    "plt.show()"
   ]
  },
  {
   "cell_type": "markdown",
   "metadata": {},
   "source": [
    "The direction of the strongest wind in 24 hours from East "
   ]
  },
  {
   "cell_type": "code",
   "execution_count": 22,
   "metadata": {},
   "outputs": [
    {
     "data": {
      "image/png": "[encoded data removed]",
      "text/plain": [
       "<Figure size 432x288 with 1 Axes>"
      ]
     },
     "metadata": {
      "needs_background": "light"
     },
     "output_type": "display_data"
    }
   ],
   "source": [
    "sns.countplot(y='WindDir9am',data=df)\n",
    "plt.show()"
   ]
  },
  {
   "cell_type": "markdown",
   "metadata": {},
   "source": [
    "The average wind speed measured every 10 minutes (up to 9am) is notably higher when coming from the North direction. This implies that the wind tends to be stronger and more prevalent when it blows from the North compared to other directions. "
   ]
  },
  {
   "cell_type": "code",
   "execution_count": 23,
   "metadata": {},
   "outputs": [
    {
     "data": {
      "image/png": "[encoded data removed]",
      "text/plain": [
       "<Figure size 432x288 with 1 Axes>"
      ]
     },
     "metadata": {
      "needs_background": "light"
     },
     "output_type": "display_data"
    }
   ],
   "source": [
    "sns.countplot(y='WindDir3pm',data=df)\n",
    "plt.show()"
   ]
  },
  {
   "cell_type": "markdown",
   "metadata": {},
   "source": [
    "The average wind speed measured every 10 minutes (up to 3pm) is notably higher when coming from the Southeast direction. This implies that the wind tends to be stronger and more prevalent when it blows from the SouthEast compared to other directions."
   ]
  },
  {
   "cell_type": "code",
   "execution_count": 24,
   "metadata": {},
   "outputs": [
    {
     "data": {
      "text/plain": [
       "No     5190\n",
       "Yes    1572\n",
       "Name: RainTomorrow, dtype: int64"
      ]
     },
     "execution_count": 24,
     "metadata": {},
     "output_type": "execute_result"
    }
   ],
   "source": [
    "df[\"RainTomorrow\"].value_counts()"
   ]
  },
  {
   "cell_type": "markdown",
   "metadata": {},
   "source": [
    "This is our one of the target and this is classification type and here, we can see the imbalancing issue so need to handle it"
   ]
  },
  {
   "cell_type": "code",
   "execution_count": 25,
   "metadata": {},
   "outputs": [
    {
     "data": {
      "text/plain": [
       "0.000000     4347\n",
       "0.200000      325\n",
       "0.400000      145\n",
       "0.600000       87\n",
       "1.200000       70\n",
       "             ... \n",
       "15.700000       1\n",
       "45.800000       1\n",
       "3.200000        1\n",
       "37.600000       1\n",
       "0.866667        1\n",
       "Name: Rainfall, Length: 339, dtype: int64"
      ]
     },
     "execution_count": 25,
     "metadata": {},
     "output_type": "execute_result"
    }
   ],
   "source": [
    "df[\"Rainfall\"].value_counts()"
   ]
  },
  {
   "cell_type": "markdown",
   "metadata": {},
   "source": [
    "it is continues type problem"
   ]
  },
  {
   "cell_type": "code",
   "execution_count": 26,
   "metadata": {},
   "outputs": [],
   "source": [
    "#\"WindDir9am, WindDir3pm\" drop these two columns bcs we have another column which is the average value of these two column\n",
    "df.drop([\"WindDir9am\", \"WindDir3pm\"],axis = 1, inplace= True)"
   ]
  },
  {
   "cell_type": "code",
   "execution_count": 27,
   "metadata": {},
   "outputs": [],
   "source": [
    "from sklearn.preprocessing import LabelEncoder"
   ]
  },
  {
   "cell_type": "code",
   "execution_count": 28,
   "metadata": {},
   "outputs": [],
   "source": [
    "code = LabelEncoder()\n",
    "for i in df.columns:\n",
    "    if df[i].dtypes==\"object\":\n",
    "        df[i]=code.fit_transform(df[i].values.reshape(-1,1))"
   ]
  },
  {
   "cell_type": "code",
   "execution_count": 29,
   "metadata": {},
   "outputs": [
    {
     "data": {
      "image/png": "[encoded data removed]",
      "text/plain": [
       "<Figure size 2880x1440 with 1 Axes>"
      ]
     },
     "metadata": {
      "needs_background": "light"
     },
     "output_type": "display_data"
    }
   ],
   "source": [
    "df.boxplot(figsize=(40,20))\n",
    "plt.subplots_adjust(bottom=0.25)\n",
    "plt.show()"
   ]
  },
  {
   "cell_type": "code",
   "execution_count": 30,
   "metadata": {},
   "outputs": [],
   "source": [
    "# handle outliers\n",
    "from scipy.stats import zscore"
   ]
  },
  {
   "cell_type": "code",
   "execution_count": 31,
   "metadata": {},
   "outputs": [],
   "source": [
    "# Target column : RainTomorrow"
   ]
  },
  {
   "cell_type": "code",
   "execution_count": 32,
   "metadata": {},
   "outputs": [],
   "source": [
    "# drop year bcs it is not neccessary for prediction\n",
    "df.drop(\"year\",axis = 1, inplace=True)"
   ]
  },
  {
   "cell_type": "code",
   "execution_count": 33,
   "metadata": {},
   "outputs": [
    {
     "data": {
      "text/plain": [
       "(6762, 17)"
      ]
     },
     "execution_count": 33,
     "metadata": {},
     "output_type": "execute_result"
    }
   ],
   "source": [
    "variables = df[['MinTemp','MaxTemp','Rainfall','Evaporation','Sunshine','WindGustSpeed','Humidity9am','Humidity3pm','Pressure9am',\n",
    "               'Pressure3pm','Cloud9am','Cloud3pm','Temp9am','Temp3pm','RainToday','Month','Day']]\n",
    "z = np.abs(zscore(variables))\n",
    "z.shape"
   ]
  },
  {
   "cell_type": "code",
   "execution_count": 34,
   "metadata": {},
   "outputs": [
    {
     "name": "stdout",
     "output_type": "stream",
     "text": [
      "(array([  12,   12,   44,   44,   52,   60,   60,   61,   61,   62,   62,\n",
      "         62,   67,   68,   68,  123,  267,  271,  296,  381,  405,  406,\n",
      "        407,  431,  462,  563,  568,  602,  683,  683,  699,  713,  748,\n",
      "        748,  796,  797,  802,  928,  929,  935,  949,  979,  980,  980,\n",
      "       1008, 1009, 1011, 1138, 1148, 1149, 1151, 1203, 1237, 1241, 1264,\n",
      "       1265, 1357, 1411, 1412, 1479, 1480, 1481, 1513, 1661, 1673, 1680,\n",
      "       1774, 1818, 1819, 2108, 2116, 2199, 2200, 2201, 2231, 2265, 2429,\n",
      "       2488, 2500, 2505, 2527, 2527, 2541, 2593, 2676, 2677, 2735, 2859,\n",
      "       2877, 2890, 2898, 2900, 2901, 2909, 3003, 3051, 3051, 3058, 3059,\n",
      "       3059, 3066, 3067, 3070, 3082, 3089, 3099, 3167, 3172, 3173, 3174,\n",
      "       3175, 3176, 3177, 3178, 3202, 3203, 3204, 3205, 3206, 3212, 3212,\n",
      "       3213, 3221, 3233, 3234, 3234, 3235, 3236, 3237, 3238, 3239, 3240,\n",
      "       3241, 3241, 3242, 3242, 3243, 3243, 3244, 3244, 3245, 3245, 3246,\n",
      "       3246, 3247, 3247, 3248, 3248, 3258, 3259, 3260, 3261, 3262, 3263,\n",
      "       3264, 3265, 3266, 3267, 3268, 3269, 3270, 3271, 3272, 3273, 3274,\n",
      "       3275, 3276, 3277, 3278, 3278, 3279, 3280, 3280, 3281, 3282, 3283,\n",
      "       3284, 3285, 3286, 3287, 3288, 3289, 3290, 3291, 3291, 3292, 3293,\n",
      "       3294, 3295, 3296, 3297, 3298, 3299, 3300, 3301, 3302, 3302, 3302,\n",
      "       3303, 3303, 3304, 3305, 3306, 3307, 3308, 3309, 3310, 3311, 3312,\n",
      "       3313, 3314, 3315, 3316, 3317, 3318, 3319, 3320, 3321, 3322, 3323,\n",
      "       3324, 3325, 3326, 3327, 3328, 3329, 3330, 3331, 3332, 3333, 3334,\n",
      "       3335, 3336, 3337, 3338, 3339, 3340, 3341, 3342, 3343, 3344, 3345,\n",
      "       3346, 3347, 3348, 3349, 3350, 3350, 3351, 3352, 3353, 3354, 3355,\n",
      "       3356, 3357, 3358, 3359, 3360, 3361, 3362, 3363, 3364, 3365, 3366,\n",
      "       3367, 3368, 3369, 3370, 3371, 3372, 3373, 3374, 3375, 3376, 3377,\n",
      "       3378, 3379, 3380, 3381, 3382, 3383, 3384, 3385, 3386, 3387, 3388,\n",
      "       3389, 3390, 3391, 3392, 3393, 3394, 3395, 3396, 3397, 3398, 3399,\n",
      "       3400, 3401, 3402, 3403, 3404, 3405, 3406, 3407, 3408, 3409, 3410,\n",
      "       3411, 3412, 3413, 3414, 3419, 3421, 3430, 3449, 3449, 3449, 3449,\n",
      "       3450, 3450, 3450, 3491, 3571, 3602, 3603, 3607, 3621, 3675, 3676,\n",
      "       3676, 3714, 3716, 3716, 3766, 3766, 3820, 3821, 3826, 3923, 3927,\n",
      "       3928, 3928, 3962, 3981, 3985, 3993, 4002, 4002, 4003, 4043, 4043,\n",
      "       4059, 4108, 4108, 4157, 4158, 4170, 4323, 4324, 4324, 4336, 4352,\n",
      "       4362, 4362, 4362, 4412, 4422, 4449, 4486, 4519, 4778, 4817, 4826,\n",
      "       4857, 4920, 4921, 5095, 5123, 5130, 5131, 5185, 5217, 5223, 5240,\n",
      "       5270, 5271, 5297, 5315, 5330, 5448, 5506, 5524, 5524, 5619, 5640,\n",
      "       5663, 5703, 5799, 5799, 5902, 5912, 5939, 5970, 5970, 6072, 6072,\n",
      "       6194, 6209, 6320, 6320, 6321, 6321, 6321, 6437, 6473, 6481, 6482,\n",
      "       6482, 6522], dtype=int64), array([ 8,  9,  1, 13,  5,  1, 13,  1, 13,  1,  5, 13, 13,  1, 13,  5,  5,\n",
      "        9,  8,  5, 13, 13, 13,  2,  2,  5,  9,  9,  8,  9,  2,  2,  8,  9,\n",
      "        2,  2,  2,  2,  2,  2,  2,  2,  2,  5,  2,  2,  2,  2,  2,  2,  2,\n",
      "        2,  2,  2,  2,  2,  2,  2,  2,  2,  2,  2,  2,  2,  2,  2,  2,  2,\n",
      "        2,  2,  2,  2,  2,  2,  2,  2,  2,  2,  5,  5,  1, 13,  2,  2,  2,\n",
      "        2,  2, 13,  3,  2,  2,  2,  2,  2,  2,  2,  9,  9,  8,  9,  5,  5,\n",
      "        5,  5,  5,  5,  9,  3,  3,  3,  3,  3,  3,  3,  3,  3,  3,  3,  3,\n",
      "        8,  9,  3,  3,  3,  3,  5,  3,  3,  3,  3,  3,  3,  2,  3,  2,  3,\n",
      "        2,  3,  2,  3,  2,  3,  2,  3,  2,  3,  2,  3,  3,  3,  3,  3,  3,\n",
      "        3,  3,  3,  3,  3,  3,  3,  3,  3,  3,  3,  3,  3,  3,  3,  3, 12,\n",
      "        3,  3,  9,  3,  3,  3,  3,  3,  3,  3,  3,  3,  3,  3, 13,  3,  3,\n",
      "        3,  3,  3,  3,  3,  3,  3,  3,  1,  3, 13,  3,  9,  3,  3,  3,  3,\n",
      "        3,  3,  3,  3,  3,  3,  3,  3,  3,  3,  3,  3,  3,  3,  3,  3,  3,\n",
      "        3,  3,  3,  3,  3,  3,  3,  3,  3,  3,  3,  3,  3,  3,  3,  3,  3,\n",
      "        3,  3,  3,  3,  3,  3,  3,  3,  2,  3,  3,  3,  3,  3,  3,  3,  3,\n",
      "        3,  3,  3,  3,  3,  3,  3,  3,  3,  3,  3,  3,  3,  3,  3,  3,  3,\n",
      "        3,  3,  3,  3,  3,  3,  3,  3,  3,  3,  3,  3,  3,  3,  3,  3,  3,\n",
      "        3,  3,  3,  3,  3,  3,  3,  3,  3,  3,  3,  3,  3,  3,  3,  3,  3,\n",
      "        3,  3,  3,  3,  3,  3,  2,  2,  2,  2,  5,  8,  9,  5,  8,  9,  5,\n",
      "        2,  5,  5,  2,  2,  9,  8,  9,  5,  2,  8,  1, 13,  5,  2,  9,  5,\n",
      "        9,  8,  9,  9,  5,  5,  8,  8,  9,  5,  8,  9,  2,  8,  9,  2,  2,\n",
      "        8,  9,  8,  9,  5,  5,  2,  8,  9,  5,  2,  5,  2,  2,  2,  2,  2,\n",
      "        2,  2,  2,  9,  9,  9,  9,  5,  6,  6,  6,  6,  6,  5,  8, 12,  2,\n",
      "        2,  8,  9,  2,  5, 13,  6,  5,  8,  5,  6,  6,  5,  9,  8,  9,  2,\n",
      "        5,  1, 13,  1,  6, 12,  2,  2,  2,  2,  5,  2], dtype=int64))\n"
     ]
    }
   ],
   "source": [
    "threshold = 3\n",
    "print (np.where(z>3))"
   ]
  },
  {
   "cell_type": "code",
   "execution_count": 35,
   "metadata": {},
   "outputs": [
    {
     "name": "stdout",
     "output_type": "stream",
     "text": [
      "Shape before removing outliers: (6762, 22)\n",
      "Shape after removing outliers: (6395, 22)\n"
     ]
    }
   ],
   "source": [
    "print('Shape before removing outliers:', df.shape)\n",
    "\n",
    "df_new = df[(z < threshold).all(axis=1)]\n",
    "\n",
    "print('Shape after removing outliers:', df_new.shape)"
   ]
  },
  {
   "cell_type": "markdown",
   "metadata": {},
   "source": [
    "when remove outlier we lost all the data"
   ]
  },
  {
   "cell_type": "code",
   "execution_count": 36,
   "metadata": {},
   "outputs": [],
   "source": [
    "variables = df[['MinTemp','MaxTemp','Rainfall','Evaporation','Sunshine','WindGustSpeed','Humidity9am','Humidity3pm','Pressure9am',\n",
    "               'Pressure3pm','Cloud9am','Cloud3pm','Temp9am','Temp3pm','RainToday','Month','Day']]\n",
    "def remove_outliers_iqr(df, threshold=1.5):\n",
    "    q1 = df.quantile(0.25)\n",
    "    q3 = df.quantile(0.75)\n",
    "    iqr = q3 - q1\n",
    "    lower_bound = q1 - threshold * iqr\n",
    "    upper_bound = q3 + threshold * iqr\n",
    "\n",
    "    # Replace outliers with NaN or remove them from the DataFrame\n",
    "    df_cleaned = df[((df >= lower_bound) & (df <= upper_bound)).all(axis=1)]\n",
    "\n",
    "    return df_cleaned\n",
    "\n",
    "df_new = remove_outliers_iqr(df)"
   ]
  },
  {
   "cell_type": "code",
   "execution_count": 37,
   "metadata": {},
   "outputs": [
    {
     "name": "stdout",
     "output_type": "stream",
     "text": [
      "Shape before removing outliers: (6762, 22)\n",
      "Shape after removing outliers: (6395, 22)\n"
     ]
    }
   ],
   "source": [
    "print('Shape before removing outliers:', df.shape)\n",
    "\n",
    "df_new = df[(z < threshold).all(axis=1)]\n",
    "\n",
    "print('Shape after removing outliers:', df_new.shape)"
   ]
  },
  {
   "cell_type": "code",
   "execution_count": 38,
   "metadata": {},
   "outputs": [],
   "source": [
    "# target column: Rainfall"
   ]
  },
  {
   "cell_type": "code",
   "execution_count": 39,
   "metadata": {},
   "outputs": [
    {
     "data": {
      "text/plain": [
       "(6762, 16)"
      ]
     },
     "execution_count": 39,
     "metadata": {},
     "output_type": "execute_result"
    }
   ],
   "source": [
    "variables_2 =  df[['MinTemp','MaxTemp','Evaporation','Sunshine','WindGustSpeed','Humidity9am','Humidity3pm','Pressure9am',\n",
    "               'Pressure3pm','Cloud9am','Cloud3pm','Temp9am','Temp3pm','RainToday','Month','Day']]\n",
    "z1 = np.abs(zscore(variables_2))\n",
    "z1.shape"
   ]
  },
  {
   "cell_type": "code",
   "execution_count": 40,
   "metadata": {},
   "outputs": [
    {
     "name": "stdout",
     "output_type": "stream",
     "text": [
      "(array([  12,   12,   44,   44,   52,   60,   60,   61,   61,   62,   62,\n",
      "         62,   67,   68,   68,  123,  267,  271,  296,  381,  405,  406,\n",
      "        407,  563,  568,  602,  683,  683,  748,  748,  980, 2500, 2505,\n",
      "       2527, 2527, 2859, 2877, 3051, 3058, 3059, 3059, 3066, 3067, 3070,\n",
      "       3082, 3089, 3099, 3167, 3172, 3173, 3174, 3175, 3176, 3177, 3178,\n",
      "       3202, 3203, 3204, 3205, 3206, 3212, 3212, 3213, 3221, 3233, 3234,\n",
      "       3234, 3235, 3236, 3237, 3238, 3239, 3240, 3241, 3242, 3243, 3244,\n",
      "       3245, 3246, 3247, 3248, 3258, 3259, 3260, 3261, 3262, 3263, 3264,\n",
      "       3265, 3266, 3267, 3268, 3269, 3270, 3271, 3272, 3273, 3274, 3275,\n",
      "       3276, 3277, 3278, 3278, 3279, 3280, 3280, 3281, 3282, 3283, 3284,\n",
      "       3285, 3286, 3287, 3288, 3289, 3290, 3291, 3291, 3292, 3293, 3294,\n",
      "       3295, 3296, 3297, 3298, 3299, 3300, 3301, 3302, 3302, 3302, 3303,\n",
      "       3303, 3304, 3305, 3306, 3307, 3308, 3309, 3310, 3311, 3312, 3313,\n",
      "       3314, 3315, 3316, 3317, 3318, 3319, 3320, 3321, 3322, 3323, 3324,\n",
      "       3325, 3326, 3327, 3328, 3329, 3330, 3331, 3332, 3333, 3334, 3335,\n",
      "       3336, 3337, 3338, 3339, 3340, 3341, 3342, 3343, 3344, 3345, 3346,\n",
      "       3347, 3348, 3349, 3350, 3351, 3352, 3353, 3354, 3355, 3356, 3357,\n",
      "       3358, 3359, 3360, 3361, 3362, 3363, 3364, 3365, 3366, 3367, 3368,\n",
      "       3369, 3370, 3371, 3372, 3373, 3374, 3375, 3376, 3377, 3378, 3379,\n",
      "       3380, 3381, 3382, 3383, 3384, 3385, 3386, 3387, 3388, 3389, 3390,\n",
      "       3391, 3392, 3393, 3394, 3395, 3396, 3397, 3398, 3399, 3400, 3401,\n",
      "       3402, 3403, 3404, 3405, 3406, 3407, 3408, 3409, 3410, 3411, 3412,\n",
      "       3413, 3414, 3449, 3449, 3449, 3450, 3450, 3450, 3491, 3602, 3603,\n",
      "       3675, 3676, 3676, 3714, 3716, 3766, 3766, 3820, 3826, 3923, 3927,\n",
      "       3928, 3928, 3962, 3981, 3985, 3993, 4002, 4002, 4003, 4043, 4043,\n",
      "       4108, 4108, 4170, 4323, 4324, 4324, 4336, 4352, 4362, 4362, 4412,\n",
      "       4449, 5095, 5123, 5130, 5131, 5185, 5217, 5223, 5240, 5270, 5271,\n",
      "       5297, 5315, 5330, 5524, 5524, 5640, 5663, 5703, 5799, 5799, 5902,\n",
      "       5912, 5939, 5970, 5970, 6072, 6072, 6209, 6320, 6320, 6321, 6321,\n",
      "       6321, 6482], dtype=int64), array([ 7,  8,  1, 12,  4,  1, 12,  1, 12,  1,  4, 12, 12,  1, 12,  4,  4,\n",
      "        8,  7,  4, 12, 12, 12,  4,  8,  8,  7,  8,  7,  8,  4,  4,  4,  1,\n",
      "       12, 12,  2,  8,  8,  7,  8,  4,  4,  4,  4,  4,  4,  8,  2,  2,  2,\n",
      "        2,  2,  2,  2,  2,  2,  2,  2,  2,  7,  8,  2,  2,  2,  2,  4,  2,\n",
      "        2,  2,  2,  2,  2,  2,  2,  2,  2,  2,  2,  2,  2,  2,  2,  2,  2,\n",
      "        2,  2,  2,  2,  2,  2,  2,  2,  2,  2,  2,  2,  2,  2,  2,  2,  2,\n",
      "       11,  2,  2,  8,  2,  2,  2,  2,  2,  2,  2,  2,  2,  2,  2, 12,  2,\n",
      "        2,  2,  2,  2,  2,  2,  2,  2,  2,  1,  2, 12,  2,  8,  2,  2,  2,\n",
      "        2,  2,  2,  2,  2,  2,  2,  2,  2,  2,  2,  2,  2,  2,  2,  2,  2,\n",
      "        2,  2,  2,  2,  2,  2,  2,  2,  2,  2,  2,  2,  2,  2,  2,  2,  2,\n",
      "        2,  2,  2,  2,  2,  2,  2,  2,  2,  2,  2,  2,  2,  2,  2,  2,  2,\n",
      "        2,  2,  2,  2,  2,  2,  2,  2,  2,  2,  2,  2,  2,  2,  2,  2,  2,\n",
      "        2,  2,  2,  2,  2,  2,  2,  2,  2,  2,  2,  2,  2,  2,  2,  2,  2,\n",
      "        2,  2,  2,  2,  2,  2,  2,  2,  2,  2,  2,  2,  2,  2,  2,  2,  2,\n",
      "        2,  2,  2,  2,  2,  2,  4,  7,  8,  4,  7,  8,  4,  4,  4,  8,  7,\n",
      "        8,  4,  7,  1, 12,  4,  8,  4,  8,  7,  8,  8,  4,  4,  7,  7,  8,\n",
      "        4,  7,  8,  7,  8,  7,  8,  7,  8,  4,  4,  7,  8,  4,  4,  8,  8,\n",
      "        8,  8,  4,  5,  5,  5,  5,  5,  4,  7, 11,  7,  8,  4, 12,  5,  4,\n",
      "        7,  4,  5,  5,  4,  8,  7,  8,  4,  1, 12,  1,  5, 11,  4],\n",
      "      dtype=int64))\n"
     ]
    }
   ],
   "source": [
    "threshold = 3\n",
    "print (np.where(z1>3))"
   ]
  },
  {
   "cell_type": "code",
   "execution_count": 41,
   "metadata": {},
   "outputs": [
    {
     "name": "stdout",
     "output_type": "stream",
     "text": [
      "Shape before removing outliers: (6762, 22)\n",
      "Shape after removing outliers: (6479, 22)\n"
     ]
    }
   ],
   "source": [
    "print('Shape before removing outliers:', df.shape)\n",
    "\n",
    "df_new1 = df[(z1 < threshold).all(axis=1)]\n",
    "\n",
    "print('Shape after removing outliers:', df_new1.shape)"
   ]
  },
  {
   "cell_type": "markdown",
   "metadata": {},
   "source": [
    "here also same case"
   ]
  },
  {
   "cell_type": "code",
   "execution_count": 42,
   "metadata": {},
   "outputs": [
    {
     "data": {
      "text/plain": [
       "Location         -0.000009\n",
       "MinTemp          -0.085631\n",
       "MaxTemp           0.321986\n",
       "Rainfall         12.620693\n",
       "Evaporation       5.969229\n",
       "Sunshine         -1.191892\n",
       "WindGustDir       0.105287\n",
       "WindGustSpeed     0.701243\n",
       "WindSpeed9am      0.953443\n",
       "WindSpeed3pm      0.543464\n",
       "Humidity9am      -0.261277\n",
       "Humidity3pm       0.155937\n",
       "Pressure9am      -0.348051\n",
       "Pressure3pm      -0.223762\n",
       "Cloud9am         -0.166064\n",
       "Cloud3pm         -0.000762\n",
       "Temp9am          -0.049811\n",
       "Temp3pm           0.341222\n",
       "RainToday         1.266937\n",
       "RainTomorrow      1.266937\n",
       "Month             0.021988\n",
       "Day               0.006240\n",
       "dtype: float64"
      ]
     },
     "execution_count": 42,
     "metadata": {},
     "output_type": "execute_result"
    }
   ],
   "source": [
    "# target column : RainTomorrow and Rainfall\n",
    "df.skew()"
   ]
  },
  {
   "cell_type": "markdown",
   "metadata": {},
   "source": [
    "skewed variables as threshold value +/- 0.5 : Rainfall, Evaporation, Sunshine, WindGustSpeed"
   ]
  },
  {
   "cell_type": "code",
   "execution_count": 43,
   "metadata": {},
   "outputs": [
    {
     "data": {
      "image/png": "[encoded data removed]",
      "text/plain": [
       "<Figure size 1080x1296 with 4 Axes>"
      ]
     },
     "metadata": {
      "needs_background": "light"
     },
     "output_type": "display_data"
    }
   ],
   "source": [
    "cat_list =['Rainfall', 'Evaporation', 'Sunshine', 'WindGustSpeed']\n",
    "plt.figure(figsize=(15,18))\n",
    "plotnumber = 1\n",
    "\n",
    "for column in df[cat_list]:\n",
    "    if plotnumber<=10:\n",
    "        ax = plt.subplot(5,3,plotnumber)\n",
    "        sns.distplot(df[column])\n",
    "        plt.xlabel(column,fontsize=10)\n",
    "    plotnumber+=1\n",
    "plt.show()"
   ]
  },
  {
   "cell_type": "code",
   "execution_count": 44,
   "metadata": {},
   "outputs": [
    {
     "data": {
      "text/plain": [
       "Location        -0.000009\n",
       "MinTemp         -0.085631\n",
       "MaxTemp          0.321986\n",
       "Rainfall         1.858794\n",
       "Evaporation      0.576731\n",
       "Sunshine        -1.191892\n",
       "WindGustDir      0.105287\n",
       "WindGustSpeed   -0.335511\n",
       "WindSpeed9am     0.953443\n",
       "WindSpeed3pm     0.543464\n",
       "Humidity9am     -0.261277\n",
       "Humidity3pm      0.155937\n",
       "Pressure9am     -0.348051\n",
       "Pressure3pm     -0.223762\n",
       "Cloud9am        -0.166064\n",
       "Cloud3pm        -0.000762\n",
       "Temp9am         -0.049811\n",
       "Temp3pm          0.341222\n",
       "RainToday        1.266937\n",
       "RainTomorrow     1.266937\n",
       "Month            0.021988\n",
       "Day              0.006240\n",
       "dtype: float64"
      ]
     },
     "execution_count": 44,
     "metadata": {},
     "output_type": "execute_result"
    }
   ],
   "source": [
    "for i in cat_list:\n",
    "    if df.skew().loc[i]>0.55:\n",
    "        df[i] = np.log1p(df[i])\n",
    "df.skew()"
   ]
  },
  {
   "cell_type": "code",
   "execution_count": 45,
   "metadata": {},
   "outputs": [
    {
     "data": {
      "text/plain": [
       "Location        -0.000009\n",
       "MinTemp         -0.085631\n",
       "MaxTemp          0.321986\n",
       "Rainfall         1.171768\n",
       "Evaporation      0.576731\n",
       "Sunshine        -1.191892\n",
       "WindGustDir      0.105287\n",
       "WindGustSpeed   -0.335511\n",
       "WindSpeed9am     0.953443\n",
       "WindSpeed3pm     0.543464\n",
       "Humidity9am     -0.261277\n",
       "Humidity3pm      0.155937\n",
       "Pressure9am     -0.348051\n",
       "Pressure3pm     -0.223762\n",
       "Cloud9am        -0.166064\n",
       "Cloud3pm        -0.000762\n",
       "Temp9am         -0.049811\n",
       "Temp3pm          0.341222\n",
       "RainToday        1.266937\n",
       "RainTomorrow     1.266937\n",
       "Month            0.021988\n",
       "Day              0.006240\n",
       "dtype: float64"
      ]
     },
     "execution_count": 45,
     "metadata": {},
     "output_type": "execute_result"
    }
   ],
   "source": [
    "cat_list = ('Rainfall','Sunshine')\n",
    "for i in cat_list:\n",
    "    if df.skew().loc[i]>0.55:\n",
    "        df[i] = np.sqrt(df[i])\n",
    "df.skew()"
   ]
  },
  {
   "cell_type": "code",
   "execution_count": 46,
   "metadata": {},
   "outputs": [],
   "source": [
    "from sklearn.preprocessing  import power_transform, StandardScaler"
   ]
  },
  {
   "cell_type": "code",
   "execution_count": 47,
   "metadata": {},
   "outputs": [
    {
     "data": {
      "text/plain": [
       "Location        -0.000009\n",
       "MinTemp         -0.085631\n",
       "MaxTemp          0.321986\n",
       "Rainfall         0.676307\n",
       "Evaporation      0.576731\n",
       "Sunshine        -1.191892\n",
       "WindGustDir      0.105287\n",
       "WindGustSpeed   -0.335511\n",
       "WindSpeed9am     0.953443\n",
       "WindSpeed3pm     0.543464\n",
       "Humidity9am     -0.261277\n",
       "Humidity3pm      0.155937\n",
       "Pressure9am     -0.348051\n",
       "Pressure3pm     -0.223762\n",
       "Cloud9am        -0.166064\n",
       "Cloud3pm        -0.000762\n",
       "Temp9am         -0.049811\n",
       "Temp3pm          0.341222\n",
       "RainToday        1.266937\n",
       "RainTomorrow     1.266937\n",
       "Month            0.021988\n",
       "Day              0.006240\n",
       "dtype: float64"
      ]
     },
     "execution_count": 47,
     "metadata": {},
     "output_type": "execute_result"
    }
   ],
   "source": [
    "cat_list = ('Rainfall','Sunshine')\n",
    "for i in cat_list:\n",
    "    if df.skew().loc[i]>0.55:\n",
    "        df[i] = power_transform(df[[i]], method='yeo-johnson')\n",
    "df.skew()"
   ]
  },
  {
   "cell_type": "markdown",
   "metadata": {},
   "source": [
    "after using these methods sunshine has nothing change more "
   ]
  },
  {
   "cell_type": "code",
   "execution_count": 48,
   "metadata": {},
   "outputs": [
    {
     "data": {
      "image/png": "[encoded data removed]",
      "text/plain": [
       "<Figure size 864x360 with 1 Axes>"
      ]
     },
     "metadata": {
      "needs_background": "light"
     },
     "output_type": "display_data"
    }
   ],
   "source": [
    "# for Rainfall\n",
    "plt.figure(figsize=(12,5))\n",
    "df.corr()['Rainfall'].sort_values(ascending=True).drop(['Rainfall']).plot(kind='bar',color='c')\n",
    "plt.xlabel('Feature',fontsize=14)\n",
    "plt.ylabel('Target',fontsize=14)\n",
    "plt.title('Correlation',fontsize=18)\n",
    "plt.show()"
   ]
  },
  {
   "cell_type": "code",
   "execution_count": 49,
   "metadata": {},
   "outputs": [
    {
     "data": {
      "text/html": [
       "<div>\n",
       "<style scoped>\n",
       "    .dataframe tbody tr th:only-of-type {\n",
       "        vertical-align: middle;\n",
       "    }\n",
       "\n",
       "    .dataframe tbody tr th {\n",
       "        vertical-align: top;\n",
       "    }\n",
       "\n",
       "    .dataframe thead th {\n",
       "        text-align: right;\n",
       "    }\n",
       "</style>\n",
       "<table border=\"1\" class=\"dataframe\">\n",
       "  <thead>\n",
       "    <tr style=\"text-align: right;\">\n",
       "      <th></th>\n",
       "      <th>Correlation in Ascending order</th>\n",
       "    </tr>\n",
       "  </thead>\n",
       "  <tbody>\n",
       "    <tr>\n",
       "      <th>Temp3pm</th>\n",
       "      <td>-0.275948</td>\n",
       "    </tr>\n",
       "    <tr>\n",
       "      <th>Sunshine</th>\n",
       "      <td>-0.262595</td>\n",
       "    </tr>\n",
       "    <tr>\n",
       "      <th>MaxTemp</th>\n",
       "      <td>-0.261491</td>\n",
       "    </tr>\n",
       "    <tr>\n",
       "      <th>Temp9am</th>\n",
       "      <td>-0.123571</td>\n",
       "    </tr>\n",
       "    <tr>\n",
       "      <th>Evaporation</th>\n",
       "      <td>-0.102360</td>\n",
       "    </tr>\n",
       "    <tr>\n",
       "      <th>Pressure9am</th>\n",
       "      <td>-0.096129</td>\n",
       "    </tr>\n",
       "    <tr>\n",
       "      <th>Pressure3pm</th>\n",
       "      <td>-0.031989</td>\n",
       "    </tr>\n",
       "    <tr>\n",
       "      <th>Day</th>\n",
       "      <td>-0.013407</td>\n",
       "    </tr>\n",
       "    <tr>\n",
       "      <th>Month</th>\n",
       "      <td>0.003950</td>\n",
       "    </tr>\n",
       "    <tr>\n",
       "      <th>WindSpeed9am</th>\n",
       "      <td>0.005702</td>\n",
       "    </tr>\n",
       "    <tr>\n",
       "      <th>WindSpeed3pm</th>\n",
       "      <td>0.007947</td>\n",
       "    </tr>\n",
       "    <tr>\n",
       "      <th>Location</th>\n",
       "      <td>0.019667</td>\n",
       "    </tr>\n",
       "    <tr>\n",
       "      <th>WindGustSpeed</th>\n",
       "      <td>0.048943</td>\n",
       "    </tr>\n",
       "    <tr>\n",
       "      <th>MinTemp</th>\n",
       "      <td>0.066838</td>\n",
       "    </tr>\n",
       "    <tr>\n",
       "      <th>WindGustDir</th>\n",
       "      <td>0.114828</td>\n",
       "    </tr>\n",
       "    <tr>\n",
       "      <th>Cloud3pm</th>\n",
       "      <td>0.273413</td>\n",
       "    </tr>\n",
       "    <tr>\n",
       "      <th>Cloud9am</th>\n",
       "      <td>0.281192</td>\n",
       "    </tr>\n",
       "    <tr>\n",
       "      <th>RainTomorrow</th>\n",
       "      <td>0.338854</td>\n",
       "    </tr>\n",
       "    <tr>\n",
       "      <th>Humidity3pm</th>\n",
       "      <td>0.425748</td>\n",
       "    </tr>\n",
       "    <tr>\n",
       "      <th>Humidity9am</th>\n",
       "      <td>0.450302</td>\n",
       "    </tr>\n",
       "    <tr>\n",
       "      <th>RainToday</th>\n",
       "      <td>0.818705</td>\n",
       "    </tr>\n",
       "    <tr>\n",
       "      <th>Rainfall</th>\n",
       "      <td>1.000000</td>\n",
       "    </tr>\n",
       "  </tbody>\n",
       "</table>\n",
       "</div>"
      ],
      "text/plain": [
       "               Correlation in Ascending order\n",
       "Temp3pm                             -0.275948\n",
       "Sunshine                            -0.262595\n",
       "MaxTemp                             -0.261491\n",
       "Temp9am                             -0.123571\n",
       "Evaporation                         -0.102360\n",
       "Pressure9am                         -0.096129\n",
       "Pressure3pm                         -0.031989\n",
       "Day                                 -0.013407\n",
       "Month                                0.003950\n",
       "WindSpeed9am                         0.005702\n",
       "WindSpeed3pm                         0.007947\n",
       "Location                             0.019667\n",
       "WindGustSpeed                        0.048943\n",
       "MinTemp                              0.066838\n",
       "WindGustDir                          0.114828\n",
       "Cloud3pm                             0.273413\n",
       "Cloud9am                             0.281192\n",
       "RainTomorrow                         0.338854\n",
       "Humidity3pm                          0.425748\n",
       "Humidity9am                          0.450302\n",
       "RainToday                            0.818705\n",
       "Rainfall                             1.000000"
      ]
     },
     "execution_count": 49,
     "metadata": {},
     "output_type": "execute_result"
    }
   ],
   "source": [
    "df.corr()[\"Rainfall\"].sort_values().to_frame(\"Correlation in Ascending order\")"
   ]
  },
  {
   "cell_type": "markdown",
   "metadata": {},
   "source": [
    "1. Negative Correlation: The following features exhibit weak to moderately negative correlations with the target variable \"Rainfall\": \"Sunshine,\" \"Temp3pm,\" \"MaxTemp,\" \"Pressure9am,\" \"Pressure3pm,\" \"Day.\" This implies that higher values of these features are associated with slightly lower rainfall amounts.\n",
    "\n",
    "2. Positive Correlation: The following features show weak to moderately positive correlations with \"Rainfall\":\"Month\",\"WindSpeed9am\",\"WindSpeed3pm,\" \"WindGustDir,\" \"WindDir3pm,\" \"WindSpeed9am,\" \"Evaporation,\" \"WindDir9am,\" \"WindGustSpeed,\" \"MinTemp,\" \"Cloud3pm,\" \"Cloud9am,\" \"RainTomorrow,\" \"Humidity9am,\" \"Humidity3pm,\" \"RainToday.\" This suggests that higher values of these features are linked to slightly higher rainfall amounts. Notably, \"RainToday\" has the highest positive correlation with \"Rainfall,\" indicating that significant rainfall today might be indicative of higher rainfall the following day."
   ]
  },
  {
   "cell_type": "code",
   "execution_count": 50,
   "metadata": {},
   "outputs": [
    {
     "data": {
      "image/png": "[encoded data removed]",
      "text/plain": [
       "<Figure size 864x504 with 1 Axes>"
      ]
     },
     "metadata": {
      "needs_background": "light"
     },
     "output_type": "display_data"
    }
   ],
   "source": [
    "plt.figure(figsize=(12,7))\n",
    "df.corr()['RainTomorrow'].sort_values(ascending=True).drop(['RainTomorrow']).plot(kind='bar',color='r')\n",
    "plt.xlabel('Feature',fontsize=14)\n",
    "plt.ylabel('Target',fontsize=14)\n",
    "plt.title('Correlation',fontsize=18)\n",
    "plt.show()"
   ]
  },
  {
   "cell_type": "code",
   "execution_count": 51,
   "metadata": {},
   "outputs": [
    {
     "data": {
      "text/html": [
       "<div>\n",
       "<style scoped>\n",
       "    .dataframe tbody tr th:only-of-type {\n",
       "        vertical-align: middle;\n",
       "    }\n",
       "\n",
       "    .dataframe tbody tr th {\n",
       "        vertical-align: top;\n",
       "    }\n",
       "\n",
       "    .dataframe thead th {\n",
       "        text-align: right;\n",
       "    }\n",
       "</style>\n",
       "<table border=\"1\" class=\"dataframe\">\n",
       "  <thead>\n",
       "    <tr style=\"text-align: right;\">\n",
       "      <th></th>\n",
       "      <th>Correlation in Aescending order</th>\n",
       "    </tr>\n",
       "  </thead>\n",
       "  <tbody>\n",
       "    <tr>\n",
       "      <th>Sunshine</th>\n",
       "      <td>-0.313493</td>\n",
       "    </tr>\n",
       "    <tr>\n",
       "      <th>Temp3pm</th>\n",
       "      <td>-0.203498</td>\n",
       "    </tr>\n",
       "    <tr>\n",
       "      <th>MaxTemp</th>\n",
       "      <td>-0.161432</td>\n",
       "    </tr>\n",
       "    <tr>\n",
       "      <th>Pressure9am</th>\n",
       "      <td>-0.148018</td>\n",
       "    </tr>\n",
       "    <tr>\n",
       "      <th>Pressure3pm</th>\n",
       "      <td>-0.128375</td>\n",
       "    </tr>\n",
       "    <tr>\n",
       "      <th>Evaporation</th>\n",
       "      <td>-0.059455</td>\n",
       "    </tr>\n",
       "    <tr>\n",
       "      <th>Temp9am</th>\n",
       "      <td>-0.026060</td>\n",
       "    </tr>\n",
       "    <tr>\n",
       "      <th>Day</th>\n",
       "      <td>-0.007560</td>\n",
       "    </tr>\n",
       "    <tr>\n",
       "      <th>Location</th>\n",
       "      <td>-0.004506</td>\n",
       "    </tr>\n",
       "    <tr>\n",
       "      <th>Month</th>\n",
       "      <td>-0.003575</td>\n",
       "    </tr>\n",
       "    <tr>\n",
       "      <th>WindSpeed3pm</th>\n",
       "      <td>0.039169</td>\n",
       "    </tr>\n",
       "    <tr>\n",
       "      <th>WindGustDir</th>\n",
       "      <td>0.045179</td>\n",
       "    </tr>\n",
       "    <tr>\n",
       "      <th>WindSpeed9am</th>\n",
       "      <td>0.057486</td>\n",
       "    </tr>\n",
       "    <tr>\n",
       "      <th>MinTemp</th>\n",
       "      <td>0.097867</td>\n",
       "    </tr>\n",
       "    <tr>\n",
       "      <th>WindGustSpeed</th>\n",
       "      <td>0.143802</td>\n",
       "    </tr>\n",
       "    <tr>\n",
       "      <th>Cloud9am</th>\n",
       "      <td>0.245473</td>\n",
       "    </tr>\n",
       "    <tr>\n",
       "      <th>Humidity9am</th>\n",
       "      <td>0.288913</td>\n",
       "    </tr>\n",
       "    <tr>\n",
       "      <th>Cloud3pm</th>\n",
       "      <td>0.320313</td>\n",
       "    </tr>\n",
       "    <tr>\n",
       "      <th>RainToday</th>\n",
       "      <td>0.323691</td>\n",
       "    </tr>\n",
       "    <tr>\n",
       "      <th>Rainfall</th>\n",
       "      <td>0.338854</td>\n",
       "    </tr>\n",
       "    <tr>\n",
       "      <th>Humidity3pm</th>\n",
       "      <td>0.464998</td>\n",
       "    </tr>\n",
       "    <tr>\n",
       "      <th>RainTomorrow</th>\n",
       "      <td>1.000000</td>\n",
       "    </tr>\n",
       "  </tbody>\n",
       "</table>\n",
       "</div>"
      ],
      "text/plain": [
       "               Correlation in Aescending order\n",
       "Sunshine                             -0.313493\n",
       "Temp3pm                              -0.203498\n",
       "MaxTemp                              -0.161432\n",
       "Pressure9am                          -0.148018\n",
       "Pressure3pm                          -0.128375\n",
       "Evaporation                          -0.059455\n",
       "Temp9am                              -0.026060\n",
       "Day                                  -0.007560\n",
       "Location                             -0.004506\n",
       "Month                                -0.003575\n",
       "WindSpeed3pm                          0.039169\n",
       "WindGustDir                           0.045179\n",
       "WindSpeed9am                          0.057486\n",
       "MinTemp                               0.097867\n",
       "WindGustSpeed                         0.143802\n",
       "Cloud9am                              0.245473\n",
       "Humidity9am                           0.288913\n",
       "Cloud3pm                              0.320313\n",
       "RainToday                             0.323691\n",
       "Rainfall                              0.338854\n",
       "Humidity3pm                           0.464998\n",
       "RainTomorrow                          1.000000"
      ]
     },
     "execution_count": 51,
     "metadata": {},
     "output_type": "execute_result"
    }
   ],
   "source": [
    "df.corr()[\"RainTomorrow\"].sort_values().to_frame(\"Correlation in Aescending order\")"
   ]
  },
  {
   "cell_type": "code",
   "execution_count": 52,
   "metadata": {},
   "outputs": [
    {
     "data": {
      "text/plain": [
       "<AxesSubplot:>"
      ]
     },
     "execution_count": 52,
     "metadata": {},
     "output_type": "execute_result"
    },
    {
     "data": {
      "image/png": "[encoded data removed]",
      "text/plain": [
       "<Figure size 1080x504 with 2 Axes>"
      ]
     },
     "metadata": {
      "needs_background": "light"
     },
     "output_type": "display_data"
    }
   ],
   "source": [
    "plt.figure(figsize=(15,7))\n",
    "sns.heatmap(df.corr(),annot=True, linewidth=0.5, linecolor='white', fmt='.2f')"
   ]
  },
  {
   "cell_type": "code",
   "execution_count": 53,
   "metadata": {},
   "outputs": [
    {
     "data": {
      "text/plain": [
       "Location         0\n",
       "MinTemp          0\n",
       "MaxTemp          0\n",
       "Rainfall         0\n",
       "Evaporation      0\n",
       "Sunshine         0\n",
       "WindGustDir      0\n",
       "WindGustSpeed    0\n",
       "WindSpeed9am     0\n",
       "WindSpeed3pm     0\n",
       "Humidity9am      0\n",
       "Humidity3pm      0\n",
       "Pressure9am      0\n",
       "Pressure3pm      0\n",
       "Cloud9am         0\n",
       "Cloud3pm         0\n",
       "Temp9am          0\n",
       "Temp3pm          0\n",
       "RainToday        0\n",
       "RainTomorrow     0\n",
       "Month            0\n",
       "Day              0\n",
       "dtype: int64"
      ]
     },
     "execution_count": 53,
     "metadata": {},
     "output_type": "execute_result"
    }
   ],
   "source": [
    "df.isnull().sum()"
   ]
  },
  {
   "cell_type": "code",
   "execution_count": 54,
   "metadata": {},
   "outputs": [],
   "source": [
    "x=df.drop(\"RainTomorrow\",axis=1)\n",
    "y=df[\"RainTomorrow\"]"
   ]
  },
  {
   "cell_type": "code",
   "execution_count": 55,
   "metadata": {},
   "outputs": [],
   "source": [
    "scaler = StandardScaler()\n",
    "x = pd.DataFrame(scaler.fit_transform(x), columns = x.columns)"
   ]
  },
  {
   "cell_type": "code",
   "execution_count": 56,
   "metadata": {},
   "outputs": [],
   "source": [
    "# need to handle oversampling of target colum using SMOTE\n",
    "from imblearn.over_sampling import SMOTE"
   ]
  },
  {
   "cell_type": "code",
   "execution_count": 57,
   "metadata": {},
   "outputs": [],
   "source": [
    "SM = SMOTE()\n",
    "x, y = SM.fit_resample(x,y)"
   ]
  },
  {
   "cell_type": "code",
   "execution_count": 58,
   "metadata": {},
   "outputs": [
    {
     "data": {
      "text/plain": [
       "1    5190\n",
       "0    5190\n",
       "Name: RainTomorrow, dtype: int64"
      ]
     },
     "execution_count": 58,
     "metadata": {},
     "output_type": "execute_result"
    }
   ],
   "source": [
    "y.value_counts()"
   ]
  },
  {
   "cell_type": "code",
   "execution_count": 59,
   "metadata": {},
   "outputs": [],
   "source": [
    "#target column: Rainfall\n"
   ]
  },
  {
   "cell_type": "code",
   "execution_count": 60,
   "metadata": {},
   "outputs": [],
   "source": [
    "x1=df.drop(\"Rainfall\",axis=1)\n",
    "y1=df[\"Rainfall\"]"
   ]
  },
  {
   "cell_type": "code",
   "execution_count": 61,
   "metadata": {},
   "outputs": [],
   "source": [
    "scaler = StandardScaler()\n",
    "x1 = pd.DataFrame(scaler.fit_transform(x1), columns = x1.columns)"
   ]
  },
  {
   "cell_type": "code",
   "execution_count": 62,
   "metadata": {},
   "outputs": [],
   "source": [
    "#The Variance Threshold method allows you to eliminate low-variance features, which often correspond to constant or\n",
    "#near-constant values, to reduce the dimensionality of the dataset and potentially improve model performance."
   ]
  },
  {
   "cell_type": "code",
   "execution_count": 63,
   "metadata": {},
   "outputs": [],
   "source": [
    "# target column: RainTomorrow"
   ]
  },
  {
   "cell_type": "code",
   "execution_count": 64,
   "metadata": {},
   "outputs": [],
   "source": [
    "from sklearn.feature_selection import VarianceThreshold, SelectKBest, f_classif"
   ]
  },
  {
   "cell_type": "code",
   "execution_count": 65,
   "metadata": {},
   "outputs": [
    {
     "data": {
      "text/plain": [
       "VarianceThreshold(threshold=0)"
      ]
     },
     "execution_count": 65,
     "metadata": {},
     "output_type": "execute_result"
    }
   ],
   "source": [
    "var_threshold = VarianceThreshold(threshold=0)\n",
    "var_threshold.fit(x)"
   ]
  },
  {
   "cell_type": "code",
   "execution_count": 66,
   "metadata": {},
   "outputs": [
    {
     "data": {
      "text/plain": [
       "array([ True,  True,  True,  True,  True,  True,  True,  True,  True,\n",
       "        True,  True,  True,  True,  True,  True,  True,  True,  True,\n",
       "        True,  True,  True])"
      ]
     },
     "execution_count": 66,
     "metadata": {},
     "output_type": "execute_result"
    }
   ],
   "source": [
    "var_threshold.get_support()"
   ]
  },
  {
   "cell_type": "code",
   "execution_count": 67,
   "metadata": {},
   "outputs": [
    {
     "data": {
      "text/plain": [
       "Index(['Location', 'MinTemp', 'MaxTemp', 'Rainfall', 'Evaporation', 'Sunshine',\n",
       "       'WindGustDir', 'WindGustSpeed', 'WindSpeed9am', 'WindSpeed3pm',\n",
       "       'Humidity9am', 'Humidity3pm', 'Pressure9am', 'Pressure3pm', 'Cloud9am',\n",
       "       'Cloud3pm', 'Temp9am', 'Temp3pm', 'RainToday', 'Month', 'Day'],\n",
       "      dtype='object')"
      ]
     },
     "execution_count": 67,
     "metadata": {},
     "output_type": "execute_result"
    }
   ],
   "source": [
    "x.columns[var_threshold.get_support()]"
   ]
  },
  {
   "cell_type": "code",
   "execution_count": 69,
   "metadata": {},
   "outputs": [
    {
     "name": "stdout",
     "output_type": "stream",
     "text": [
      "0\n"
     ]
    }
   ],
   "source": [
    "# taking  out  all the  constent  columns \n",
    "cons_columns = [column for column in x.columns\n",
    "               if column not in x.columns[var_threshold.get_support()]]\n",
    "print(len(cons_columns))\n"
   ]
  },
  {
   "cell_type": "code",
   "execution_count": 70,
   "metadata": {},
   "outputs": [],
   "source": [
    "#  target column : Rainfall"
   ]
  },
  {
   "cell_type": "code",
   "execution_count": 71,
   "metadata": {},
   "outputs": [
    {
     "data": {
      "text/plain": [
       "VarianceThreshold(threshold=0)"
      ]
     },
     "execution_count": 71,
     "metadata": {},
     "output_type": "execute_result"
    }
   ],
   "source": [
    "var_threshold = VarianceThreshold(threshold=0)\n",
    "var_threshold.fit(x1)"
   ]
  },
  {
   "cell_type": "code",
   "execution_count": 72,
   "metadata": {},
   "outputs": [
    {
     "data": {
      "text/plain": [
       "array([ True,  True,  True,  True,  True,  True,  True,  True,  True,\n",
       "        True,  True,  True,  True,  True,  True,  True,  True,  True,\n",
       "        True,  True,  True])"
      ]
     },
     "execution_count": 72,
     "metadata": {},
     "output_type": "execute_result"
    }
   ],
   "source": [
    "var_threshold.get_support()"
   ]
  },
  {
   "cell_type": "code",
   "execution_count": 73,
   "metadata": {},
   "outputs": [
    {
     "data": {
      "text/plain": [
       "Index(['Location', 'MinTemp', 'MaxTemp', 'Evaporation', 'Sunshine',\n",
       "       'WindGustDir', 'WindGustSpeed', 'WindSpeed9am', 'WindSpeed3pm',\n",
       "       'Humidity9am', 'Humidity3pm', 'Pressure9am', 'Pressure3pm', 'Cloud9am',\n",
       "       'Cloud3pm', 'Temp9am', 'Temp3pm', 'RainToday', 'RainTomorrow', 'Month',\n",
       "       'Day'],\n",
       "      dtype='object')"
      ]
     },
     "execution_count": 73,
     "metadata": {},
     "output_type": "execute_result"
    }
   ],
   "source": [
    "x1.columns[var_threshold.get_support()]"
   ]
  },
  {
   "cell_type": "code",
   "execution_count": 74,
   "metadata": {},
   "outputs": [
    {
     "name": "stdout",
     "output_type": "stream",
     "text": [
      "0\n"
     ]
    }
   ],
   "source": [
    "cons_columns1 = [column for column in x1.columns\n",
    "               if column not in x1.columns[var_threshold.get_support()]]\n",
    "print(len(cons_columns))"
   ]
  },
  {
   "cell_type": "code",
   "execution_count": 75,
   "metadata": {},
   "outputs": [],
   "source": [
    "# solving multicollinearity\n",
    "from statsmodels.stats.outliers_influence import variance_inflation_factor"
   ]
  },
  {
   "cell_type": "code",
   "execution_count": null,
   "metadata": {},
   "outputs": [],
   "source": [
    "# target column : RainTomorrow"
   ]
  },
  {
   "cell_type": "code",
   "execution_count": 76,
   "metadata": {},
   "outputs": [
    {
     "data": {
      "text/html": [
       "<div>\n",
       "<style scoped>\n",
       "    .dataframe tbody tr th:only-of-type {\n",
       "        vertical-align: middle;\n",
       "    }\n",
       "\n",
       "    .dataframe tbody tr th {\n",
       "        vertical-align: top;\n",
       "    }\n",
       "\n",
       "    .dataframe thead th {\n",
       "        text-align: right;\n",
       "    }\n",
       "</style>\n",
       "<table border=\"1\" class=\"dataframe\">\n",
       "  <thead>\n",
       "    <tr style=\"text-align: right;\">\n",
       "      <th></th>\n",
       "      <th>VIF values</th>\n",
       "      <th>Features</th>\n",
       "    </tr>\n",
       "  </thead>\n",
       "  <tbody>\n",
       "    <tr>\n",
       "      <th>0</th>\n",
       "      <td>1.266554</td>\n",
       "      <td>Location</td>\n",
       "    </tr>\n",
       "    <tr>\n",
       "      <th>1</th>\n",
       "      <td>9.468116</td>\n",
       "      <td>MinTemp</td>\n",
       "    </tr>\n",
       "    <tr>\n",
       "      <th>2</th>\n",
       "      <td>27.937677</td>\n",
       "      <td>MaxTemp</td>\n",
       "    </tr>\n",
       "    <tr>\n",
       "      <th>3</th>\n",
       "      <td>4.059328</td>\n",
       "      <td>Rainfall</td>\n",
       "    </tr>\n",
       "    <tr>\n",
       "      <th>4</th>\n",
       "      <td>1.547637</td>\n",
       "      <td>Evaporation</td>\n",
       "    </tr>\n",
       "    <tr>\n",
       "      <th>5</th>\n",
       "      <td>2.256509</td>\n",
       "      <td>Sunshine</td>\n",
       "    </tr>\n",
       "    <tr>\n",
       "      <th>6</th>\n",
       "      <td>1.398382</td>\n",
       "      <td>WindGustDir</td>\n",
       "    </tr>\n",
       "    <tr>\n",
       "      <th>7</th>\n",
       "      <td>2.236169</td>\n",
       "      <td>WindGustSpeed</td>\n",
       "    </tr>\n",
       "    <tr>\n",
       "      <th>8</th>\n",
       "      <td>2.213334</td>\n",
       "      <td>WindSpeed9am</td>\n",
       "    </tr>\n",
       "    <tr>\n",
       "      <th>9</th>\n",
       "      <td>1.950324</td>\n",
       "      <td>WindSpeed3pm</td>\n",
       "    </tr>\n",
       "    <tr>\n",
       "      <th>10</th>\n",
       "      <td>4.702129</td>\n",
       "      <td>Humidity9am</td>\n",
       "    </tr>\n",
       "    <tr>\n",
       "      <th>11</th>\n",
       "      <td>7.335590</td>\n",
       "      <td>Humidity3pm</td>\n",
       "    </tr>\n",
       "    <tr>\n",
       "      <th>12</th>\n",
       "      <td>20.621511</td>\n",
       "      <td>Pressure9am</td>\n",
       "    </tr>\n",
       "    <tr>\n",
       "      <th>13</th>\n",
       "      <td>17.898818</td>\n",
       "      <td>Pressure3pm</td>\n",
       "    </tr>\n",
       "    <tr>\n",
       "      <th>14</th>\n",
       "      <td>2.238263</td>\n",
       "      <td>Cloud9am</td>\n",
       "    </tr>\n",
       "    <tr>\n",
       "      <th>15</th>\n",
       "      <td>2.233747</td>\n",
       "      <td>Cloud3pm</td>\n",
       "    </tr>\n",
       "    <tr>\n",
       "      <th>16</th>\n",
       "      <td>20.572668</td>\n",
       "      <td>Temp9am</td>\n",
       "    </tr>\n",
       "    <tr>\n",
       "      <th>17</th>\n",
       "      <td>36.278146</td>\n",
       "      <td>Temp3pm</td>\n",
       "    </tr>\n",
       "    <tr>\n",
       "      <th>18</th>\n",
       "      <td>3.713493</td>\n",
       "      <td>RainToday</td>\n",
       "    </tr>\n",
       "    <tr>\n",
       "      <th>19</th>\n",
       "      <td>1.174101</td>\n",
       "      <td>Month</td>\n",
       "    </tr>\n",
       "    <tr>\n",
       "      <th>20</th>\n",
       "      <td>1.006714</td>\n",
       "      <td>Day</td>\n",
       "    </tr>\n",
       "  </tbody>\n",
       "</table>\n",
       "</div>"
      ],
      "text/plain": [
       "    VIF values       Features\n",
       "0     1.266554       Location\n",
       "1     9.468116        MinTemp\n",
       "2    27.937677        MaxTemp\n",
       "3     4.059328       Rainfall\n",
       "4     1.547637    Evaporation\n",
       "5     2.256509       Sunshine\n",
       "6     1.398382    WindGustDir\n",
       "7     2.236169  WindGustSpeed\n",
       "8     2.213334   WindSpeed9am\n",
       "9     1.950324   WindSpeed3pm\n",
       "10    4.702129    Humidity9am\n",
       "11    7.335590    Humidity3pm\n",
       "12   20.621511    Pressure9am\n",
       "13   17.898818    Pressure3pm\n",
       "14    2.238263       Cloud9am\n",
       "15    2.233747       Cloud3pm\n",
       "16   20.572668        Temp9am\n",
       "17   36.278146        Temp3pm\n",
       "18    3.713493      RainToday\n",
       "19    1.174101          Month\n",
       "20    1.006714            Day"
      ]
     },
     "execution_count": 76,
     "metadata": {},
     "output_type": "execute_result"
    }
   ],
   "source": [
    "#  Target Variable is primary_fuel\n",
    "vif = pd.DataFrame()\n",
    "vif['VIF values']= [variance_inflation_factor(x.values,i) for i in range(len(x.columns))]\n",
    "vif['Features'] = x.columns\n",
    "vif"
   ]
  },
  {
   "cell_type": "markdown",
   "metadata": {},
   "source": [
    "My threshold value is 10 and there are number of data higher than the threshold value so drop the highest value column"
   ]
  },
  {
   "cell_type": "code",
   "execution_count": 78,
   "metadata": {},
   "outputs": [],
   "source": [
    "x.drop(\"Temp3pm\",axis = 1,inplace = True)"
   ]
  },
  {
   "cell_type": "code",
   "execution_count": 80,
   "metadata": {},
   "outputs": [
    {
     "data": {
      "text/html": [
       "<div>\n",
       "<style scoped>\n",
       "    .dataframe tbody tr th:only-of-type {\n",
       "        vertical-align: middle;\n",
       "    }\n",
       "\n",
       "    .dataframe tbody tr th {\n",
       "        vertical-align: top;\n",
       "    }\n",
       "\n",
       "    .dataframe thead th {\n",
       "        text-align: right;\n",
       "    }\n",
       "</style>\n",
       "<table border=\"1\" class=\"dataframe\">\n",
       "  <thead>\n",
       "    <tr style=\"text-align: right;\">\n",
       "      <th></th>\n",
       "      <th>VIF values</th>\n",
       "      <th>Features</th>\n",
       "    </tr>\n",
       "  </thead>\n",
       "  <tbody>\n",
       "    <tr>\n",
       "      <th>0</th>\n",
       "      <td>1.265626</td>\n",
       "      <td>Location</td>\n",
       "    </tr>\n",
       "    <tr>\n",
       "      <th>1</th>\n",
       "      <td>9.435034</td>\n",
       "      <td>MinTemp</td>\n",
       "    </tr>\n",
       "    <tr>\n",
       "      <th>2</th>\n",
       "      <td>10.820483</td>\n",
       "      <td>MaxTemp</td>\n",
       "    </tr>\n",
       "    <tr>\n",
       "      <th>3</th>\n",
       "      <td>4.048988</td>\n",
       "      <td>Rainfall</td>\n",
       "    </tr>\n",
       "    <tr>\n",
       "      <th>4</th>\n",
       "      <td>1.541661</td>\n",
       "      <td>Evaporation</td>\n",
       "    </tr>\n",
       "    <tr>\n",
       "      <th>5</th>\n",
       "      <td>2.247608</td>\n",
       "      <td>Sunshine</td>\n",
       "    </tr>\n",
       "    <tr>\n",
       "      <th>6</th>\n",
       "      <td>1.388666</td>\n",
       "      <td>WindGustDir</td>\n",
       "    </tr>\n",
       "    <tr>\n",
       "      <th>7</th>\n",
       "      <td>2.186565</td>\n",
       "      <td>WindGustSpeed</td>\n",
       "    </tr>\n",
       "    <tr>\n",
       "      <th>8</th>\n",
       "      <td>2.203427</td>\n",
       "      <td>WindSpeed9am</td>\n",
       "    </tr>\n",
       "    <tr>\n",
       "      <th>9</th>\n",
       "      <td>1.950229</td>\n",
       "      <td>WindSpeed3pm</td>\n",
       "    </tr>\n",
       "    <tr>\n",
       "      <th>10</th>\n",
       "      <td>4.008052</td>\n",
       "      <td>Humidity9am</td>\n",
       "    </tr>\n",
       "    <tr>\n",
       "      <th>11</th>\n",
       "      <td>4.364278</td>\n",
       "      <td>Humidity3pm</td>\n",
       "    </tr>\n",
       "    <tr>\n",
       "      <th>12</th>\n",
       "      <td>20.176494</td>\n",
       "      <td>Pressure9am</td>\n",
       "    </tr>\n",
       "    <tr>\n",
       "      <th>13</th>\n",
       "      <td>17.543385</td>\n",
       "      <td>Pressure3pm</td>\n",
       "    </tr>\n",
       "    <tr>\n",
       "      <th>14</th>\n",
       "      <td>2.227666</td>\n",
       "      <td>Cloud9am</td>\n",
       "    </tr>\n",
       "    <tr>\n",
       "      <th>15</th>\n",
       "      <td>2.219921</td>\n",
       "      <td>Cloud3pm</td>\n",
       "    </tr>\n",
       "    <tr>\n",
       "      <th>16</th>\n",
       "      <td>18.839830</td>\n",
       "      <td>Temp9am</td>\n",
       "    </tr>\n",
       "    <tr>\n",
       "      <th>17</th>\n",
       "      <td>3.709447</td>\n",
       "      <td>RainToday</td>\n",
       "    </tr>\n",
       "    <tr>\n",
       "      <th>18</th>\n",
       "      <td>1.154866</td>\n",
       "      <td>Month</td>\n",
       "    </tr>\n",
       "    <tr>\n",
       "      <th>19</th>\n",
       "      <td>1.006461</td>\n",
       "      <td>Day</td>\n",
       "    </tr>\n",
       "  </tbody>\n",
       "</table>\n",
       "</div>"
      ],
      "text/plain": [
       "    VIF values       Features\n",
       "0     1.265626       Location\n",
       "1     9.435034        MinTemp\n",
       "2    10.820483        MaxTemp\n",
       "3     4.048988       Rainfall\n",
       "4     1.541661    Evaporation\n",
       "5     2.247608       Sunshine\n",
       "6     1.388666    WindGustDir\n",
       "7     2.186565  WindGustSpeed\n",
       "8     2.203427   WindSpeed9am\n",
       "9     1.950229   WindSpeed3pm\n",
       "10    4.008052    Humidity9am\n",
       "11    4.364278    Humidity3pm\n",
       "12   20.176494    Pressure9am\n",
       "13   17.543385    Pressure3pm\n",
       "14    2.227666       Cloud9am\n",
       "15    2.219921       Cloud3pm\n",
       "16   18.839830        Temp9am\n",
       "17    3.709447      RainToday\n",
       "18    1.154866          Month\n",
       "19    1.006461            Day"
      ]
     },
     "execution_count": 80,
     "metadata": {},
     "output_type": "execute_result"
    }
   ],
   "source": [
    "vif = pd.DataFrame()\n",
    "vif['VIF values']= [variance_inflation_factor(x.values,i) for i in range(len(x.columns))]\n",
    "vif['Features'] = x.columns\n",
    "vif"
   ]
  },
  {
   "cell_type": "code",
   "execution_count": 81,
   "metadata": {},
   "outputs": [],
   "source": [
    "x.drop(\"Pressure9am\",axis=1,inplace = True)"
   ]
  },
  {
   "cell_type": "code",
   "execution_count": 82,
   "metadata": {},
   "outputs": [
    {
     "data": {
      "text/html": [
       "<div>\n",
       "<style scoped>\n",
       "    .dataframe tbody tr th:only-of-type {\n",
       "        vertical-align: middle;\n",
       "    }\n",
       "\n",
       "    .dataframe tbody tr th {\n",
       "        vertical-align: top;\n",
       "    }\n",
       "\n",
       "    .dataframe thead th {\n",
       "        text-align: right;\n",
       "    }\n",
       "</style>\n",
       "<table border=\"1\" class=\"dataframe\">\n",
       "  <thead>\n",
       "    <tr style=\"text-align: right;\">\n",
       "      <th></th>\n",
       "      <th>VIF values</th>\n",
       "      <th>Features</th>\n",
       "    </tr>\n",
       "  </thead>\n",
       "  <tbody>\n",
       "    <tr>\n",
       "      <th>0</th>\n",
       "      <td>1.251461</td>\n",
       "      <td>Location</td>\n",
       "    </tr>\n",
       "    <tr>\n",
       "      <th>1</th>\n",
       "      <td>9.432654</td>\n",
       "      <td>MinTemp</td>\n",
       "    </tr>\n",
       "    <tr>\n",
       "      <th>2</th>\n",
       "      <td>10.418886</td>\n",
       "      <td>MaxTemp</td>\n",
       "    </tr>\n",
       "    <tr>\n",
       "      <th>3</th>\n",
       "      <td>4.043052</td>\n",
       "      <td>Rainfall</td>\n",
       "    </tr>\n",
       "    <tr>\n",
       "      <th>4</th>\n",
       "      <td>1.525906</td>\n",
       "      <td>Evaporation</td>\n",
       "    </tr>\n",
       "    <tr>\n",
       "      <th>5</th>\n",
       "      <td>2.217839</td>\n",
       "      <td>Sunshine</td>\n",
       "    </tr>\n",
       "    <tr>\n",
       "      <th>6</th>\n",
       "      <td>1.196909</td>\n",
       "      <td>WindGustDir</td>\n",
       "    </tr>\n",
       "    <tr>\n",
       "      <th>7</th>\n",
       "      <td>2.179057</td>\n",
       "      <td>WindGustSpeed</td>\n",
       "    </tr>\n",
       "    <tr>\n",
       "      <th>8</th>\n",
       "      <td>2.171950</td>\n",
       "      <td>WindSpeed9am</td>\n",
       "    </tr>\n",
       "    <tr>\n",
       "      <th>9</th>\n",
       "      <td>1.926707</td>\n",
       "      <td>WindSpeed3pm</td>\n",
       "    </tr>\n",
       "    <tr>\n",
       "      <th>10</th>\n",
       "      <td>4.007904</td>\n",
       "      <td>Humidity9am</td>\n",
       "    </tr>\n",
       "    <tr>\n",
       "      <th>11</th>\n",
       "      <td>4.348239</td>\n",
       "      <td>Humidity3pm</td>\n",
       "    </tr>\n",
       "    <tr>\n",
       "      <th>12</th>\n",
       "      <td>1.414298</td>\n",
       "      <td>Pressure3pm</td>\n",
       "    </tr>\n",
       "    <tr>\n",
       "      <th>13</th>\n",
       "      <td>2.218071</td>\n",
       "      <td>Cloud9am</td>\n",
       "    </tr>\n",
       "    <tr>\n",
       "      <th>14</th>\n",
       "      <td>2.215310</td>\n",
       "      <td>Cloud3pm</td>\n",
       "    </tr>\n",
       "    <tr>\n",
       "      <th>15</th>\n",
       "      <td>18.516384</td>\n",
       "      <td>Temp9am</td>\n",
       "    </tr>\n",
       "    <tr>\n",
       "      <th>16</th>\n",
       "      <td>3.707137</td>\n",
       "      <td>RainToday</td>\n",
       "    </tr>\n",
       "    <tr>\n",
       "      <th>17</th>\n",
       "      <td>1.153507</td>\n",
       "      <td>Month</td>\n",
       "    </tr>\n",
       "    <tr>\n",
       "      <th>18</th>\n",
       "      <td>1.006216</td>\n",
       "      <td>Day</td>\n",
       "    </tr>\n",
       "  </tbody>\n",
       "</table>\n",
       "</div>"
      ],
      "text/plain": [
       "    VIF values       Features\n",
       "0     1.251461       Location\n",
       "1     9.432654        MinTemp\n",
       "2    10.418886        MaxTemp\n",
       "3     4.043052       Rainfall\n",
       "4     1.525906    Evaporation\n",
       "5     2.217839       Sunshine\n",
       "6     1.196909    WindGustDir\n",
       "7     2.179057  WindGustSpeed\n",
       "8     2.171950   WindSpeed9am\n",
       "9     1.926707   WindSpeed3pm\n",
       "10    4.007904    Humidity9am\n",
       "11    4.348239    Humidity3pm\n",
       "12    1.414298    Pressure3pm\n",
       "13    2.218071       Cloud9am\n",
       "14    2.215310       Cloud3pm\n",
       "15   18.516384        Temp9am\n",
       "16    3.707137      RainToday\n",
       "17    1.153507          Month\n",
       "18    1.006216            Day"
      ]
     },
     "execution_count": 82,
     "metadata": {},
     "output_type": "execute_result"
    }
   ],
   "source": [
    "vif = pd.DataFrame()\n",
    "vif['VIF values']= [variance_inflation_factor(x.values,i) for i in range(len(x.columns))]\n",
    "vif['Features'] = x.columns\n",
    "vif"
   ]
  },
  {
   "cell_type": "code",
   "execution_count": 83,
   "metadata": {},
   "outputs": [],
   "source": [
    "x.drop(\"Temp9am\",axis=1,inplace = True)"
   ]
  },
  {
   "cell_type": "code",
   "execution_count": 84,
   "metadata": {},
   "outputs": [
    {
     "data": {
      "text/html": [
       "<div>\n",
       "<style scoped>\n",
       "    .dataframe tbody tr th:only-of-type {\n",
       "        vertical-align: middle;\n",
       "    }\n",
       "\n",
       "    .dataframe tbody tr th {\n",
       "        vertical-align: top;\n",
       "    }\n",
       "\n",
       "    .dataframe thead th {\n",
       "        text-align: right;\n",
       "    }\n",
       "</style>\n",
       "<table border=\"1\" class=\"dataframe\">\n",
       "  <thead>\n",
       "    <tr style=\"text-align: right;\">\n",
       "      <th></th>\n",
       "      <th>VIF values</th>\n",
       "      <th>Features</th>\n",
       "    </tr>\n",
       "  </thead>\n",
       "  <tbody>\n",
       "    <tr>\n",
       "      <th>0</th>\n",
       "      <td>1.244850</td>\n",
       "      <td>Location</td>\n",
       "    </tr>\n",
       "    <tr>\n",
       "      <th>1</th>\n",
       "      <td>4.813215</td>\n",
       "      <td>MinTemp</td>\n",
       "    </tr>\n",
       "    <tr>\n",
       "      <th>2</th>\n",
       "      <td>5.788326</td>\n",
       "      <td>MaxTemp</td>\n",
       "    </tr>\n",
       "    <tr>\n",
       "      <th>3</th>\n",
       "      <td>4.040959</td>\n",
       "      <td>Rainfall</td>\n",
       "    </tr>\n",
       "    <tr>\n",
       "      <th>4</th>\n",
       "      <td>1.520593</td>\n",
       "      <td>Evaporation</td>\n",
       "    </tr>\n",
       "    <tr>\n",
       "      <th>5</th>\n",
       "      <td>2.214299</td>\n",
       "      <td>Sunshine</td>\n",
       "    </tr>\n",
       "    <tr>\n",
       "      <th>6</th>\n",
       "      <td>1.195946</td>\n",
       "      <td>WindGustDir</td>\n",
       "    </tr>\n",
       "    <tr>\n",
       "      <th>7</th>\n",
       "      <td>2.151676</td>\n",
       "      <td>WindGustSpeed</td>\n",
       "    </tr>\n",
       "    <tr>\n",
       "      <th>8</th>\n",
       "      <td>2.154018</td>\n",
       "      <td>WindSpeed9am</td>\n",
       "    </tr>\n",
       "    <tr>\n",
       "      <th>9</th>\n",
       "      <td>1.889928</td>\n",
       "      <td>WindSpeed3pm</td>\n",
       "    </tr>\n",
       "    <tr>\n",
       "      <th>10</th>\n",
       "      <td>2.787752</td>\n",
       "      <td>Humidity9am</td>\n",
       "    </tr>\n",
       "    <tr>\n",
       "      <th>11</th>\n",
       "      <td>3.429374</td>\n",
       "      <td>Humidity3pm</td>\n",
       "    </tr>\n",
       "    <tr>\n",
       "      <th>12</th>\n",
       "      <td>1.412417</td>\n",
       "      <td>Pressure3pm</td>\n",
       "    </tr>\n",
       "    <tr>\n",
       "      <th>13</th>\n",
       "      <td>2.216550</td>\n",
       "      <td>Cloud9am</td>\n",
       "    </tr>\n",
       "    <tr>\n",
       "      <th>14</th>\n",
       "      <td>2.212369</td>\n",
       "      <td>Cloud3pm</td>\n",
       "    </tr>\n",
       "    <tr>\n",
       "      <th>15</th>\n",
       "      <td>3.693665</td>\n",
       "      <td>RainToday</td>\n",
       "    </tr>\n",
       "    <tr>\n",
       "      <th>16</th>\n",
       "      <td>1.149226</td>\n",
       "      <td>Month</td>\n",
       "    </tr>\n",
       "    <tr>\n",
       "      <th>17</th>\n",
       "      <td>1.006197</td>\n",
       "      <td>Day</td>\n",
       "    </tr>\n",
       "  </tbody>\n",
       "</table>\n",
       "</div>"
      ],
      "text/plain": [
       "    VIF values       Features\n",
       "0     1.244850       Location\n",
       "1     4.813215        MinTemp\n",
       "2     5.788326        MaxTemp\n",
       "3     4.040959       Rainfall\n",
       "4     1.520593    Evaporation\n",
       "5     2.214299       Sunshine\n",
       "6     1.195946    WindGustDir\n",
       "7     2.151676  WindGustSpeed\n",
       "8     2.154018   WindSpeed9am\n",
       "9     1.889928   WindSpeed3pm\n",
       "10    2.787752    Humidity9am\n",
       "11    3.429374    Humidity3pm\n",
       "12    1.412417    Pressure3pm\n",
       "13    2.216550       Cloud9am\n",
       "14    2.212369       Cloud3pm\n",
       "15    3.693665      RainToday\n",
       "16    1.149226          Month\n",
       "17    1.006197            Day"
      ]
     },
     "execution_count": 84,
     "metadata": {},
     "output_type": "execute_result"
    }
   ],
   "source": [
    "vif = pd.DataFrame()\n",
    "vif['VIF values']= [variance_inflation_factor(x.values,i) for i in range(len(x.columns))]\n",
    "vif['Features'] = x.columns\n",
    "vif"
   ]
  },
  {
   "cell_type": "code",
   "execution_count": 85,
   "metadata": {},
   "outputs": [],
   "source": [
    "# target column : Rainfall"
   ]
  },
  {
   "cell_type": "code",
   "execution_count": 86,
   "metadata": {},
   "outputs": [
    {
     "data": {
      "text/html": [
       "<div>\n",
       "<style scoped>\n",
       "    .dataframe tbody tr th:only-of-type {\n",
       "        vertical-align: middle;\n",
       "    }\n",
       "\n",
       "    .dataframe tbody tr th {\n",
       "        vertical-align: top;\n",
       "    }\n",
       "\n",
       "    .dataframe thead th {\n",
       "        text-align: right;\n",
       "    }\n",
       "</style>\n",
       "<table border=\"1\" class=\"dataframe\">\n",
       "  <thead>\n",
       "    <tr style=\"text-align: right;\">\n",
       "      <th></th>\n",
       "      <th>VIF values</th>\n",
       "      <th>Features</th>\n",
       "    </tr>\n",
       "  </thead>\n",
       "  <tbody>\n",
       "    <tr>\n",
       "      <th>0</th>\n",
       "      <td>1.280330</td>\n",
       "      <td>Location</td>\n",
       "    </tr>\n",
       "    <tr>\n",
       "      <th>1</th>\n",
       "      <td>8.362108</td>\n",
       "      <td>MinTemp</td>\n",
       "    </tr>\n",
       "    <tr>\n",
       "      <th>2</th>\n",
       "      <td>27.894241</td>\n",
       "      <td>MaxTemp</td>\n",
       "    </tr>\n",
       "    <tr>\n",
       "      <th>3</th>\n",
       "      <td>1.500675</td>\n",
       "      <td>Evaporation</td>\n",
       "    </tr>\n",
       "    <tr>\n",
       "      <th>4</th>\n",
       "      <td>2.072728</td>\n",
       "      <td>Sunshine</td>\n",
       "    </tr>\n",
       "    <tr>\n",
       "      <th>5</th>\n",
       "      <td>1.364441</td>\n",
       "      <td>WindGustDir</td>\n",
       "    </tr>\n",
       "    <tr>\n",
       "      <th>6</th>\n",
       "      <td>2.196882</td>\n",
       "      <td>WindGustSpeed</td>\n",
       "    </tr>\n",
       "    <tr>\n",
       "      <th>7</th>\n",
       "      <td>2.088745</td>\n",
       "      <td>WindSpeed9am</td>\n",
       "    </tr>\n",
       "    <tr>\n",
       "      <th>8</th>\n",
       "      <td>1.841190</td>\n",
       "      <td>WindSpeed3pm</td>\n",
       "    </tr>\n",
       "    <tr>\n",
       "      <th>9</th>\n",
       "      <td>4.162025</td>\n",
       "      <td>Humidity9am</td>\n",
       "    </tr>\n",
       "    <tr>\n",
       "      <th>10</th>\n",
       "      <td>6.267034</td>\n",
       "      <td>Humidity3pm</td>\n",
       "    </tr>\n",
       "    <tr>\n",
       "      <th>11</th>\n",
       "      <td>20.320626</td>\n",
       "      <td>Pressure9am</td>\n",
       "    </tr>\n",
       "    <tr>\n",
       "      <th>12</th>\n",
       "      <td>18.377732</td>\n",
       "      <td>Pressure3pm</td>\n",
       "    </tr>\n",
       "    <tr>\n",
       "      <th>13</th>\n",
       "      <td>2.022710</td>\n",
       "      <td>Cloud9am</td>\n",
       "    </tr>\n",
       "    <tr>\n",
       "      <th>14</th>\n",
       "      <td>1.921870</td>\n",
       "      <td>Cloud3pm</td>\n",
       "    </tr>\n",
       "    <tr>\n",
       "      <th>15</th>\n",
       "      <td>18.399471</td>\n",
       "      <td>Temp9am</td>\n",
       "    </tr>\n",
       "    <tr>\n",
       "      <th>16</th>\n",
       "      <td>34.540140</td>\n",
       "      <td>Temp3pm</td>\n",
       "    </tr>\n",
       "    <tr>\n",
       "      <th>17</th>\n",
       "      <td>1.419920</td>\n",
       "      <td>RainToday</td>\n",
       "    </tr>\n",
       "    <tr>\n",
       "      <th>18</th>\n",
       "      <td>1.454139</td>\n",
       "      <td>RainTomorrow</td>\n",
       "    </tr>\n",
       "    <tr>\n",
       "      <th>19</th>\n",
       "      <td>1.149030</td>\n",
       "      <td>Month</td>\n",
       "    </tr>\n",
       "    <tr>\n",
       "      <th>20</th>\n",
       "      <td>1.004733</td>\n",
       "      <td>Day</td>\n",
       "    </tr>\n",
       "  </tbody>\n",
       "</table>\n",
       "</div>"
      ],
      "text/plain": [
       "    VIF values       Features\n",
       "0     1.280330       Location\n",
       "1     8.362108        MinTemp\n",
       "2    27.894241        MaxTemp\n",
       "3     1.500675    Evaporation\n",
       "4     2.072728       Sunshine\n",
       "5     1.364441    WindGustDir\n",
       "6     2.196882  WindGustSpeed\n",
       "7     2.088745   WindSpeed9am\n",
       "8     1.841190   WindSpeed3pm\n",
       "9     4.162025    Humidity9am\n",
       "10    6.267034    Humidity3pm\n",
       "11   20.320626    Pressure9am\n",
       "12   18.377732    Pressure3pm\n",
       "13    2.022710       Cloud9am\n",
       "14    1.921870       Cloud3pm\n",
       "15   18.399471        Temp9am\n",
       "16   34.540140        Temp3pm\n",
       "17    1.419920      RainToday\n",
       "18    1.454139   RainTomorrow\n",
       "19    1.149030          Month\n",
       "20    1.004733            Day"
      ]
     },
     "execution_count": 86,
     "metadata": {},
     "output_type": "execute_result"
    }
   ],
   "source": [
    "vif = pd.DataFrame()\n",
    "vif['VIF values']= [variance_inflation_factor(x1.values,i) for i in range(len(x1.columns))]\n",
    "vif['Features'] = x1.columns\n",
    "vif"
   ]
  },
  {
   "cell_type": "markdown",
   "metadata": {},
   "source": [
    "here also more than one columns has increase threshold value"
   ]
  },
  {
   "cell_type": "code",
   "execution_count": 87,
   "metadata": {},
   "outputs": [],
   "source": [
    "x1.drop(\"Temp3pm\",axis = 1,inplace = True)"
   ]
  },
  {
   "cell_type": "code",
   "execution_count": 88,
   "metadata": {},
   "outputs": [
    {
     "data": {
      "text/html": [
       "<div>\n",
       "<style scoped>\n",
       "    .dataframe tbody tr th:only-of-type {\n",
       "        vertical-align: middle;\n",
       "    }\n",
       "\n",
       "    .dataframe tbody tr th {\n",
       "        vertical-align: top;\n",
       "    }\n",
       "\n",
       "    .dataframe thead th {\n",
       "        text-align: right;\n",
       "    }\n",
       "</style>\n",
       "<table border=\"1\" class=\"dataframe\">\n",
       "  <thead>\n",
       "    <tr style=\"text-align: right;\">\n",
       "      <th></th>\n",
       "      <th>VIF values</th>\n",
       "      <th>Features</th>\n",
       "    </tr>\n",
       "  </thead>\n",
       "  <tbody>\n",
       "    <tr>\n",
       "      <th>0</th>\n",
       "      <td>1.279846</td>\n",
       "      <td>Location</td>\n",
       "    </tr>\n",
       "    <tr>\n",
       "      <th>1</th>\n",
       "      <td>8.321195</td>\n",
       "      <td>MinTemp</td>\n",
       "    </tr>\n",
       "    <tr>\n",
       "      <th>2</th>\n",
       "      <td>10.047404</td>\n",
       "      <td>MaxTemp</td>\n",
       "    </tr>\n",
       "    <tr>\n",
       "      <th>3</th>\n",
       "      <td>1.493983</td>\n",
       "      <td>Evaporation</td>\n",
       "    </tr>\n",
       "    <tr>\n",
       "      <th>4</th>\n",
       "      <td>2.068628</td>\n",
       "      <td>Sunshine</td>\n",
       "    </tr>\n",
       "    <tr>\n",
       "      <th>5</th>\n",
       "      <td>1.356054</td>\n",
       "      <td>WindGustDir</td>\n",
       "    </tr>\n",
       "    <tr>\n",
       "      <th>6</th>\n",
       "      <td>2.149276</td>\n",
       "      <td>WindGustSpeed</td>\n",
       "    </tr>\n",
       "    <tr>\n",
       "      <th>7</th>\n",
       "      <td>2.083860</td>\n",
       "      <td>WindSpeed9am</td>\n",
       "    </tr>\n",
       "    <tr>\n",
       "      <th>8</th>\n",
       "      <td>1.840973</td>\n",
       "      <td>WindSpeed3pm</td>\n",
       "    </tr>\n",
       "    <tr>\n",
       "      <th>9</th>\n",
       "      <td>3.631858</td>\n",
       "      <td>Humidity9am</td>\n",
       "    </tr>\n",
       "    <tr>\n",
       "      <th>10</th>\n",
       "      <td>4.069199</td>\n",
       "      <td>Humidity3pm</td>\n",
       "    </tr>\n",
       "    <tr>\n",
       "      <th>11</th>\n",
       "      <td>19.912087</td>\n",
       "      <td>Pressure9am</td>\n",
       "    </tr>\n",
       "    <tr>\n",
       "      <th>12</th>\n",
       "      <td>18.052460</td>\n",
       "      <td>Pressure3pm</td>\n",
       "    </tr>\n",
       "    <tr>\n",
       "      <th>13</th>\n",
       "      <td>2.016619</td>\n",
       "      <td>Cloud9am</td>\n",
       "    </tr>\n",
       "    <tr>\n",
       "      <th>14</th>\n",
       "      <td>1.908648</td>\n",
       "      <td>Cloud3pm</td>\n",
       "    </tr>\n",
       "    <tr>\n",
       "      <th>15</th>\n",
       "      <td>17.068268</td>\n",
       "      <td>Temp9am</td>\n",
       "    </tr>\n",
       "    <tr>\n",
       "      <th>16</th>\n",
       "      <td>1.419791</td>\n",
       "      <td>RainToday</td>\n",
       "    </tr>\n",
       "    <tr>\n",
       "      <th>17</th>\n",
       "      <td>1.453024</td>\n",
       "      <td>RainTomorrow</td>\n",
       "    </tr>\n",
       "    <tr>\n",
       "      <th>18</th>\n",
       "      <td>1.135971</td>\n",
       "      <td>Month</td>\n",
       "    </tr>\n",
       "    <tr>\n",
       "      <th>19</th>\n",
       "      <td>1.004233</td>\n",
       "      <td>Day</td>\n",
       "    </tr>\n",
       "  </tbody>\n",
       "</table>\n",
       "</div>"
      ],
      "text/plain": [
       "    VIF values       Features\n",
       "0     1.279846       Location\n",
       "1     8.321195        MinTemp\n",
       "2    10.047404        MaxTemp\n",
       "3     1.493983    Evaporation\n",
       "4     2.068628       Sunshine\n",
       "5     1.356054    WindGustDir\n",
       "6     2.149276  WindGustSpeed\n",
       "7     2.083860   WindSpeed9am\n",
       "8     1.840973   WindSpeed3pm\n",
       "9     3.631858    Humidity9am\n",
       "10    4.069199    Humidity3pm\n",
       "11   19.912087    Pressure9am\n",
       "12   18.052460    Pressure3pm\n",
       "13    2.016619       Cloud9am\n",
       "14    1.908648       Cloud3pm\n",
       "15   17.068268        Temp9am\n",
       "16    1.419791      RainToday\n",
       "17    1.453024   RainTomorrow\n",
       "18    1.135971          Month\n",
       "19    1.004233            Day"
      ]
     },
     "execution_count": 88,
     "metadata": {},
     "output_type": "execute_result"
    }
   ],
   "source": [
    "vif = pd.DataFrame()\n",
    "vif['VIF values']= [variance_inflation_factor(x1.values,i) for i in range(len(x1.columns))]\n",
    "vif['Features'] = x1.columns\n",
    "vif"
   ]
  },
  {
   "cell_type": "code",
   "execution_count": 89,
   "metadata": {},
   "outputs": [],
   "source": [
    "x1.drop(\"Pressure9am\",axis = 1,inplace = True)"
   ]
  },
  {
   "cell_type": "code",
   "execution_count": 90,
   "metadata": {},
   "outputs": [
    {
     "data": {
      "text/html": [
       "<div>\n",
       "<style scoped>\n",
       "    .dataframe tbody tr th:only-of-type {\n",
       "        vertical-align: middle;\n",
       "    }\n",
       "\n",
       "    .dataframe tbody tr th {\n",
       "        vertical-align: top;\n",
       "    }\n",
       "\n",
       "    .dataframe thead th {\n",
       "        text-align: right;\n",
       "    }\n",
       "</style>\n",
       "<table border=\"1\" class=\"dataframe\">\n",
       "  <thead>\n",
       "    <tr style=\"text-align: right;\">\n",
       "      <th></th>\n",
       "      <th>VIF values</th>\n",
       "      <th>Features</th>\n",
       "    </tr>\n",
       "  </thead>\n",
       "  <tbody>\n",
       "    <tr>\n",
       "      <th>0</th>\n",
       "      <td>1.258064</td>\n",
       "      <td>Location</td>\n",
       "    </tr>\n",
       "    <tr>\n",
       "      <th>1</th>\n",
       "      <td>8.308774</td>\n",
       "      <td>MinTemp</td>\n",
       "    </tr>\n",
       "    <tr>\n",
       "      <th>2</th>\n",
       "      <td>9.649935</td>\n",
       "      <td>MaxTemp</td>\n",
       "    </tr>\n",
       "    <tr>\n",
       "      <th>3</th>\n",
       "      <td>1.480581</td>\n",
       "      <td>Evaporation</td>\n",
       "    </tr>\n",
       "    <tr>\n",
       "      <th>4</th>\n",
       "      <td>2.044135</td>\n",
       "      <td>Sunshine</td>\n",
       "    </tr>\n",
       "    <tr>\n",
       "      <th>5</th>\n",
       "      <td>1.181079</td>\n",
       "      <td>WindGustDir</td>\n",
       "    </tr>\n",
       "    <tr>\n",
       "      <th>6</th>\n",
       "      <td>2.134260</td>\n",
       "      <td>WindGustSpeed</td>\n",
       "    </tr>\n",
       "    <tr>\n",
       "      <th>7</th>\n",
       "      <td>2.060515</td>\n",
       "      <td>WindSpeed9am</td>\n",
       "    </tr>\n",
       "    <tr>\n",
       "      <th>8</th>\n",
       "      <td>1.821545</td>\n",
       "      <td>WindSpeed3pm</td>\n",
       "    </tr>\n",
       "    <tr>\n",
       "      <th>9</th>\n",
       "      <td>3.631812</td>\n",
       "      <td>Humidity9am</td>\n",
       "    </tr>\n",
       "    <tr>\n",
       "      <th>10</th>\n",
       "      <td>4.068063</td>\n",
       "      <td>Humidity3pm</td>\n",
       "    </tr>\n",
       "    <tr>\n",
       "      <th>11</th>\n",
       "      <td>1.489076</td>\n",
       "      <td>Pressure3pm</td>\n",
       "    </tr>\n",
       "    <tr>\n",
       "      <th>12</th>\n",
       "      <td>2.009637</td>\n",
       "      <td>Cloud9am</td>\n",
       "    </tr>\n",
       "    <tr>\n",
       "      <th>13</th>\n",
       "      <td>1.903971</td>\n",
       "      <td>Cloud3pm</td>\n",
       "    </tr>\n",
       "    <tr>\n",
       "      <th>14</th>\n",
       "      <td>16.831969</td>\n",
       "      <td>Temp9am</td>\n",
       "    </tr>\n",
       "    <tr>\n",
       "      <th>15</th>\n",
       "      <td>1.404414</td>\n",
       "      <td>RainToday</td>\n",
       "    </tr>\n",
       "    <tr>\n",
       "      <th>16</th>\n",
       "      <td>1.438496</td>\n",
       "      <td>RainTomorrow</td>\n",
       "    </tr>\n",
       "    <tr>\n",
       "      <th>17</th>\n",
       "      <td>1.132251</td>\n",
       "      <td>Month</td>\n",
       "    </tr>\n",
       "    <tr>\n",
       "      <th>18</th>\n",
       "      <td>1.003559</td>\n",
       "      <td>Day</td>\n",
       "    </tr>\n",
       "  </tbody>\n",
       "</table>\n",
       "</div>"
      ],
      "text/plain": [
       "    VIF values       Features\n",
       "0     1.258064       Location\n",
       "1     8.308774        MinTemp\n",
       "2     9.649935        MaxTemp\n",
       "3     1.480581    Evaporation\n",
       "4     2.044135       Sunshine\n",
       "5     1.181079    WindGustDir\n",
       "6     2.134260  WindGustSpeed\n",
       "7     2.060515   WindSpeed9am\n",
       "8     1.821545   WindSpeed3pm\n",
       "9     3.631812    Humidity9am\n",
       "10    4.068063    Humidity3pm\n",
       "11    1.489076    Pressure3pm\n",
       "12    2.009637       Cloud9am\n",
       "13    1.903971       Cloud3pm\n",
       "14   16.831969        Temp9am\n",
       "15    1.404414      RainToday\n",
       "16    1.438496   RainTomorrow\n",
       "17    1.132251          Month\n",
       "18    1.003559            Day"
      ]
     },
     "execution_count": 90,
     "metadata": {},
     "output_type": "execute_result"
    }
   ],
   "source": [
    "vif = pd.DataFrame()\n",
    "vif['VIF values']= [variance_inflation_factor(x1.values,i) for i in range(len(x1.columns))]\n",
    "vif['Features'] = x1.columns\n",
    "vif"
   ]
  },
  {
   "cell_type": "code",
   "execution_count": 91,
   "metadata": {},
   "outputs": [],
   "source": [
    "x1.drop(\"Temp9am\",axis = 1,inplace = True)"
   ]
  },
  {
   "cell_type": "code",
   "execution_count": 92,
   "metadata": {},
   "outputs": [
    {
     "data": {
      "text/html": [
       "<div>\n",
       "<style scoped>\n",
       "    .dataframe tbody tr th:only-of-type {\n",
       "        vertical-align: middle;\n",
       "    }\n",
       "\n",
       "    .dataframe tbody tr th {\n",
       "        vertical-align: top;\n",
       "    }\n",
       "\n",
       "    .dataframe thead th {\n",
       "        text-align: right;\n",
       "    }\n",
       "</style>\n",
       "<table border=\"1\" class=\"dataframe\">\n",
       "  <thead>\n",
       "    <tr style=\"text-align: right;\">\n",
       "      <th></th>\n",
       "      <th>VIF values</th>\n",
       "      <th>Features</th>\n",
       "    </tr>\n",
       "  </thead>\n",
       "  <tbody>\n",
       "    <tr>\n",
       "      <th>0</th>\n",
       "      <td>1.248923</td>\n",
       "      <td>Location</td>\n",
       "    </tr>\n",
       "    <tr>\n",
       "      <th>1</th>\n",
       "      <td>4.439710</td>\n",
       "      <td>MinTemp</td>\n",
       "    </tr>\n",
       "    <tr>\n",
       "      <th>2</th>\n",
       "      <td>5.383208</td>\n",
       "      <td>MaxTemp</td>\n",
       "    </tr>\n",
       "    <tr>\n",
       "      <th>3</th>\n",
       "      <td>1.474745</td>\n",
       "      <td>Evaporation</td>\n",
       "    </tr>\n",
       "    <tr>\n",
       "      <th>4</th>\n",
       "      <td>2.042223</td>\n",
       "      <td>Sunshine</td>\n",
       "    </tr>\n",
       "    <tr>\n",
       "      <th>5</th>\n",
       "      <td>1.179582</td>\n",
       "      <td>WindGustDir</td>\n",
       "    </tr>\n",
       "    <tr>\n",
       "      <th>6</th>\n",
       "      <td>2.115875</td>\n",
       "      <td>WindGustSpeed</td>\n",
       "    </tr>\n",
       "    <tr>\n",
       "      <th>7</th>\n",
       "      <td>2.032709</td>\n",
       "      <td>WindSpeed9am</td>\n",
       "    </tr>\n",
       "    <tr>\n",
       "      <th>8</th>\n",
       "      <td>1.779926</td>\n",
       "      <td>WindSpeed3pm</td>\n",
       "    </tr>\n",
       "    <tr>\n",
       "      <th>9</th>\n",
       "      <td>2.459825</td>\n",
       "      <td>Humidity9am</td>\n",
       "    </tr>\n",
       "    <tr>\n",
       "      <th>10</th>\n",
       "      <td>3.172891</td>\n",
       "      <td>Humidity3pm</td>\n",
       "    </tr>\n",
       "    <tr>\n",
       "      <th>11</th>\n",
       "      <td>1.485268</td>\n",
       "      <td>Pressure3pm</td>\n",
       "    </tr>\n",
       "    <tr>\n",
       "      <th>12</th>\n",
       "      <td>2.004155</td>\n",
       "      <td>Cloud9am</td>\n",
       "    </tr>\n",
       "    <tr>\n",
       "      <th>13</th>\n",
       "      <td>1.900466</td>\n",
       "      <td>Cloud3pm</td>\n",
       "    </tr>\n",
       "    <tr>\n",
       "      <th>14</th>\n",
       "      <td>1.400087</td>\n",
       "      <td>RainToday</td>\n",
       "    </tr>\n",
       "    <tr>\n",
       "      <th>15</th>\n",
       "      <td>1.435363</td>\n",
       "      <td>RainTomorrow</td>\n",
       "    </tr>\n",
       "    <tr>\n",
       "      <th>16</th>\n",
       "      <td>1.120997</td>\n",
       "      <td>Month</td>\n",
       "    </tr>\n",
       "    <tr>\n",
       "      <th>17</th>\n",
       "      <td>1.003457</td>\n",
       "      <td>Day</td>\n",
       "    </tr>\n",
       "  </tbody>\n",
       "</table>\n",
       "</div>"
      ],
      "text/plain": [
       "    VIF values       Features\n",
       "0     1.248923       Location\n",
       "1     4.439710        MinTemp\n",
       "2     5.383208        MaxTemp\n",
       "3     1.474745    Evaporation\n",
       "4     2.042223       Sunshine\n",
       "5     1.179582    WindGustDir\n",
       "6     2.115875  WindGustSpeed\n",
       "7     2.032709   WindSpeed9am\n",
       "8     1.779926   WindSpeed3pm\n",
       "9     2.459825    Humidity9am\n",
       "10    3.172891    Humidity3pm\n",
       "11    1.485268    Pressure3pm\n",
       "12    2.004155       Cloud9am\n",
       "13    1.900466       Cloud3pm\n",
       "14    1.400087      RainToday\n",
       "15    1.435363   RainTomorrow\n",
       "16    1.120997          Month\n",
       "17    1.003457            Day"
      ]
     },
     "execution_count": 92,
     "metadata": {},
     "output_type": "execute_result"
    }
   ],
   "source": [
    "vif = pd.DataFrame()\n",
    "vif['VIF values']= [variance_inflation_factor(x1.values,i) for i in range(len(x1.columns))]\n",
    "vif['Features'] = x1.columns\n",
    "vif"
   ]
  },
  {
   "cell_type": "code",
   "execution_count": 93,
   "metadata": {},
   "outputs": [],
   "source": [
    "# target column : RainTomorrow"
   ]
  },
  {
   "cell_type": "code",
   "execution_count": 94,
   "metadata": {},
   "outputs": [],
   "source": [
    "from sklearn.model_selection import train_test_split\n",
    "from sklearn.linear_model import LogisticRegression\n",
    "from sklearn.metrics import roc_curve, auc, roc_auc_score, accuracy_score, classification_report, confusion_matrix\n",
    "from sklearn.tree import DecisionTreeClassifier\n",
    "from sklearn.ensemble import RandomForestClassifier\n",
    "from sklearn.svm import SVC\n",
    "from sklearn.neighbors import KNeighborsClassifier as KNN\n",
    "from sklearn.model_selection import cross_val_score\n",
    "from sklearn.model_selection import GridSearchCV"
   ]
  },
  {
   "cell_type": "code",
   "execution_count": 95,
   "metadata": {},
   "outputs": [
    {
     "name": "stdout",
     "output_type": "stream",
     "text": [
      "Best accuracy is  0.8227360308285164  on Random_state  33\n"
     ]
    }
   ],
   "source": [
    "maxAccu=0\n",
    "maxRS=0\n",
    "for i in range(1,100):\n",
    "    x_train,x_test,y_train,y_test = train_test_split(x,y,test_size=.30, random_state =i)\n",
    "    DTC = DecisionTreeClassifier()\n",
    "    DTC.fit(x_train, y_train)\n",
    "    pred = DTC.predict(x_test)\n",
    "    acc=accuracy_score(y_test, pred)\n",
    "    if acc>maxAccu:\n",
    "        maxAccu=acc\n",
    "        maxRS=i\n",
    "print(\"Best accuracy is \",maxAccu,\" on Random_state \",maxRS)"
   ]
  },
  {
   "cell_type": "code",
   "execution_count": 96,
   "metadata": {},
   "outputs": [],
   "source": [
    "x_train,x_test,y_train,y_test=train_test_split(x,y,test_size=.30,random_state=maxRS)"
   ]
  },
  {
   "cell_type": "code",
   "execution_count": 97,
   "metadata": {},
   "outputs": [
    {
     "name": "stdout",
     "output_type": "stream",
     "text": [
      "accuracy_score:  0.7748876043673731\n",
      "confusion_matrix: \n",
      " [[1237  311]\n",
      " [ 390 1176]]\n",
      "classification_report: \n",
      "               precision    recall  f1-score   support\n",
      "\n",
      "           0       0.76      0.80      0.78      1548\n",
      "           1       0.79      0.75      0.77      1566\n",
      "\n",
      "    accuracy                           0.77      3114\n",
      "   macro avg       0.78      0.78      0.77      3114\n",
      "weighted avg       0.78      0.77      0.77      3114\n",
      "\n"
     ]
    }
   ],
   "source": [
    "lr=LogisticRegression()\n",
    "lr.fit(x_train,y_train)\n",
    "pred_lr=lr.predict(x_test)\n",
    "\n",
    "print(\"accuracy_score: \", accuracy_score(y_test, pred_lr))\n",
    "print(\"confusion_matrix: \\n\", confusion_matrix(y_test, pred_lr))\n",
    "print(\"classification_report: \\n\", classification_report(y_test,pred_lr))"
   ]
  },
  {
   "cell_type": "code",
   "execution_count": 98,
   "metadata": {},
   "outputs": [
    {
     "name": "stdout",
     "output_type": "stream",
     "text": [
      "accuracy_score:  0.8930635838150289\n",
      "confusion_matrix: \n",
      " [[1361  187]\n",
      " [ 146 1420]]\n",
      "classification_report: \n",
      "               precision    recall  f1-score   support\n",
      "\n",
      "           0       0.90      0.88      0.89      1548\n",
      "           1       0.88      0.91      0.90      1566\n",
      "\n",
      "    accuracy                           0.89      3114\n",
      "   macro avg       0.89      0.89      0.89      3114\n",
      "weighted avg       0.89      0.89      0.89      3114\n",
      "\n"
     ]
    }
   ],
   "source": [
    "rfc = RandomForestClassifier(n_estimators=100)\n",
    "rfc.fit(x_train,y_train)\n",
    "pred_rfc = rfc.predict(x_test)\n",
    "\n",
    "print(\"accuracy_score: \",accuracy_score(y_test, pred_rfc))\n",
    "print(\"confusion_matrix: \\n\",confusion_matrix(y_test, pred_rfc))\n",
    "print(\"classification_report: \\n\",classification_report(y_test,pred_rfc))"
   ]
  },
  {
   "cell_type": "code",
   "execution_count": 99,
   "metadata": {},
   "outputs": [
    {
     "name": "stdout",
     "output_type": "stream",
     "text": [
      "accuracy_score:  0.817276814386641\n",
      "confusion_matrix: \n",
      " [[1227  321]\n",
      " [ 248 1318]]\n",
      "classification_report: \n",
      "               precision    recall  f1-score   support\n",
      "\n",
      "           0       0.83      0.79      0.81      1548\n",
      "           1       0.80      0.84      0.82      1566\n",
      "\n",
      "    accuracy                           0.82      3114\n",
      "   macro avg       0.82      0.82      0.82      3114\n",
      "weighted avg       0.82      0.82      0.82      3114\n",
      "\n"
     ]
    }
   ],
   "source": [
    "dtc = DecisionTreeClassifier()\n",
    "dtc.fit(x_train,y_train)\n",
    "pred_dtc = dtc.predict(x_test)\n",
    "\n",
    "print(\"accuracy_score: \",accuracy_score(y_test, pred_dtc))\n",
    "print(\"confusion_matrix: \\n\",confusion_matrix(y_test, pred_dtc))\n",
    "print(\"classification_report: \\n\",classification_report(y_test,pred_dtc))"
   ]
  },
  {
   "cell_type": "code",
   "execution_count": 100,
   "metadata": {},
   "outputs": [
    {
     "name": "stdout",
     "output_type": "stream",
     "text": [
      "accuracy_score:  0.8342967244701349\n",
      "confusion_matrix: \n",
      " [[1136  412]\n",
      " [ 104 1462]]\n",
      "classification_report: \n",
      "               precision    recall  f1-score   support\n",
      "\n",
      "           0       0.92      0.73      0.81      1548\n",
      "           1       0.78      0.93      0.85      1566\n",
      "\n",
      "    accuracy                           0.83      3114\n",
      "   macro avg       0.85      0.83      0.83      3114\n",
      "weighted avg       0.85      0.83      0.83      3114\n",
      "\n"
     ]
    }
   ],
   "source": [
    "knn = KNN()\n",
    "knn.fit(x_train,y_train)\n",
    "pred_knn = knn.predict(x_test)\n",
    "\n",
    "print(\"accuracy_score: \",accuracy_score(y_test, pred_knn))\n",
    "print(\"confusion_matrix: \\n\",confusion_matrix(y_test, pred_knn))\n",
    "print(\"classification_report: \\n\",classification_report(y_test,pred_knn))"
   ]
  },
  {
   "cell_type": "code",
   "execution_count": 101,
   "metadata": {},
   "outputs": [],
   "source": [
    "# cross validation score"
   ]
  },
  {
   "cell_type": "code",
   "execution_count": 102,
   "metadata": {},
   "outputs": [
    {
     "name": "stdout",
     "output_type": "stream",
     "text": [
      "CV score for Logistic Regression:  0.7049132947976879\n"
     ]
    }
   ],
   "source": [
    "print('CV score for Logistic Regression: ',cross_val_score(lr,x,y,cv=5).mean())"
   ]
  },
  {
   "cell_type": "code",
   "execution_count": 103,
   "metadata": {},
   "outputs": [
    {
     "name": "stdout",
     "output_type": "stream",
     "text": [
      "CV score for Random forest Classifier:  0.680057803468208\n"
     ]
    }
   ],
   "source": [
    "print('CV score for Random forest Classifier: ',cross_val_score(rfc,x,y,cv=5).mean())"
   ]
  },
  {
   "cell_type": "code",
   "execution_count": 104,
   "metadata": {},
   "outputs": [
    {
     "name": "stdout",
     "output_type": "stream",
     "text": [
      "CV score for Decision Tree Classifier:  0.6738921001926783\n"
     ]
    }
   ],
   "source": [
    "print('CV score for Decision Tree Classifier: ',cross_val_score(dtc,x,y,cv=5).mean())"
   ]
  },
  {
   "cell_type": "code",
   "execution_count": 105,
   "metadata": {},
   "outputs": [
    {
     "name": "stdout",
     "output_type": "stream",
     "text": [
      "CV score for KNN Classifier:  0.7060693641618497\n"
     ]
    }
   ],
   "source": [
    "print('CV score for KNN Classifier: ',cross_val_score(knn,x,y,cv=5).mean())"
   ]
  },
  {
   "cell_type": "markdown",
   "metadata": {},
   "source": [
    "From the observation of accuracy and cross validation score and their difference we can predict that Logistic regression is the best model."
   ]
  },
  {
   "cell_type": "code",
   "execution_count": 106,
   "metadata": {},
   "outputs": [],
   "source": [
    "parameter = {\n",
    "    'penalty': ['l1', 'l2'],\n",
    "    'C': [0.1, 1, 10],\n",
    "    'solver': ['liblinear', 'lbfgs', 'sag'],\n",
    "    'max_iter': [100, 200, 300]\n",
    "}"
   ]
  },
  {
   "cell_type": "code",
   "execution_count": 107,
   "metadata": {},
   "outputs": [],
   "source": [
    "gcv=GridSearchCV(LogisticRegression(),parameter,cv=5)"
   ]
  },
  {
   "cell_type": "code",
   "execution_count": 108,
   "metadata": {},
   "outputs": [
    {
     "data": {
      "text/plain": [
       "GridSearchCV(cv=5, estimator=LogisticRegression(),\n",
       "             param_grid={'C': [0.1, 1, 10], 'max_iter': [100, 200, 300],\n",
       "                         'penalty': ['l1', 'l2'],\n",
       "                         'solver': ['liblinear', 'lbfgs', 'sag']})"
      ]
     },
     "execution_count": 108,
     "metadata": {},
     "output_type": "execute_result"
    }
   ],
   "source": [
    "gcv.fit(x_train,y_train)"
   ]
  },
  {
   "cell_type": "code",
   "execution_count": 109,
   "metadata": {},
   "outputs": [
    {
     "data": {
      "text/plain": [
       "{'C': 1, 'max_iter': 100, 'penalty': 'l1', 'solver': 'liblinear'}"
      ]
     },
     "execution_count": 109,
     "metadata": {},
     "output_type": "execute_result"
    }
   ],
   "source": [
    "gcv.best_params_"
   ]
  },
  {
   "cell_type": "code",
   "execution_count": 112,
   "metadata": {},
   "outputs": [
    {
     "name": "stdout",
     "output_type": "stream",
     "text": [
      "0.7745664739884393\n",
      "[[1236  312]\n",
      " [ 390 1176]]\n"
     ]
    }
   ],
   "source": [
    "final_model=LogisticRegression(C=1,max_iter=100,penalty= 'l1' ,solver ='liblinear' )\n",
    "final_model.fit(x_train,y_train)\n",
    "pred=final_model.predict(x_test)\n",
    "acc=accuracy_score(y_test,pred)\n",
    "confusion=confusion_matrix(y_test,pred)\n",
    "print(acc)\n",
    "print(confusion)"
   ]
  },
  {
   "cell_type": "code",
   "execution_count": 113,
   "metadata": {},
   "outputs": [],
   "source": [
    "#  ROC-AUC Curve\n",
    "fpr,tpr,thresholds = roc_curve(y_test,pred,pos_label=True)"
   ]
  },
  {
   "cell_type": "code",
   "execution_count": 114,
   "metadata": {},
   "outputs": [
    {
     "data": {
      "image/png": "[encoded data removed]",
      "text/plain": [
       "<Figure size 432x288 with 1 Axes>"
      ]
     },
     "metadata": {
      "needs_background": "light"
     },
     "output_type": "display_data"
    }
   ],
   "source": [
    "plt.figure()\n",
    "plt.plot(fpr,tpr,color=\"orange\",lw=2,label = \"ROC Curve (area= %0.2f)\" % acc)\n",
    "plt.plot([0,1],[0,1],color=\"navy\",lw=3,linestyle=\"--\")\n",
    "plt.xlim([0.0,1.0])\n",
    "plt.ylim([0.0,1.05])\n",
    "plt.xlabel(\"False Positive Rate\")\n",
    "plt.ylabel(\"True Positive Rate\")\n",
    "plt.title(\"RRandom Forest Classifier\")\n",
    "plt.legend(loc=\"lower right\")\n",
    "plt.show()"
   ]
  },
  {
   "cell_type": "code",
   "execution_count": 115,
   "metadata": {},
   "outputs": [],
   "source": [
    "import pickle"
   ]
  },
  {
   "cell_type": "code",
   "execution_count": 116,
   "metadata": {},
   "outputs": [
    {
     "data": {
      "text/plain": [
       "array([1, 0, 1, ..., 0, 1, 1])"
      ]
     },
     "execution_count": 116,
     "metadata": {},
     "output_type": "execute_result"
    }
   ],
   "source": [
    "pickle.dump(gcv,open('Global_Power_Plant.pickle','wb'))\n",
    "loaded_model = pickle.load(open('Global_Power_Plant.pickle', 'rb'))\n",
    "loaded_model.predict(x_test)"
   ]
  },
  {
   "cell_type": "code",
   "execution_count": 117,
   "metadata": {},
   "outputs": [
    {
     "data": {
      "text/html": [
       "<div>\n",
       "<style scoped>\n",
       "    .dataframe tbody tr th:only-of-type {\n",
       "        vertical-align: middle;\n",
       "    }\n",
       "\n",
       "    .dataframe tbody tr th {\n",
       "        vertical-align: top;\n",
       "    }\n",
       "\n",
       "    .dataframe thead th {\n",
       "        text-align: right;\n",
       "    }\n",
       "</style>\n",
       "<table border=\"1\" class=\"dataframe\">\n",
       "  <thead>\n",
       "    <tr style=\"text-align: right;\">\n",
       "      <th></th>\n",
       "      <th>Orginal</th>\n",
       "      <th>Predicted</th>\n",
       "    </tr>\n",
       "  </thead>\n",
       "  <tbody>\n",
       "    <tr>\n",
       "      <th>0</th>\n",
       "      <td>1</td>\n",
       "      <td>1</td>\n",
       "    </tr>\n",
       "    <tr>\n",
       "      <th>1</th>\n",
       "      <td>1</td>\n",
       "      <td>0</td>\n",
       "    </tr>\n",
       "    <tr>\n",
       "      <th>2</th>\n",
       "      <td>1</td>\n",
       "      <td>1</td>\n",
       "    </tr>\n",
       "    <tr>\n",
       "      <th>3</th>\n",
       "      <td>1</td>\n",
       "      <td>0</td>\n",
       "    </tr>\n",
       "    <tr>\n",
       "      <th>4</th>\n",
       "      <td>0</td>\n",
       "      <td>0</td>\n",
       "    </tr>\n",
       "    <tr>\n",
       "      <th>...</th>\n",
       "      <td>...</td>\n",
       "      <td>...</td>\n",
       "    </tr>\n",
       "    <tr>\n",
       "      <th>3109</th>\n",
       "      <td>1</td>\n",
       "      <td>1</td>\n",
       "    </tr>\n",
       "    <tr>\n",
       "      <th>3110</th>\n",
       "      <td>1</td>\n",
       "      <td>1</td>\n",
       "    </tr>\n",
       "    <tr>\n",
       "      <th>3111</th>\n",
       "      <td>0</td>\n",
       "      <td>0</td>\n",
       "    </tr>\n",
       "    <tr>\n",
       "      <th>3112</th>\n",
       "      <td>1</td>\n",
       "      <td>1</td>\n",
       "    </tr>\n",
       "    <tr>\n",
       "      <th>3113</th>\n",
       "      <td>1</td>\n",
       "      <td>1</td>\n",
       "    </tr>\n",
       "  </tbody>\n",
       "</table>\n",
       "<p>3114 rows × 2 columns</p>\n",
       "</div>"
      ],
      "text/plain": [
       "      Orginal  Predicted\n",
       "0           1          1\n",
       "1           1          0\n",
       "2           1          1\n",
       "3           1          0\n",
       "4           0          0\n",
       "...       ...        ...\n",
       "3109        1          1\n",
       "3110        1          1\n",
       "3111        0          0\n",
       "3112        1          1\n",
       "3113        1          1\n",
       "\n",
       "[3114 rows x 2 columns]"
      ]
     },
     "execution_count": 117,
     "metadata": {},
     "output_type": "execute_result"
    }
   ],
   "source": [
    "  #Checking predicted and original values\n",
    "a =np.array(y_test)\n",
    "predicted=np.array(gcv.predict(x_test))\n",
    "Global_Power_Plant=pd.DataFrame({'Orginal':a,'Predicted':predicted}, index=range(len(a)))\n",
    "Global_Power_Plant"
   ]
  },
  {
   "cell_type": "code",
   "execution_count": 118,
   "metadata": {},
   "outputs": [],
   "source": [
    "# target column: Rainfall"
   ]
  },
  {
   "cell_type": "code",
   "execution_count": 119,
   "metadata": {},
   "outputs": [],
   "source": [
    "from sklearn.linear_model import LinearRegression,Ridge, Lasso\n",
    "from sklearn.tree import DecisionTreeRegressor\n",
    "from sklearn.ensemble import RandomForestRegressor\n",
    "from sklearn.svm import SVR\n",
    "from sklearn.neighbors import KNeighborsRegressor as KNN\n",
    "from sklearn.metrics import roc_curve, auc, roc_auc_score, r2_score, classification_report, mean_absolute_error, mean_squared_error"
   ]
  },
  {
   "cell_type": "code",
   "execution_count": 120,
   "metadata": {},
   "outputs": [
    {
     "name": "stdout",
     "output_type": "stream",
     "text": [
      "Best Accuracy is: 0.5124124206912899 on random_state: 96\n"
     ]
    }
   ],
   "source": [
    "maxAcc = 0\n",
    "maxRS=0\n",
    "for i in range(1,100):\n",
    "    x_train,x_test,y_train,y_test = train_test_split(x1,y1,test_size = .30, random_state = i)\n",
    "    modDTR =  DecisionTreeRegressor()\n",
    "    modDTR.fit(x_train,y_train)\n",
    "    pred = modDTR.predict(x_test)\n",
    "    acc  = r2_score(y_test,pred)\n",
    "    if acc>maxAcc:\n",
    "        maxAcc=acc\n",
    "        maxRS=i\n",
    "print(f\"Best Accuracy is: {maxAcc} on random_state: {maxRS}\")"
   ]
  },
  {
   "cell_type": "code",
   "execution_count": 121,
   "metadata": {},
   "outputs": [],
   "source": [
    "x_train,x_test,y_train,y_test=train_test_split(x1,y1,test_size=.30,random_state=maxRS)"
   ]
  },
  {
   "cell_type": "code",
   "execution_count": 122,
   "metadata": {},
   "outputs": [
    {
     "name": "stdout",
     "output_type": "stream",
     "text": [
      "R2 score:  0.7165754187094091\n",
      "Mean abs error:  0.3660760099554879\n",
      "Mean squared error:  0.2901591394830176\n",
      "Root Mean Squared Error:  0.5386642177488844\n"
     ]
    }
   ],
   "source": [
    "lr=LinearRegression()\n",
    "lr.fit(x_train,y_train)\n",
    "pred_lr=lr.predict(x_test)\n",
    "\n",
    "print(\"R2 score: \", r2_score(y_test, pred_lr))\n",
    "print(\"Mean abs error: \", mean_absolute_error(y_test, pred_lr))\n",
    "print(\"Mean squared error: \",mean_squared_error(y_test,pred_lr))\n",
    "print(\"Root Mean Squared Error: \", np.sqrt(mean_squared_error(y_test,pred_lr)))"
   ]
  },
  {
   "cell_type": "code",
   "execution_count": 124,
   "metadata": {},
   "outputs": [
    {
     "name": "stdout",
     "output_type": "stream",
     "text": [
      "R2 score:  0.7379051086151163\n",
      "Mean abs error:  0.3215234856526719\n",
      "Mean squared error:  0.26832262678430396\n",
      "Root Mean Squared Error:  0.5179986745005281\n"
     ]
    }
   ],
   "source": [
    "RFR=RandomForestRegressor(n_estimators=600, random_state=28)\n",
    "RFR.fit(x_train,y_train)\n",
    "pred_RFR=RFR.predict(x_test)\n",
    "\n",
    "\n",
    "print(\"R2 score: \", r2_score(y_test, pred_RFR))\n",
    "print(\"Mean abs error: \", mean_absolute_error(y_test, pred_RFR))\n",
    "print(\"Mean squared error: \", mean_squared_error(y_test,pred_RFR))\n",
    "print(\"Root Mean Squared Error: \", np.sqrt(mean_squared_error(y_test,pred_RFR)))"
   ]
  },
  {
   "cell_type": "code",
   "execution_count": 126,
   "metadata": {},
   "outputs": [
    {
     "name": "stdout",
     "output_type": "stream",
     "text": [
      "R2 score:  0.6905992664798468\n",
      "Mean abs error:  0.34386172111358415\n",
      "Mean squared error:  0.3167525208463718\n",
      "Root Mean Squared Error:  0.5628077121418751\n"
     ]
    }
   ],
   "source": [
    "knn=KNN(n_neighbors=9 )\n",
    "knn.fit(x_train,y_train)\n",
    "pred_knn=knn.predict(x_test)\n",
    "\n",
    "print(\"R2 score: \", r2_score(y_test, pred_knn))\n",
    "print(\"Mean abs error: \", mean_absolute_error(y_test, pred_knn))\n",
    "print(\"Mean squared error: \", mean_squared_error(y_test,pred_knn))\n",
    "print(\"Root Mean Squared Error: \", np.sqrt(mean_squared_error(y_test,pred_knn)))"
   ]
  },
  {
   "cell_type": "code",
   "execution_count": 128,
   "metadata": {},
   "outputs": [
    {
     "name": "stdout",
     "output_type": "stream",
     "text": [
      "R2 score:  0.49478474556740015\n",
      "Mean abs error:  0.32510445595670334\n",
      "Mean squared error:  0.5172198643192404\n",
      "Root Mean Squared Error:  0.719179994381963\n"
     ]
    }
   ],
   "source": [
    "DTR= DecisionTreeRegressor(random_state=29)\n",
    "DTR.fit(x_train,y_train)\n",
    "pred_DTR=DTR.predict(x_test)\n",
    "\n",
    "\n",
    "print(\"R2 score: \", r2_score(y_test, pred_DTR))\n",
    "print(\"Mean abs error: \", mean_absolute_error(y_test, pred_DTR))\n",
    "print(\"Mean squared error: \", mean_squared_error(y_test,pred_DTR))\n",
    "print(\"Root Mean Squared Error: \", np.sqrt(mean_squared_error(y_test,pred_DTR)))"
   ]
  },
  {
   "cell_type": "code",
   "execution_count": 130,
   "metadata": {},
   "outputs": [
    {
     "name": "stdout",
     "output_type": "stream",
     "text": [
      "The CV score  for Linear_regression is : 0.6922216301355781\n"
     ]
    }
   ],
   "source": [
    "print('The CV score  for Linear_regression is :',cross_val_score(lr,x1,y1,cv=7).mean())"
   ]
  },
  {
   "cell_type": "code",
   "execution_count": 131,
   "metadata": {},
   "outputs": [
    {
     "name": "stdout",
     "output_type": "stream",
     "text": [
      "The CV  score for  the Random forest regressor is: 0.6923347095174568\n"
     ]
    }
   ],
   "source": [
    "print(\"The CV  score for  the Random forest regressor is:\",cross_val_score(RFR,x1,y1,cv=7).mean())"
   ]
  },
  {
   "cell_type": "code",
   "execution_count": 132,
   "metadata": {},
   "outputs": [
    {
     "name": "stdout",
     "output_type": "stream",
     "text": [
      "The CV score  for  the KNN regressor is : 0.6617941992939554\n"
     ]
    }
   ],
   "source": [
    "print('The CV score  for  the KNN regressor is :',cross_val_score(knn,x1,y1,cv=7).mean())"
   ]
  },
  {
   "cell_type": "code",
   "execution_count": 133,
   "metadata": {},
   "outputs": [
    {
     "name": "stdout",
     "output_type": "stream",
     "text": [
      "The CV score  for  the DTR is : 0.3627448899775572\n"
     ]
    }
   ],
   "source": [
    "print('The CV score  for  the DTR is :',cross_val_score(DTR,x1,y1,cv=7).mean())"
   ]
  },
  {
   "cell_type": "markdown",
   "metadata": {},
   "source": [
    "From the observation of R2 Score and cross validation score and their difference we can predict that Linear Regression is the best model."
   ]
  },
  {
   "cell_type": "code",
   "execution_count": 134,
   "metadata": {},
   "outputs": [],
   "source": [
    "parameter = {\n",
    "    'fit_intercept': [True, False],\n",
    "    'normalize': [True, False],\n",
    "    'copy_X': [True, False],\n",
    "    'n_jobs': [1, -1]  \n",
    "}"
   ]
  },
  {
   "cell_type": "code",
   "execution_count": 135,
   "metadata": {},
   "outputs": [],
   "source": [
    "GridCV = GridSearchCV(LinearRegression(),parameter,cv=5,n_jobs = -1,verbose = 1)"
   ]
  },
  {
   "cell_type": "code",
   "execution_count": 136,
   "metadata": {},
   "outputs": [
    {
     "name": "stdout",
     "output_type": "stream",
     "text": [
      "Fitting 5 folds for each of 16 candidates, totalling 80 fits\n"
     ]
    },
    {
     "data": {
      "text/plain": [
       "GridSearchCV(cv=5, estimator=LinearRegression(), n_jobs=-1,\n",
       "             param_grid={'copy_X': [True, False],\n",
       "                         'fit_intercept': [True, False], 'n_jobs': [1, -1],\n",
       "                         'normalize': [True, False]},\n",
       "             verbose=1)"
      ]
     },
     "execution_count": 136,
     "metadata": {},
     "output_type": "execute_result"
    }
   ],
   "source": [
    "GridCV.fit(x_train,y_train)"
   ]
  },
  {
   "cell_type": "code",
   "execution_count": 137,
   "metadata": {},
   "outputs": [
    {
     "data": {
      "text/plain": [
       "{'copy_X': True, 'fit_intercept': False, 'n_jobs': 1, 'normalize': True}"
      ]
     },
     "execution_count": 137,
     "metadata": {},
     "output_type": "execute_result"
    }
   ],
   "source": [
    "GridCV.best_params_"
   ]
  },
  {
   "cell_type": "code",
   "execution_count": 138,
   "metadata": {},
   "outputs": [
    {
     "name": "stdout",
     "output_type": "stream",
     "text": [
      "73.79051086151162\n"
     ]
    }
   ],
   "source": [
    "Best_model_Regressor = LinearRegression( copy_X= 'True', fit_intercept= 'False', n_jobs= 1, normalize = 'True')\n",
    "Best_model_Regressor.fit(x_train,y_train)\n",
    "pred = Best_model_Regressor.predict(x_test)\n",
    "acc = r2_score(y_test,pred_RFR)\n",
    "print(acc*100)"
   ]
  },
  {
   "cell_type": "code",
   "execution_count": 139,
   "metadata": {},
   "outputs": [
    {
     "data": {
      "text/plain": [
       "array([-0.55010126,  1.35441453, -0.49776848, ..., -0.2315313 ,\n",
       "        1.3754216 , -0.57918536])"
      ]
     },
     "execution_count": 139,
     "metadata": {},
     "output_type": "execute_result"
    }
   ],
   "source": [
    "filename='Global_Power_Plant_Database_Project.pickle'\n",
    "pickle.dump(Best_model_Regressor,open(filename,'wb'))\n",
    "loaded_model_r = pickle.load(open(filename, 'rb'))\n",
    "loaded_model_r.predict(x_test)"
   ]
  },
  {
   "cell_type": "code",
   "execution_count": 140,
   "metadata": {},
   "outputs": [
    {
     "data": {
      "text/html": [
       "<div>\n",
       "<style scoped>\n",
       "    .dataframe tbody tr th:only-of-type {\n",
       "        vertical-align: middle;\n",
       "    }\n",
       "\n",
       "    .dataframe tbody tr th {\n",
       "        vertical-align: top;\n",
       "    }\n",
       "\n",
       "    .dataframe thead th {\n",
       "        text-align: right;\n",
       "    }\n",
       "</style>\n",
       "<table border=\"1\" class=\"dataframe\">\n",
       "  <thead>\n",
       "    <tr style=\"text-align: right;\">\n",
       "      <th></th>\n",
       "      <th>Original</th>\n",
       "      <th>Predicted</th>\n",
       "    </tr>\n",
       "  </thead>\n",
       "  <tbody>\n",
       "    <tr>\n",
       "      <th>0</th>\n",
       "      <td>-0.734568</td>\n",
       "      <td>-0.550101</td>\n",
       "    </tr>\n",
       "    <tr>\n",
       "      <th>1</th>\n",
       "      <td>1.292926</td>\n",
       "      <td>1.354415</td>\n",
       "    </tr>\n",
       "    <tr>\n",
       "      <th>2</th>\n",
       "      <td>-0.734568</td>\n",
       "      <td>-0.497768</td>\n",
       "    </tr>\n",
       "    <tr>\n",
       "      <th>3</th>\n",
       "      <td>1.292926</td>\n",
       "      <td>1.592045</td>\n",
       "    </tr>\n",
       "    <tr>\n",
       "      <th>4</th>\n",
       "      <td>-0.734568</td>\n",
       "      <td>-0.307383</td>\n",
       "    </tr>\n",
       "    <tr>\n",
       "      <th>...</th>\n",
       "      <td>...</td>\n",
       "      <td>...</td>\n",
       "    </tr>\n",
       "    <tr>\n",
       "      <th>2024</th>\n",
       "      <td>1.525260</td>\n",
       "      <td>1.502833</td>\n",
       "    </tr>\n",
       "    <tr>\n",
       "      <th>2025</th>\n",
       "      <td>-0.734568</td>\n",
       "      <td>-0.419312</td>\n",
       "    </tr>\n",
       "    <tr>\n",
       "      <th>2026</th>\n",
       "      <td>0.787096</td>\n",
       "      <td>-0.231531</td>\n",
       "    </tr>\n",
       "    <tr>\n",
       "      <th>2027</th>\n",
       "      <td>1.408239</td>\n",
       "      <td>1.375422</td>\n",
       "    </tr>\n",
       "    <tr>\n",
       "      <th>2028</th>\n",
       "      <td>-0.734568</td>\n",
       "      <td>-0.579185</td>\n",
       "    </tr>\n",
       "  </tbody>\n",
       "</table>\n",
       "<p>2029 rows × 2 columns</p>\n",
       "</div>"
      ],
      "text/plain": [
       "      Original  Predicted\n",
       "0    -0.734568  -0.550101\n",
       "1     1.292926   1.354415\n",
       "2    -0.734568  -0.497768\n",
       "3     1.292926   1.592045\n",
       "4    -0.734568  -0.307383\n",
       "...        ...        ...\n",
       "2024  1.525260   1.502833\n",
       "2025 -0.734568  -0.419312\n",
       "2026  0.787096  -0.231531\n",
       "2027  1.408239   1.375422\n",
       "2028 -0.734568  -0.579185\n",
       "\n",
       "[2029 rows x 2 columns]"
      ]
     },
     "execution_count": 140,
     "metadata": {},
     "output_type": "execute_result"
    }
   ],
   "source": [
    "a = np.array(y_test)\n",
    "predicted = np.array(Best_model_Regressor.predict(x_test))\n",
    "Global_Power_Plant_Database_Project = pd.DataFrame({\"Original\":a,\"Predicted\":predicted},index= range(len(a)))\n",
    "Global_Power_Plant_Database_Project"
   ]
  },
  {
   "cell_type": "code",
   "execution_count": null,
   "metadata": {},
   "outputs": [],
   "source": []
  }
 ],
 "metadata": {
  "kernelspec": {
   "display_name": "Python 3",
   "language": "python",
   "name": "python3"
  },
  "language_info": {
   "codemirror_mode": {
    "name": "ipython",
    "version": 3
   },
   "file_extension": ".py",
   "mimetype": "text/x-python",
   "name": "python",
   "nbconvert_exporter": "python",
   "pygments_lexer": "ipython3",
   "version": "3.8.5"
  }
 },
 "nbformat": 4,
 "nbformat_minor": 4
}
