{
 "cells": [
  {
   "cell_type": "markdown",
   "metadata": {},
   "source": [
    "Prediction : Make two prediction 1) Primary Fuel 2) capacity_mw"
   ]
  },
  {
   "cell_type": "markdown",
   "metadata": {},
   "source": [
    "primary_fuel (text): energy source used in primary electricity generation or export\n",
    "\n",
    "capacity_mw (number): electrical generating capacity in megawatts"
   ]
  },
  {
   "cell_type": "code",
   "execution_count": 1,
   "metadata": {},
   "outputs": [],
   "source": [
    "import pandas as pd\n",
    "import numpy as np\n",
    "import matplotlib.pyplot as plt\n",
    "import seaborn as sns\n",
    "import warnings\n",
    "warnings.filterwarnings('ignore')"
   ]
  },
  {
   "cell_type": "code",
   "execution_count": 2,
   "metadata": {},
   "outputs": [
    {
     "data": {
      "text/html": [
       "<div>\n",
       "<style scoped>\n",
       "    .dataframe tbody tr th:only-of-type {\n",
       "        vertical-align: middle;\n",
       "    }\n",
       "\n",
       "    .dataframe tbody tr th {\n",
       "        vertical-align: top;\n",
       "    }\n",
       "\n",
       "    .dataframe thead th {\n",
       "        text-align: right;\n",
       "    }\n",
       "</style>\n",
       "<table border=\"1\" class=\"dataframe\">\n",
       "  <thead>\n",
       "    <tr style=\"text-align: right;\">\n",
       "      <th></th>\n",
       "      <th>country</th>\n",
       "      <th>country_long</th>\n",
       "      <th>name</th>\n",
       "      <th>gppd_idnr</th>\n",
       "      <th>capacity_mw</th>\n",
       "      <th>latitude</th>\n",
       "      <th>longitude</th>\n",
       "      <th>primary_fuel</th>\n",
       "      <th>other_fuel1</th>\n",
       "      <th>other_fuel2</th>\n",
       "      <th>...</th>\n",
       "      <th>year_of_capacity_data</th>\n",
       "      <th>generation_gwh_2013</th>\n",
       "      <th>generation_gwh_2014</th>\n",
       "      <th>generation_gwh_2015</th>\n",
       "      <th>generation_gwh_2016</th>\n",
       "      <th>generation_gwh_2017</th>\n",
       "      <th>generation_gwh_2018</th>\n",
       "      <th>generation_gwh_2019</th>\n",
       "      <th>generation_data_source</th>\n",
       "      <th>estimated_generation_gwh</th>\n",
       "    </tr>\n",
       "  </thead>\n",
       "  <tbody>\n",
       "    <tr>\n",
       "      <th>0</th>\n",
       "      <td>IND</td>\n",
       "      <td>India</td>\n",
       "      <td>ACME Solar Tower</td>\n",
       "      <td>WRI1020239</td>\n",
       "      <td>2.5</td>\n",
       "      <td>28.1839</td>\n",
       "      <td>73.2407</td>\n",
       "      <td>Solar</td>\n",
       "      <td>NaN</td>\n",
       "      <td>NaN</td>\n",
       "      <td>...</td>\n",
       "      <td>NaN</td>\n",
       "      <td>NaN</td>\n",
       "      <td>NaN</td>\n",
       "      <td>NaN</td>\n",
       "      <td>NaN</td>\n",
       "      <td>NaN</td>\n",
       "      <td>NaN</td>\n",
       "      <td>NaN</td>\n",
       "      <td>NaN</td>\n",
       "      <td>NaN</td>\n",
       "    </tr>\n",
       "    <tr>\n",
       "      <th>1</th>\n",
       "      <td>IND</td>\n",
       "      <td>India</td>\n",
       "      <td>ADITYA CEMENT WORKS</td>\n",
       "      <td>WRI1019881</td>\n",
       "      <td>98.0</td>\n",
       "      <td>24.7663</td>\n",
       "      <td>74.6090</td>\n",
       "      <td>Coal</td>\n",
       "      <td>NaN</td>\n",
       "      <td>NaN</td>\n",
       "      <td>...</td>\n",
       "      <td>NaN</td>\n",
       "      <td>NaN</td>\n",
       "      <td>NaN</td>\n",
       "      <td>NaN</td>\n",
       "      <td>NaN</td>\n",
       "      <td>NaN</td>\n",
       "      <td>NaN</td>\n",
       "      <td>NaN</td>\n",
       "      <td>NaN</td>\n",
       "      <td>NaN</td>\n",
       "    </tr>\n",
       "    <tr>\n",
       "      <th>2</th>\n",
       "      <td>IND</td>\n",
       "      <td>India</td>\n",
       "      <td>AES Saurashtra Windfarms</td>\n",
       "      <td>WRI1026669</td>\n",
       "      <td>39.2</td>\n",
       "      <td>21.9038</td>\n",
       "      <td>69.3732</td>\n",
       "      <td>Wind</td>\n",
       "      <td>NaN</td>\n",
       "      <td>NaN</td>\n",
       "      <td>...</td>\n",
       "      <td>NaN</td>\n",
       "      <td>NaN</td>\n",
       "      <td>NaN</td>\n",
       "      <td>NaN</td>\n",
       "      <td>NaN</td>\n",
       "      <td>NaN</td>\n",
       "      <td>NaN</td>\n",
       "      <td>NaN</td>\n",
       "      <td>NaN</td>\n",
       "      <td>NaN</td>\n",
       "    </tr>\n",
       "    <tr>\n",
       "      <th>3</th>\n",
       "      <td>IND</td>\n",
       "      <td>India</td>\n",
       "      <td>AGARTALA GT</td>\n",
       "      <td>IND0000001</td>\n",
       "      <td>135.0</td>\n",
       "      <td>23.8712</td>\n",
       "      <td>91.3602</td>\n",
       "      <td>Gas</td>\n",
       "      <td>NaN</td>\n",
       "      <td>NaN</td>\n",
       "      <td>...</td>\n",
       "      <td>2019.0</td>\n",
       "      <td>NaN</td>\n",
       "      <td>617.789264</td>\n",
       "      <td>843.747000</td>\n",
       "      <td>886.004428</td>\n",
       "      <td>663.774500</td>\n",
       "      <td>626.239128</td>\n",
       "      <td>NaN</td>\n",
       "      <td>Central Electricity Authority</td>\n",
       "      <td>NaN</td>\n",
       "    </tr>\n",
       "    <tr>\n",
       "      <th>4</th>\n",
       "      <td>IND</td>\n",
       "      <td>India</td>\n",
       "      <td>AKALTARA TPP</td>\n",
       "      <td>IND0000002</td>\n",
       "      <td>1800.0</td>\n",
       "      <td>21.9603</td>\n",
       "      <td>82.4091</td>\n",
       "      <td>Coal</td>\n",
       "      <td>Oil</td>\n",
       "      <td>NaN</td>\n",
       "      <td>...</td>\n",
       "      <td>2019.0</td>\n",
       "      <td>NaN</td>\n",
       "      <td>3035.550000</td>\n",
       "      <td>5916.370000</td>\n",
       "      <td>6243.000000</td>\n",
       "      <td>5385.579736</td>\n",
       "      <td>7279.000000</td>\n",
       "      <td>NaN</td>\n",
       "      <td>Central Electricity Authority</td>\n",
       "      <td>NaN</td>\n",
       "    </tr>\n",
       "    <tr>\n",
       "      <th>...</th>\n",
       "      <td>...</td>\n",
       "      <td>...</td>\n",
       "      <td>...</td>\n",
       "      <td>...</td>\n",
       "      <td>...</td>\n",
       "      <td>...</td>\n",
       "      <td>...</td>\n",
       "      <td>...</td>\n",
       "      <td>...</td>\n",
       "      <td>...</td>\n",
       "      <td>...</td>\n",
       "      <td>...</td>\n",
       "      <td>...</td>\n",
       "      <td>...</td>\n",
       "      <td>...</td>\n",
       "      <td>...</td>\n",
       "      <td>...</td>\n",
       "      <td>...</td>\n",
       "      <td>...</td>\n",
       "      <td>...</td>\n",
       "      <td>...</td>\n",
       "    </tr>\n",
       "    <tr>\n",
       "      <th>902</th>\n",
       "      <td>IND</td>\n",
       "      <td>India</td>\n",
       "      <td>YERMARUS TPP</td>\n",
       "      <td>IND0000513</td>\n",
       "      <td>1600.0</td>\n",
       "      <td>16.2949</td>\n",
       "      <td>77.3568</td>\n",
       "      <td>Coal</td>\n",
       "      <td>Oil</td>\n",
       "      <td>NaN</td>\n",
       "      <td>...</td>\n",
       "      <td>2019.0</td>\n",
       "      <td>NaN</td>\n",
       "      <td>NaN</td>\n",
       "      <td>0.994875</td>\n",
       "      <td>233.596650</td>\n",
       "      <td>865.400000</td>\n",
       "      <td>686.500000</td>\n",
       "      <td>NaN</td>\n",
       "      <td>Central Electricity Authority</td>\n",
       "      <td>NaN</td>\n",
       "    </tr>\n",
       "    <tr>\n",
       "      <th>903</th>\n",
       "      <td>IND</td>\n",
       "      <td>India</td>\n",
       "      <td>Yelesandra Solar Power Plant</td>\n",
       "      <td>WRI1026222</td>\n",
       "      <td>3.0</td>\n",
       "      <td>12.8932</td>\n",
       "      <td>78.1654</td>\n",
       "      <td>Solar</td>\n",
       "      <td>NaN</td>\n",
       "      <td>NaN</td>\n",
       "      <td>...</td>\n",
       "      <td>NaN</td>\n",
       "      <td>NaN</td>\n",
       "      <td>NaN</td>\n",
       "      <td>NaN</td>\n",
       "      <td>NaN</td>\n",
       "      <td>NaN</td>\n",
       "      <td>NaN</td>\n",
       "      <td>NaN</td>\n",
       "      <td>NaN</td>\n",
       "      <td>NaN</td>\n",
       "    </tr>\n",
       "    <tr>\n",
       "      <th>904</th>\n",
       "      <td>IND</td>\n",
       "      <td>India</td>\n",
       "      <td>Yelisirur wind power project</td>\n",
       "      <td>WRI1026776</td>\n",
       "      <td>25.5</td>\n",
       "      <td>15.2758</td>\n",
       "      <td>75.5811</td>\n",
       "      <td>Wind</td>\n",
       "      <td>NaN</td>\n",
       "      <td>NaN</td>\n",
       "      <td>...</td>\n",
       "      <td>NaN</td>\n",
       "      <td>NaN</td>\n",
       "      <td>NaN</td>\n",
       "      <td>NaN</td>\n",
       "      <td>NaN</td>\n",
       "      <td>NaN</td>\n",
       "      <td>NaN</td>\n",
       "      <td>NaN</td>\n",
       "      <td>NaN</td>\n",
       "      <td>NaN</td>\n",
       "    </tr>\n",
       "    <tr>\n",
       "      <th>905</th>\n",
       "      <td>IND</td>\n",
       "      <td>India</td>\n",
       "      <td>ZAWAR MINES</td>\n",
       "      <td>WRI1019901</td>\n",
       "      <td>80.0</td>\n",
       "      <td>24.3500</td>\n",
       "      <td>73.7477</td>\n",
       "      <td>Coal</td>\n",
       "      <td>NaN</td>\n",
       "      <td>NaN</td>\n",
       "      <td>...</td>\n",
       "      <td>NaN</td>\n",
       "      <td>NaN</td>\n",
       "      <td>NaN</td>\n",
       "      <td>NaN</td>\n",
       "      <td>NaN</td>\n",
       "      <td>NaN</td>\n",
       "      <td>NaN</td>\n",
       "      <td>NaN</td>\n",
       "      <td>NaN</td>\n",
       "      <td>NaN</td>\n",
       "    </tr>\n",
       "    <tr>\n",
       "      <th>906</th>\n",
       "      <td>IND</td>\n",
       "      <td>India</td>\n",
       "      <td>iEnergy Theni Wind Farm</td>\n",
       "      <td>WRI1026761</td>\n",
       "      <td>16.5</td>\n",
       "      <td>9.9344</td>\n",
       "      <td>77.4768</td>\n",
       "      <td>Wind</td>\n",
       "      <td>NaN</td>\n",
       "      <td>NaN</td>\n",
       "      <td>...</td>\n",
       "      <td>NaN</td>\n",
       "      <td>NaN</td>\n",
       "      <td>NaN</td>\n",
       "      <td>NaN</td>\n",
       "      <td>NaN</td>\n",
       "      <td>NaN</td>\n",
       "      <td>NaN</td>\n",
       "      <td>NaN</td>\n",
       "      <td>NaN</td>\n",
       "      <td>NaN</td>\n",
       "    </tr>\n",
       "  </tbody>\n",
       "</table>\n",
       "<p>907 rows × 27 columns</p>\n",
       "</div>"
      ],
      "text/plain": [
       "    country country_long                          name   gppd_idnr  \\\n",
       "0       IND        India              ACME Solar Tower  WRI1020239   \n",
       "1       IND        India           ADITYA CEMENT WORKS  WRI1019881   \n",
       "2       IND        India      AES Saurashtra Windfarms  WRI1026669   \n",
       "3       IND        India                   AGARTALA GT  IND0000001   \n",
       "4       IND        India                  AKALTARA TPP  IND0000002   \n",
       "..      ...          ...                           ...         ...   \n",
       "902     IND        India                  YERMARUS TPP  IND0000513   \n",
       "903     IND        India  Yelesandra Solar Power Plant  WRI1026222   \n",
       "904     IND        India  Yelisirur wind power project  WRI1026776   \n",
       "905     IND        India                   ZAWAR MINES  WRI1019901   \n",
       "906     IND        India       iEnergy Theni Wind Farm  WRI1026761   \n",
       "\n",
       "     capacity_mw  latitude  longitude primary_fuel other_fuel1 other_fuel2  \\\n",
       "0            2.5   28.1839    73.2407        Solar         NaN         NaN   \n",
       "1           98.0   24.7663    74.6090         Coal         NaN         NaN   \n",
       "2           39.2   21.9038    69.3732         Wind         NaN         NaN   \n",
       "3          135.0   23.8712    91.3602          Gas         NaN         NaN   \n",
       "4         1800.0   21.9603    82.4091         Coal         Oil         NaN   \n",
       "..           ...       ...        ...          ...         ...         ...   \n",
       "902       1600.0   16.2949    77.3568         Coal         Oil         NaN   \n",
       "903          3.0   12.8932    78.1654        Solar         NaN         NaN   \n",
       "904         25.5   15.2758    75.5811         Wind         NaN         NaN   \n",
       "905         80.0   24.3500    73.7477         Coal         NaN         NaN   \n",
       "906         16.5    9.9344    77.4768         Wind         NaN         NaN   \n",
       "\n",
       "     ...  year_of_capacity_data  generation_gwh_2013 generation_gwh_2014  \\\n",
       "0    ...                    NaN                  NaN                 NaN   \n",
       "1    ...                    NaN                  NaN                 NaN   \n",
       "2    ...                    NaN                  NaN                 NaN   \n",
       "3    ...                 2019.0                  NaN          617.789264   \n",
       "4    ...                 2019.0                  NaN         3035.550000   \n",
       "..   ...                    ...                  ...                 ...   \n",
       "902  ...                 2019.0                  NaN                 NaN   \n",
       "903  ...                    NaN                  NaN                 NaN   \n",
       "904  ...                    NaN                  NaN                 NaN   \n",
       "905  ...                    NaN                  NaN                 NaN   \n",
       "906  ...                    NaN                  NaN                 NaN   \n",
       "\n",
       "    generation_gwh_2015 generation_gwh_2016 generation_gwh_2017  \\\n",
       "0                   NaN                 NaN                 NaN   \n",
       "1                   NaN                 NaN                 NaN   \n",
       "2                   NaN                 NaN                 NaN   \n",
       "3            843.747000          886.004428          663.774500   \n",
       "4           5916.370000         6243.000000         5385.579736   \n",
       "..                  ...                 ...                 ...   \n",
       "902            0.994875          233.596650          865.400000   \n",
       "903                 NaN                 NaN                 NaN   \n",
       "904                 NaN                 NaN                 NaN   \n",
       "905                 NaN                 NaN                 NaN   \n",
       "906                 NaN                 NaN                 NaN   \n",
       "\n",
       "     generation_gwh_2018  generation_gwh_2019         generation_data_source  \\\n",
       "0                    NaN                  NaN                            NaN   \n",
       "1                    NaN                  NaN                            NaN   \n",
       "2                    NaN                  NaN                            NaN   \n",
       "3             626.239128                  NaN  Central Electricity Authority   \n",
       "4            7279.000000                  NaN  Central Electricity Authority   \n",
       "..                   ...                  ...                            ...   \n",
       "902           686.500000                  NaN  Central Electricity Authority   \n",
       "903                  NaN                  NaN                            NaN   \n",
       "904                  NaN                  NaN                            NaN   \n",
       "905                  NaN                  NaN                            NaN   \n",
       "906                  NaN                  NaN                            NaN   \n",
       "\n",
       "     estimated_generation_gwh  \n",
       "0                         NaN  \n",
       "1                         NaN  \n",
       "2                         NaN  \n",
       "3                         NaN  \n",
       "4                         NaN  \n",
       "..                        ...  \n",
       "902                       NaN  \n",
       "903                       NaN  \n",
       "904                       NaN  \n",
       "905                       NaN  \n",
       "906                       NaN  \n",
       "\n",
       "[907 rows x 27 columns]"
      ]
     },
     "execution_count": 2,
     "metadata": {},
     "output_type": "execute_result"
    }
   ],
   "source": [
    "df = pd.read_csv(\"https://raw.githubusercontent.com/wri/global-power-plant-database/master/source_databases_csv/database_IND.csv\")\n",
    "df"
   ]
  },
  {
   "cell_type": "code",
   "execution_count": 3,
   "metadata": {},
   "outputs": [
    {
     "name": "stdout",
     "output_type": "stream",
     "text": [
      "<class 'pandas.core.frame.DataFrame'>\n",
      "RangeIndex: 907 entries, 0 to 906\n",
      "Data columns (total 27 columns):\n",
      " #   Column                    Non-Null Count  Dtype  \n",
      "---  ------                    --------------  -----  \n",
      " 0   country                   907 non-null    object \n",
      " 1   country_long              907 non-null    object \n",
      " 2   name                      907 non-null    object \n",
      " 3   gppd_idnr                 907 non-null    object \n",
      " 4   capacity_mw               907 non-null    float64\n",
      " 5   latitude                  861 non-null    float64\n",
      " 6   longitude                 861 non-null    float64\n",
      " 7   primary_fuel              907 non-null    object \n",
      " 8   other_fuel1               198 non-null    object \n",
      " 9   other_fuel2               1 non-null      object \n",
      " 10  other_fuel3               0 non-null      float64\n",
      " 11  commissioning_year        527 non-null    float64\n",
      " 12  owner                     342 non-null    object \n",
      " 13  source                    907 non-null    object \n",
      " 14  url                       907 non-null    object \n",
      " 15  geolocation_source        888 non-null    object \n",
      " 16  wepp_id                   0 non-null      float64\n",
      " 17  year_of_capacity_data     519 non-null    float64\n",
      " 18  generation_gwh_2013       0 non-null      float64\n",
      " 19  generation_gwh_2014       398 non-null    float64\n",
      " 20  generation_gwh_2015       422 non-null    float64\n",
      " 21  generation_gwh_2016       434 non-null    float64\n",
      " 22  generation_gwh_2017       440 non-null    float64\n",
      " 23  generation_gwh_2018       448 non-null    float64\n",
      " 24  generation_gwh_2019       0 non-null      float64\n",
      " 25  generation_data_source    449 non-null    object \n",
      " 26  estimated_generation_gwh  0 non-null      float64\n",
      "dtypes: float64(15), object(12)\n",
      "memory usage: 191.4+ KB\n"
     ]
    }
   ],
   "source": [
    "df.info()"
   ]
  },
  {
   "cell_type": "code",
   "execution_count": 4,
   "metadata": {},
   "outputs": [
    {
     "data": {
      "text/plain": [
       "country                       0\n",
       "country_long                  0\n",
       "name                          0\n",
       "gppd_idnr                     0\n",
       "capacity_mw                   0\n",
       "latitude                     46\n",
       "longitude                    46\n",
       "primary_fuel                  0\n",
       "other_fuel1                 709\n",
       "other_fuel2                 906\n",
       "other_fuel3                 907\n",
       "commissioning_year          380\n",
       "owner                       565\n",
       "source                        0\n",
       "url                           0\n",
       "geolocation_source           19\n",
       "wepp_id                     907\n",
       "year_of_capacity_data       388\n",
       "generation_gwh_2013         907\n",
       "generation_gwh_2014         509\n",
       "generation_gwh_2015         485\n",
       "generation_gwh_2016         473\n",
       "generation_gwh_2017         467\n",
       "generation_gwh_2018         459\n",
       "generation_gwh_2019         907\n",
       "generation_data_source      458\n",
       "estimated_generation_gwh    907\n",
       "dtype: int64"
      ]
     },
     "execution_count": 4,
     "metadata": {},
     "output_type": "execute_result"
    }
   ],
   "source": [
    "df.isnull().sum()"
   ]
  },
  {
   "cell_type": "code",
   "execution_count": 5,
   "metadata": {
    "scrolled": false
   },
   "outputs": [
    {
     "name": "stdout",
     "output_type": "stream",
     "text": [
      "IND    907\n",
      "Name: country, dtype: int64\n",
      "\n",
      "\n",
      "India    907\n",
      "Name: country_long, dtype: int64\n",
      "\n",
      "\n",
      "SAHAKAR SHIROMANI                  1\n",
      "DAVANGERE MILL                     1\n",
      "AKALTARA TPP                       1\n",
      "KS Oils Chinnakuyili Wind Farm     1\n",
      "MUDHOL CEMENT                      1\n",
      "                                  ..\n",
      "Shree Southern Wind Farm           1\n",
      "SINGUR                             1\n",
      "DHAULI GANGA                       1\n",
      "Ravra - NWEPL Solar Power Plant    1\n",
      "Katol - Citra Solar Power Plant    1\n",
      "Name: name, Length: 907, dtype: int64\n",
      "\n",
      "\n",
      "WRI1026217    1\n",
      "WRI1026131    1\n",
      "IND0000099    1\n",
      "IND0000264    1\n",
      "WRI1020244    1\n",
      "             ..\n",
      "IND0000310    1\n",
      "IND0000393    1\n",
      "WRI1026794    1\n",
      "IND0000408    1\n",
      "WRI1026759    1\n",
      "Name: gppd_idnr, Length: 907, dtype: int64\n",
      "\n",
      "\n",
      "5.0       39\n",
      "10.0      22\n",
      "600.0     20\n",
      "15.0      20\n",
      "1200.0    19\n",
      "          ..\n",
      "31.2       1\n",
      "105.7      1\n",
      "63.2       1\n",
      "49.6       1\n",
      "2.5        1\n",
      "Name: capacity_mw, Length: 361, dtype: int64\n",
      "\n",
      "\n",
      "19.0004    3\n",
      "24.1917    3\n",
      "29.7303    2\n",
      "15.2761    2\n",
      "19.9817    2\n",
      "          ..\n",
      "24.5216    1\n",
      "17.5010    1\n",
      "20.9099    1\n",
      "21.3411    1\n",
      "16.3125    1\n",
      "Name: latitude, Length: 836, dtype: int64\n",
      "\n",
      "\n",
      "71.6917    4\n",
      "71.6918    3\n",
      "81.2875    3\n",
      "72.8983    3\n",
      "75.8988    3\n",
      "          ..\n",
      "73.0901    1\n",
      "88.1764    1\n",
      "79.0548    1\n",
      "78.6463    1\n",
      "87.2500    1\n",
      "Name: longitude, Length: 827, dtype: int64\n",
      "\n",
      "\n",
      "Coal       258\n",
      "Hydro      251\n",
      "Solar      127\n",
      "Wind       123\n",
      "Gas         69\n",
      "Biomass     50\n",
      "Oil         20\n",
      "Nuclear      9\n",
      "Name: primary_fuel, dtype: int64\n",
      "\n",
      "\n",
      "Oil             195\n",
      "Gas               2\n",
      "Cogeneration      1\n",
      "Name: other_fuel1, dtype: int64\n",
      "\n",
      "\n",
      "Oil    1\n",
      "Name: other_fuel2, dtype: int64\n",
      "\n",
      "\n",
      "Series([], Name: other_fuel3, dtype: int64)\n",
      "\n",
      "\n",
      "2015.0    28\n",
      "2013.0    25\n",
      "2012.0    23\n",
      "2016.0    19\n",
      "2010.0    18\n",
      "          ..\n",
      "1939.0     1\n",
      "1927.0     1\n",
      "1949.0     1\n",
      "1956.0     1\n",
      "1969.0     1\n",
      "Name: commissioning_year, Length: 73, dtype: int64\n",
      "\n",
      "\n",
      "Sterling Agro Industries ltd.         4\n",
      "Acc Acc ltd                           4\n",
      "Jk Cement ltd                         4\n",
      "Shree Naman Developers Ltd.           3\n",
      "Shri Ssk ltd                          3\n",
      "                                     ..\n",
      "Nexgen Solux Private Limited          1\n",
      "Spr Pvt ltd                           1\n",
      "SunBorne Energy Gujarat One Pvt       1\n",
      "Punj Lloyd Solar Private Limited      1\n",
      "Lanco Solar Energy Private Limited    1\n",
      "Name: owner, Length: 280, dtype: int64\n",
      "\n",
      "\n",
      "Central Electricity Authority                519\n",
      "CDM                                          124\n",
      "Lancosola                                     10\n",
      "National Renewable Energy Laboratory           8\n",
      "National Thermal Power Corporation (NTPC)      6\n",
      "                                            ... \n",
      "Datta Ssk ltd                                  1\n",
      "Kjs Ahluwalia group                            1\n",
      "Harsha Engineers Limited                       1\n",
      "Navbharat                                      1\n",
      "Manglam Cement ltd                             1\n",
      "Name: source, Length: 191, dtype: int64\n",
      "\n",
      "\n",
      "http://www.cea.nic.in/                                                                                                                                       519\n",
      "http://www.lancosolar.com/pdfs/rajasthan-pv-project-details.pdf                                                                                                7\n",
      "http://www.ntpc.co.in                                                                                                                                          6\n",
      "http://viainfotech.biz/Biomass/theme5/document/green_market/REC-project-list.pdf                                                                               5\n",
      "http://www.acclimited.com/                                                                                                                                     4\n",
      "                                                                                                                                                            ... \n",
      "https://www.iocl.com                                                                                                                                           1\n",
      "http://sterlingandwilson.com/giriraj-enterprises-solar-rajasthan                                                                                               1\n",
      "http://hothurindia.com/                                                                                                                                        1\n",
      "http://food.industry-focus.net/sugar/379-kranti-ssk-to-expand-its-sugar-mill-in-kundal-village-kranti-ssk-to-expand-its-sugar-mill-in-kundal-village.html      1\n",
      "https://cdm.unfccc.int/Projects/DB/LRQA%20Ltd1323254431.52/view                                                                                                1\n",
      "Name: url, Length: 304, dtype: int64\n",
      "\n",
      "\n",
      "WRI                                     765\n",
      "Industry About                          119\n",
      "National Renewable Energy Laboratory      4\n",
      "Name: geolocation_source, dtype: int64\n",
      "\n",
      "\n",
      "Series([], Name: wepp_id, dtype: int64)\n",
      "\n",
      "\n",
      "2019.0    519\n",
      "Name: year_of_capacity_data, dtype: int64\n",
      "\n",
      "\n",
      "Series([], Name: generation_gwh_2013, dtype: int64)\n",
      "\n",
      "\n",
      "0.00000        28\n",
      "483.04300       1\n",
      "770.18000       1\n",
      "2802.37000      1\n",
      "1014.80000      1\n",
      "               ..\n",
      "18807.00000     1\n",
      "5380.26710      1\n",
      "2.85387         1\n",
      "142.53773       1\n",
      "7744.00000      1\n",
      "Name: generation_gwh_2014, Length: 371, dtype: int64\n",
      "\n",
      "\n",
      "0.00000       27\n",
      "240.79990      1\n",
      "2924.00000     1\n",
      "3085.49500     1\n",
      "74.68470       1\n",
      "              ..\n",
      "1947.48365     1\n",
      "588.74000      1\n",
      "618.90990      1\n",
      "3480.74000     1\n",
      "909.00000      1\n",
      "Name: generation_gwh_2015, Length: 396, dtype: int64\n",
      "\n",
      "\n",
      "0.00000       30\n",
      "1511.00000     2\n",
      "8470.57000     2\n",
      "378.68000      1\n",
      "4529.60000     1\n",
      "              ..\n",
      "3212.70000     1\n",
      "716.72835      1\n",
      "3203.30000     1\n",
      "3359.00000     1\n",
      "509.00000      1\n",
      "Name: generation_gwh_2016, Length: 403, dtype: int64\n",
      "\n",
      "\n",
      "0.000000       32\n",
      "170.085300      2\n",
      "1563.457000     1\n",
      "7290.568000     1\n",
      "916.480000      1\n",
      "               ..\n",
      "3738.400000     1\n",
      "802.198850      1\n",
      "1166.965850     1\n",
      "82.655645       1\n",
      "430.000000      1\n",
      "Name: generation_gwh_2017, Length: 408, dtype: int64\n",
      "\n",
      "\n",
      "0.000000       39\n",
      "7873.973000     1\n",
      "193.467800      1\n",
      "450.625550      1\n",
      "219.218400      1\n",
      "               ..\n",
      "3395.487250     1\n",
      "2482.579897     1\n",
      "7352.320000     1\n",
      "955.565050      1\n",
      "521.000000      1\n",
      "Name: generation_gwh_2018, Length: 410, dtype: int64\n",
      "\n",
      "\n",
      "Series([], Name: generation_gwh_2019, dtype: int64)\n",
      "\n",
      "\n",
      "Central Electricity Authority    449\n",
      "Name: generation_data_source, dtype: int64\n",
      "\n",
      "\n",
      "Series([], Name: estimated_generation_gwh, dtype: int64)\n",
      "\n",
      "\n"
     ]
    }
   ],
   "source": [
    "for i in df.columns:\n",
    "    print(df[i].value_counts())\n",
    "    print('\\n')\n",
    "        "
   ]
  },
  {
   "cell_type": "code",
   "execution_count": 6,
   "metadata": {},
   "outputs": [
    {
     "name": "stdout",
     "output_type": "stream",
     "text": [
      "Size of the data: (907, 27)\n",
      "\n",
      "\n",
      "Name of the columns: Index(['country', 'country_long', 'name', 'gppd_idnr', 'capacity_mw',\n",
      "       'latitude', 'longitude', 'primary_fuel', 'other_fuel1', 'other_fuel2',\n",
      "       'other_fuel3', 'commissioning_year', 'owner', 'source', 'url',\n",
      "       'geolocation_source', 'wepp_id', 'year_of_capacity_data',\n",
      "       'generation_gwh_2013', 'generation_gwh_2014', 'generation_gwh_2015',\n",
      "       'generation_gwh_2016', 'generation_gwh_2017', 'generation_gwh_2018',\n",
      "       'generation_gwh_2019', 'generation_data_source',\n",
      "       'estimated_generation_gwh'],\n",
      "      dtype='object')\n",
      "\n",
      "\n"
     ]
    },
    {
     "data": {
      "text/html": [
       "<div>\n",
       "<style scoped>\n",
       "    .dataframe tbody tr th:only-of-type {\n",
       "        vertical-align: middle;\n",
       "    }\n",
       "\n",
       "    .dataframe tbody tr th {\n",
       "        vertical-align: top;\n",
       "    }\n",
       "\n",
       "    .dataframe thead th {\n",
       "        text-align: right;\n",
       "    }\n",
       "</style>\n",
       "<table border=\"1\" class=\"dataframe\">\n",
       "  <thead>\n",
       "    <tr style=\"text-align: right;\">\n",
       "      <th></th>\n",
       "      <th>Column Name</th>\n",
       "      <th>Missing Data Count</th>\n",
       "    </tr>\n",
       "  </thead>\n",
       "  <tbody>\n",
       "    <tr>\n",
       "      <th>0</th>\n",
       "      <td>latitude</td>\n",
       "      <td>46</td>\n",
       "    </tr>\n",
       "    <tr>\n",
       "      <th>1</th>\n",
       "      <td>longitude</td>\n",
       "      <td>46</td>\n",
       "    </tr>\n",
       "    <tr>\n",
       "      <th>2</th>\n",
       "      <td>other_fuel1</td>\n",
       "      <td>709</td>\n",
       "    </tr>\n",
       "    <tr>\n",
       "      <th>3</th>\n",
       "      <td>other_fuel2</td>\n",
       "      <td>906</td>\n",
       "    </tr>\n",
       "    <tr>\n",
       "      <th>4</th>\n",
       "      <td>other_fuel3</td>\n",
       "      <td>907</td>\n",
       "    </tr>\n",
       "    <tr>\n",
       "      <th>5</th>\n",
       "      <td>commissioning_year</td>\n",
       "      <td>380</td>\n",
       "    </tr>\n",
       "    <tr>\n",
       "      <th>6</th>\n",
       "      <td>owner</td>\n",
       "      <td>565</td>\n",
       "    </tr>\n",
       "    <tr>\n",
       "      <th>7</th>\n",
       "      <td>geolocation_source</td>\n",
       "      <td>19</td>\n",
       "    </tr>\n",
       "    <tr>\n",
       "      <th>8</th>\n",
       "      <td>wepp_id</td>\n",
       "      <td>907</td>\n",
       "    </tr>\n",
       "    <tr>\n",
       "      <th>9</th>\n",
       "      <td>year_of_capacity_data</td>\n",
       "      <td>388</td>\n",
       "    </tr>\n",
       "    <tr>\n",
       "      <th>10</th>\n",
       "      <td>generation_gwh_2013</td>\n",
       "      <td>907</td>\n",
       "    </tr>\n",
       "    <tr>\n",
       "      <th>11</th>\n",
       "      <td>generation_gwh_2014</td>\n",
       "      <td>509</td>\n",
       "    </tr>\n",
       "    <tr>\n",
       "      <th>12</th>\n",
       "      <td>generation_gwh_2015</td>\n",
       "      <td>485</td>\n",
       "    </tr>\n",
       "    <tr>\n",
       "      <th>13</th>\n",
       "      <td>generation_gwh_2016</td>\n",
       "      <td>473</td>\n",
       "    </tr>\n",
       "    <tr>\n",
       "      <th>14</th>\n",
       "      <td>generation_gwh_2017</td>\n",
       "      <td>467</td>\n",
       "    </tr>\n",
       "    <tr>\n",
       "      <th>15</th>\n",
       "      <td>generation_gwh_2018</td>\n",
       "      <td>459</td>\n",
       "    </tr>\n",
       "    <tr>\n",
       "      <th>16</th>\n",
       "      <td>generation_gwh_2019</td>\n",
       "      <td>907</td>\n",
       "    </tr>\n",
       "    <tr>\n",
       "      <th>17</th>\n",
       "      <td>generation_data_source</td>\n",
       "      <td>458</td>\n",
       "    </tr>\n",
       "    <tr>\n",
       "      <th>18</th>\n",
       "      <td>estimated_generation_gwh</td>\n",
       "      <td>907</td>\n",
       "    </tr>\n",
       "  </tbody>\n",
       "</table>\n",
       "</div>"
      ],
      "text/plain": [
       "                 Column Name  Missing Data Count\n",
       "0                   latitude                  46\n",
       "1                  longitude                  46\n",
       "2                other_fuel1                 709\n",
       "3                other_fuel2                 906\n",
       "4                other_fuel3                 907\n",
       "5         commissioning_year                 380\n",
       "6                      owner                 565\n",
       "7         geolocation_source                  19\n",
       "8                    wepp_id                 907\n",
       "9      year_of_capacity_data                 388\n",
       "10       generation_gwh_2013                 907\n",
       "11       generation_gwh_2014                 509\n",
       "12       generation_gwh_2015                 485\n",
       "13       generation_gwh_2016                 473\n",
       "14       generation_gwh_2017                 467\n",
       "15       generation_gwh_2018                 459\n",
       "16       generation_gwh_2019                 907\n",
       "17    generation_data_source                 458\n",
       "18  estimated_generation_gwh                 907"
      ]
     },
     "execution_count": 6,
     "metadata": {},
     "output_type": "execute_result"
    }
   ],
   "source": [
    "print(\"Size of the data:\", df.shape)\n",
    "print(\"\\n\")\n",
    "print(\"Name of the columns:\",df.columns)\n",
    "print(\"\\n\")\n",
    "columns_with_missing = df.columns[df.isnull().any()].tolist()\n",
    "column_names = []\n",
    "missing_counts = []\n",
    "for column in columns_with_missing:\n",
    "    variable_name = column.strip()\n",
    "    missing_count = df[column].isnull().sum()\n",
    "    column_names.append(column)\n",
    "    missing_counts.append(missing_count)\n",
    "results_df = pd.DataFrame({\n",
    "    'Column Name': column_names,\n",
    "    'Missing Data Count': missing_counts})\n",
    "results_df"
   ]
  },
  {
   "cell_type": "markdown",
   "metadata": {},
   "source": [
    "Based on the analysis, it is observed that out of the 27 columns, 19 columns have missing values. Considering the size of the dataset, it becomes evident that certain columns such as 'other_fuel2,' 'other_fuel3,' 'wepp_id,' 'generation_gwh_2013,' 'generation_gwh_2019,' and 'estimated_generation_gwh' do not contain any values that can be used for predicting the target variable. Hence, it is recommended to drop these columns from further analysis"
   ]
  },
  {
   "cell_type": "code",
   "execution_count": 7,
   "metadata": {},
   "outputs": [],
   "source": [
    "df.drop(['other_fuel2','other_fuel3','wepp_id', 'generation_gwh_2013','generation_gwh_2019','estimated_generation_gwh'],axis=1,inplace=True)"
   ]
  },
  {
   "cell_type": "code",
   "execution_count": 8,
   "metadata": {},
   "outputs": [
    {
     "data": {
      "text/plain": [
       "array([nan, 'Oil', 'Cogeneration', 'Gas'], dtype=object)"
      ]
     },
     "execution_count": 8,
     "metadata": {},
     "output_type": "execute_result"
    }
   ],
   "source": [
    "df['other_fuel1'].unique()"
   ]
  },
  {
   "cell_type": "code",
   "execution_count": 9,
   "metadata": {},
   "outputs": [
    {
     "data": {
      "text/plain": [
       "0    Oil\n",
       "dtype: object"
      ]
     },
     "execution_count": 9,
     "metadata": {},
     "output_type": "execute_result"
    }
   ],
   "source": [
    "df[\"other_fuel1\"].mode()"
   ]
  },
  {
   "cell_type": "markdown",
   "metadata": {},
   "source": [
    "In the analyzed column, it is found that there are 195 instances where the data is labeled as 'Oil' or the mode of the column is 'Oil.' However, replacing these occurrences with NaN (missing value) could introduce a bias or imbalance in the data.So, let's drop the column"
   ]
  },
  {
   "cell_type": "code",
   "execution_count": 10,
   "metadata": {},
   "outputs": [],
   "source": [
    "df.drop(\"other_fuel1\",axis = 1, inplace = True)"
   ]
  },
  {
   "cell_type": "code",
   "execution_count": 11,
   "metadata": {},
   "outputs": [
    {
     "data": {
      "text/plain": [
       "array(['Solar Paces', 'Ultratech Cement ltd', 'AES', nan,\n",
       "       'Hindustan Pvt lt', 'Dr Ssk ltd', 'Ashok Ssk ltd',\n",
       "       'Shree Sugars ltd', 'Ener-t International Ltd.',\n",
       "       'Nav Bharat Buildcon Private Limited', 'MEIL Green Power Limited',\n",
       "       'Madras Cement Limited',\n",
       "       'DDE Renewable Energy Private Limited (DREPL)',\n",
       "       'Electromech Maritech Private Limited',\n",
       "       'Finehope Allied Engineering Private Limited',\n",
       "       'Khaya Solar Projects Private Limited',\n",
       "       'Newton Solar Private Limited', 'Saidham Overseas Private Limited',\n",
       "       'Vasavi Solar Power Private Limited', 'Indian Power ltd',\n",
       "       'Ballarpur Industries ltd', 'Jk Cement ltd', 'India Ltd icl)',\n",
       "       'Bharat Petroleum Corporation Limited', 'Bhilwara Energy Limited',\n",
       "       'Ideal Projects ltd', 'Ugar Works ltd', 'Vishwanath Sugars ltd',\n",
       "       'Hothur Pvt ltd', 'Janki Corp ltd', 'Mysore Mills ltd',\n",
       "       'Sunflag Co ltd', 'Varam Pvt ltd', 'Sangam Spinners ltd',\n",
       "       'Bharat Refinery ltd', 'Binani Industries ltd',\n",
       "       'Indo Synthetics ltd', 'Dr Babasaheb Ambedkar SSK Limited',\n",
       "       'AEW Infratech Private Limited', 'Enercon India Ltd.',\n",
       "       'Green Infra Solar Farms Private Limited (GIS)',\n",
       "       'OPG Energy Private Limited', 'Punj Lloyd Solar Private Limited',\n",
       "       'Hiraco Renewable Energy Private Limited (HREPL)',\n",
       "       'Moser Baer Energy & Development Limited (MBEDL)',\n",
       "       'Giriraj Enterprises', 'LEPL Projects Limited',\n",
       "       'Lanco Solar Energy Private Limited',\n",
       "       'Abellon CleanEnergy Limited', 'Adani Power Limited',\n",
       "       'Madhav Solar Private Limited', 'Rays Power Private Limited',\n",
       "       'Acc Acc ltd', 'Birla Corp ltd', 'Hindustan Zinc ltd',\n",
       "       'Gupta Ltd gepl)', 'Manikghar Cement co', 'Core Fuels ltd',\n",
       "       'Maharashtra State Power Generation Co Ltd (MAHAGENCO)',\n",
       "       'Charanka Solar Park', 'India Oil Corporation Limited',\n",
       "       'Alex Green Energy Private Limited', 'Reliance Power ltd',\n",
       "       'Bmm Pvt ltd', 'Daund Sugar ltd', 'Davangere Co ltd',\n",
       "       'Mukand Mukand ltd', 'Shri Ssk ltd', 'Jsw Steel ltd',\n",
       "       'Shamanur Sugars ltd', 'Jai Industries ltd', 'Government of India',\n",
       "       'West Coast Paper Mills Ltd.', 'Sanjeev Prakashan',\n",
       "       'Ujaas Energy Limited', 'Sand Land Real Estates Pvt Ltd',\n",
       "       'Aravali Infrapower Private Limited (AIPL)', 'Reliance Power',\n",
       "       'Lanco Infratech', 'Sovox Renewables Private Limited',\n",
       "       'EMCO Limited', 'Frost International Limited',\n",
       "       'Gujurat Alkalies and Chemicals Limited', 'Chambal & chem', 'GFL',\n",
       "       'Lloyds Industries ltd',\n",
       "       'Bangalore Electricity Supply Company Limited',\n",
       "       'Grace Industries ltd', 'Orient Cement ltd',\n",
       "       'SunBorne Energy Gujarat',\n",
       "       'Pandit Deendayal Petrolium University (PDPU)',\n",
       "       'National Thermal Power Corporation (NTPC) Limited',\n",
       "       'Godwari Green Energy Limited',\n",
       "       'Zamil New Delhi Infrastructure Private Limited',\n",
       "       'Shree Saibaba Green Power Private Limited', 'Solaer',\n",
       "       'Cargo Solar Power', 'Amrit Energy Private Limited',\n",
       "       'Solar Energy Centre', 'Jawahar Ssk ltd', 'Purna Ssk ltd',\n",
       "       'Rk Pvt ltd', 'Hindustan Zinc Ltd.', 'HZL',\n",
       "       'Essel MP Energy Limited', 'IL&FS Wind Power Limited',\n",
       "       'Fortune Five Hydel Projects Limited', 'Harsha Engineers Limited',\n",
       "       'Karnataka Power Corporation Limited', 'Godawari Energy ltd',\n",
       "       'Jaypee Ltd jccl)', 'Sunkon Energy Private Limited',\n",
       "       'West Bengal Energy Development Corporation Limited (WBEDCL)',\n",
       "       'Energy Infratech Private Limited', 'K. N. Ram',\n",
       "       'Chettinad Corp ltd', 'Kjs Ahluwalia group', 'Ym Ssk ltd',\n",
       "       'Maral Overseas ltd', 'Gm Energy ltd', 'Uttam Steels ltd',\n",
       "       'Sri Sugars ltd', 'Hemarus Technologies ltd', 'Shri Vedganga ssk',\n",
       "       'Kumbhi Ssk ltd', 'Bannari Sugars ltd', 'Nsl Sugars ltd',\n",
       "       'Hare Pvt ltd', 'Dcm & chem', 'KS Oils', 'Gem Sugars ltd',\n",
       "       'KVK Energy Ventures Ltd', 'Bindu Vau Urja Private Limited',\n",
       "       'SunBorne Energy Gujarat One Pvt', 'Karur Textile Park limited',\n",
       "       'Azure Power (Rajasthan) Private Limited',\n",
       "       'Citra Real Estate Limited', 'Sepset Construction Limited',\n",
       "       'Gujarat Urja Vikas Nigam Limited',\n",
       "       'Firestone Trading Private Limited',\n",
       "       'Northern Solaire Prakash Private Limited',\n",
       "       'Suryauday Solaire Prakash Private Limited', 'ACME Solar Energy',\n",
       "       'Unity Power Limited', 'Welspun Urja India Limited',\n",
       "       'Conflux Infratech Private Limited', 'REI Agro Limited',\n",
       "       'Kohinoor Planet Construction Pvt. Ltd',\n",
       "       'Tata Power Solar Systems Limited (TPREL)',\n",
       "       'Loyal Textile Mills Limited', 'LNJ Power Ventures Limited',\n",
       "       'Tata Co ltd', 'Lokmangal Lokmangal group',\n",
       "       'Atma Powers Private Limited', 'Essel Clean Energy Limited',\n",
       "       'IK Energy Private Limited', 'Serum Institute of India Limited',\n",
       "       'Lanco Solar Power Limited', 'Liberty Oil Mills Limited',\n",
       "       'Mahatma Power ltd', 'Bharat Corp ltd', 'Maihar Cement ltd',\n",
       "       'Mangalore & petrochem', 'Manglam Cement ltd',\n",
       "       'Manikgarh Manikgarh cement', 'Ambuja Cements ltd',\n",
       "       'Rswm Rswm ltd', 'Jodhpur Vidyut Vitran Nigam Limited', 'MSPL',\n",
       "       'Greta Energy ltd', 'Ongc Gas corp',\n",
       "       'Technocraft Technocraft group',\n",
       "       'Megha Engineering and Infrastructure',\n",
       "       'Alianz Eco Power Private Limited', 'Nexgen Solux Private Limited',\n",
       "       'Solairedirect Projects India Private Limited',\n",
       "       'Grasim Industries ltd', 'Reliance Reliance petrochemicals',\n",
       "       'Gmt Pvt ltd', 'Purti Sugar ltd', 'Topworth Metals ltd',\n",
       "       'Orient Power ltd', 'Rattanindia Power ltd', 'National And paper',\n",
       "       'Nitin Spinners ltd', 'NMDC', 'Nuziveedu Seeds limited',\n",
       "       'EMC Limited', 'Tadas Wind Energy', 'Bhoruka Power',\n",
       "       'Godawari Green Energy Limited (GGEL)',\n",
       "       'Precision Technik Private Limited',\n",
       "       'Alex Spectrum Radiations Private Limited', 'NuPower',\n",
       "       'Gangakhed Energy ltd', 'Reliance Ltd ril)', 'Sinarmas Paper ltd',\n",
       "       'Gujarat Mineral Development Corporation Limited (GMDC)',\n",
       "       'Tratnagiri Wind Power Projects Private Limited',\n",
       "       'Patnaik Minerals Pvt. Ltd', 'Vivek Pharmachem (India) Limited',\n",
       "       'Rajasthan Renewable Energy Corporation Limited (RREC)',\n",
       "       'Reliance Power Limited', 'Powerica Limited',\n",
       "       'Integrated Coal Mining (ICML)',\n",
       "       'Precious Energy Services Pvt Ltd', 'Azure Urja Private Limited',\n",
       "       'Surana Industries ltd', 'Grasim Cement ltd', 'Spr Pvt ltd',\n",
       "       'Natural Alliend indust', 'Shree Cement ltd',\n",
       "       'Rajasthan State Mines and Minerals Limited',\n",
       "       'National Thermal Power Corporation (NTPC)',\n",
       "       'Astonfield Management Limited',\n",
       "       'Welspun Solar Punjab Private Limited',\n",
       "       'Taxus Infrastructure and Power Projects Pvt Ltd',\n",
       "       'Ganges Enterprises Private Limited',\n",
       "       'Ratedi Wind Power Private Limited',\n",
       "       'Indian Oil Corporation (IOC)',\n",
       "       'Northwest Energy Private Limited (NWEPL)',\n",
       "       'SEI Solar Energy Private Limited',\n",
       "       'Welspun Solar AP Private Limited', 'Relaxo Footwears Limited',\n",
       "       \"Roaring 40's Wind Farms Private Limited\",\n",
       "       'Rucha Soya Industries Limited', 'Sahakar Shiromani vasantrao',\n",
       "       'Godavari Mills ltd', 'Kranti Ssk ltd', 'Sinewave Pvt ltd',\n",
       "       'Vasantdada Ssk ltd', 'Shri Hiranyakeshi ssk',\n",
       "       'Sahakarmaharshi Bhausaheb thor', 'Datta Ssk ltd',\n",
       "       'Shri Malaprabha ssk', 'Dcm Industries ltd', 'Mula Ssk ltd',\n",
       "       'SWPPL', 'Aftaab Solar Private Limited (ASPL)',\n",
       "       'Raajratna Energy Holdings Private Limited (REHPL)',\n",
       "       'Sai Sulphonates', 'Omega Solar Projects Private Limited',\n",
       "       'Mono Steel (India) Ltd', 'Jain Solar',\n",
       "       'Backbone Enterprises Limited',\n",
       "       'S J Green Park Energy Private Limited',\n",
       "       'Konark Gujarat Private Limited', 'Shree Naman Developers Ltd.',\n",
       "       'Moser Baer Clean Energy Limited (MBCEL)',\n",
       "       'Green Infra Wind Power Projects Limited',\n",
       "       'Solitaire Energies Pvt Ltd', 'Centaur Mercantile Pvt. Ltd.',\n",
       "       'Sterling Agro Industries ltd.', 'Sumilon Industries Limited',\n",
       "       'Clover Solar Private Limited (CSPL)', 'Dhariwal Pvt ltd',\n",
       "       'Mukesh Gupta group', 'Rashtriya & fert', 'Nocil Nocil rubber',\n",
       "       'TVS Energy limited', 'TVS Energy Limited',\n",
       "       'Tadas Wind Energy Private Limited', 'Tata BP Solar India Limited',\n",
       "       'Tata Power', 'Rayala Wind Power Company Private Limited',\n",
       "       'Moser Baer Solar Limited (MBSL)', 'Torrent Power Limited', 'UPL',\n",
       "       'Vardham Vardham group', 'Kesoram Industries ltd',\n",
       "       'National Ltd nfl)', 'Vikram Vikram cement', 'Vaayu Renew',\n",
       "       'Gujarat Industries Power Company Limited (GIPCL)',\n",
       "       'ACME Cleantech Solutions Private Limited',\n",
       "       'Videocon Industries Limited', 'Weizzmann Forex Limited',\n",
       "       'Riddhi Siddhi Gluco Biols Limited',\n",
       "       'Mytrah Energy (India) Limited', 'Yashwantrao Krishna ssk',\n",
       "       'iEnergy Wind Farms'], dtype=object)"
      ]
     },
     "execution_count": 11,
     "metadata": {},
     "output_type": "execute_result"
    }
   ],
   "source": [
    "df[\"owner\"].unique()"
   ]
  },
  {
   "cell_type": "markdown",
   "metadata": {},
   "source": [
    "The column 'owner' in the dataset contains the names of owners, which are not essential for predicting our target variable. Hence, this column can be deemed unnecessary and can be excluded from further analysis"
   ]
  },
  {
   "cell_type": "code",
   "execution_count": 12,
   "metadata": {},
   "outputs": [],
   "source": [
    "df.drop(\"owner\",axis=1,inplace=True)"
   ]
  },
  {
   "cell_type": "code",
   "execution_count": 13,
   "metadata": {},
   "outputs": [],
   "source": [
    "df[\"generation_gwh_2014\"].fillna(df[\"generation_gwh_2014\"].mean(), inplace=True) # missing values replace with mean"
   ]
  },
  {
   "cell_type": "code",
   "execution_count": 14,
   "metadata": {},
   "outputs": [],
   "source": [
    "df[\"generation_gwh_2015\"].fillna(df[\"generation_gwh_2015\"].mean(), inplace=True) # missing values replace with mean"
   ]
  },
  {
   "cell_type": "code",
   "execution_count": 15,
   "metadata": {},
   "outputs": [],
   "source": [
    "df[\"generation_gwh_2016\"].fillna(df[\"generation_gwh_2016\"].mean(), inplace=True) # missing values replace with mean"
   ]
  },
  {
   "cell_type": "code",
   "execution_count": 16,
   "metadata": {},
   "outputs": [],
   "source": [
    "df[\"generation_gwh_2017\"].fillna(df[\"generation_gwh_2017\"].mean(), inplace=True) # missing values replace with mean"
   ]
  },
  {
   "cell_type": "code",
   "execution_count": 17,
   "metadata": {},
   "outputs": [],
   "source": [
    "df[\"generation_gwh_2018\"].fillna(df[\"generation_gwh_2018\"].mean(), inplace=True) # missing values replace with mean"
   ]
  },
  {
   "cell_type": "code",
   "execution_count": 18,
   "metadata": {},
   "outputs": [
    {
     "data": {
      "text/html": [
       "<div>\n",
       "<style scoped>\n",
       "    .dataframe tbody tr th:only-of-type {\n",
       "        vertical-align: middle;\n",
       "    }\n",
       "\n",
       "    .dataframe tbody tr th {\n",
       "        vertical-align: top;\n",
       "    }\n",
       "\n",
       "    .dataframe thead th {\n",
       "        text-align: right;\n",
       "    }\n",
       "</style>\n",
       "<table border=\"1\" class=\"dataframe\">\n",
       "  <thead>\n",
       "    <tr style=\"text-align: right;\">\n",
       "      <th></th>\n",
       "      <th>Column Name</th>\n",
       "      <th>Missing Data Count</th>\n",
       "    </tr>\n",
       "  </thead>\n",
       "  <tbody>\n",
       "    <tr>\n",
       "      <th>0</th>\n",
       "      <td>latitude</td>\n",
       "      <td>46</td>\n",
       "    </tr>\n",
       "    <tr>\n",
       "      <th>1</th>\n",
       "      <td>longitude</td>\n",
       "      <td>46</td>\n",
       "    </tr>\n",
       "    <tr>\n",
       "      <th>2</th>\n",
       "      <td>commissioning_year</td>\n",
       "      <td>380</td>\n",
       "    </tr>\n",
       "    <tr>\n",
       "      <th>3</th>\n",
       "      <td>geolocation_source</td>\n",
       "      <td>19</td>\n",
       "    </tr>\n",
       "    <tr>\n",
       "      <th>4</th>\n",
       "      <td>year_of_capacity_data</td>\n",
       "      <td>388</td>\n",
       "    </tr>\n",
       "    <tr>\n",
       "      <th>5</th>\n",
       "      <td>generation_data_source</td>\n",
       "      <td>458</td>\n",
       "    </tr>\n",
       "  </tbody>\n",
       "</table>\n",
       "</div>"
      ],
      "text/plain": [
       "              Column Name  Missing Data Count\n",
       "0                latitude                  46\n",
       "1               longitude                  46\n",
       "2      commissioning_year                 380\n",
       "3      geolocation_source                  19\n",
       "4   year_of_capacity_data                 388\n",
       "5  generation_data_source                 458"
      ]
     },
     "execution_count": 18,
     "metadata": {},
     "output_type": "execute_result"
    }
   ],
   "source": [
    "columns_with_missing = df.columns[df.isnull().any()].tolist()\n",
    "column_names = []\n",
    "missing_counts = []\n",
    "for column in columns_with_missing:\n",
    "    variable_name = column.strip()\n",
    "    missing_count = df[column].isnull().sum()\n",
    "    column_names.append(column)\n",
    "    missing_counts.append(missing_count)\n",
    "results_df = pd.DataFrame({\n",
    "    'Column Name': column_names,\n",
    "    'Missing Data Count': missing_counts})\n",
    "results_df"
   ]
  },
  {
   "cell_type": "code",
   "execution_count": 19,
   "metadata": {},
   "outputs": [],
   "source": [
    "#Filling Null Values of \"latitude\" column in dataset by mean value\n",
    "df[\"latitude\"].fillna(df[\"latitude\"].mean(), inplace=True)"
   ]
  },
  {
   "cell_type": "code",
   "execution_count": 20,
   "metadata": {},
   "outputs": [],
   "source": [
    "#Filling Null Values of \"longitude\" column in dataset by mean value\n",
    "df[\"longitude\"].fillna(df[\"longitude\"].mean(), inplace=True)"
   ]
  },
  {
   "cell_type": "code",
   "execution_count": 21,
   "metadata": {},
   "outputs": [],
   "source": [
    "df[\"commissioning_year\"].fillna(df[\"commissioning_year\"].mean(), inplace=True) # fill the Nan value with mean"
   ]
  },
  {
   "cell_type": "code",
   "execution_count": 22,
   "metadata": {},
   "outputs": [
    {
     "data": {
      "text/plain": [
       "0    WRI\n",
       "dtype: object"
      ]
     },
     "execution_count": 22,
     "metadata": {},
     "output_type": "execute_result"
    }
   ],
   "source": [
    "df[\"geolocation_source\"].mode()"
   ]
  },
  {
   "cell_type": "code",
   "execution_count": 23,
   "metadata": {},
   "outputs": [],
   "source": [
    "df[\"geolocation_source\"].fillna(df[\"geolocation_source\"].mode()[0], inplace=True) # as it is categorical, fill Nan with mode"
   ]
  },
  {
   "cell_type": "code",
   "execution_count": 24,
   "metadata": {},
   "outputs": [
    {
     "data": {
      "text/plain": [
       "array([  nan, 2019.])"
      ]
     },
     "execution_count": 24,
     "metadata": {},
     "output_type": "execute_result"
    }
   ],
   "source": [
    "df[\"year_of_capacity_data\"].unique()"
   ]
  },
  {
   "cell_type": "markdown",
   "metadata": {},
   "source": [
    "This column also labeled single value"
   ]
  },
  {
   "cell_type": "code",
   "execution_count": 25,
   "metadata": {},
   "outputs": [],
   "source": [
    "df.drop(\"year_of_capacity_data\",axis = 1, inplace = True)"
   ]
  },
  {
   "cell_type": "code",
   "execution_count": 26,
   "metadata": {},
   "outputs": [
    {
     "data": {
      "text/plain": [
       "array([nan, 'Central Electricity Authority'], dtype=object)"
      ]
     },
     "execution_count": 26,
     "metadata": {},
     "output_type": "execute_result"
    }
   ],
   "source": [
    "df[\"generation_data_source\"].unique()"
   ]
  },
  {
   "cell_type": "markdown",
   "metadata": {},
   "source": [
    "Based on the analysis, it appears that a particular column in the dataset has only one unique label left, indicating that all other values in the column are missing. In such a scenario, filling the missing values with the mode (most frequent value) could introduce bias or skewness to the dataset."
   ]
  },
  {
   "cell_type": "code",
   "execution_count": 27,
   "metadata": {},
   "outputs": [],
   "source": [
    "df.drop(\"generation_data_source\",axis=1,inplace = True)"
   ]
  },
  {
   "cell_type": "code",
   "execution_count": 28,
   "metadata": {},
   "outputs": [
    {
     "data": {
      "text/plain": [
       "0"
      ]
     },
     "execution_count": 28,
     "metadata": {},
     "output_type": "execute_result"
    }
   ],
   "source": [
    "#  Lets check the nan value count after handling it\n",
    "df.isnull().sum().sum()"
   ]
  },
  {
   "cell_type": "code",
   "execution_count": 29,
   "metadata": {},
   "outputs": [
    {
     "data": {
      "text/html": [
       "<div>\n",
       "<style scoped>\n",
       "    .dataframe tbody tr th:only-of-type {\n",
       "        vertical-align: middle;\n",
       "    }\n",
       "\n",
       "    .dataframe tbody tr th {\n",
       "        vertical-align: top;\n",
       "    }\n",
       "\n",
       "    .dataframe thead th {\n",
       "        text-align: right;\n",
       "    }\n",
       "</style>\n",
       "<table border=\"1\" class=\"dataframe\">\n",
       "  <thead>\n",
       "    <tr style=\"text-align: right;\">\n",
       "      <th></th>\n",
       "      <th>capacity_mw</th>\n",
       "      <th>latitude</th>\n",
       "      <th>longitude</th>\n",
       "      <th>commissioning_year</th>\n",
       "      <th>generation_gwh_2014</th>\n",
       "      <th>generation_gwh_2015</th>\n",
       "      <th>generation_gwh_2016</th>\n",
       "      <th>generation_gwh_2017</th>\n",
       "      <th>generation_gwh_2018</th>\n",
       "    </tr>\n",
       "  </thead>\n",
       "  <tbody>\n",
       "    <tr>\n",
       "      <th>count</th>\n",
       "      <td>907.000000</td>\n",
       "      <td>907.000000</td>\n",
       "      <td>907.000000</td>\n",
       "      <td>907.000000</td>\n",
       "      <td>907.000000</td>\n",
       "      <td>907.000000</td>\n",
       "      <td>907.000000</td>\n",
       "      <td>907.000000</td>\n",
       "      <td>907.000000</td>\n",
       "    </tr>\n",
       "    <tr>\n",
       "      <th>mean</th>\n",
       "      <td>326.223755</td>\n",
       "      <td>21.197918</td>\n",
       "      <td>77.464907</td>\n",
       "      <td>1997.091082</td>\n",
       "      <td>2431.823590</td>\n",
       "      <td>2428.226946</td>\n",
       "      <td>2467.936859</td>\n",
       "      <td>2547.759305</td>\n",
       "      <td>2600.804099</td>\n",
       "    </tr>\n",
       "    <tr>\n",
       "      <th>std</th>\n",
       "      <td>590.085456</td>\n",
       "      <td>6.079148</td>\n",
       "      <td>4.812291</td>\n",
       "      <td>13.016360</td>\n",
       "      <td>2665.338608</td>\n",
       "      <td>2859.349132</td>\n",
       "      <td>2877.890004</td>\n",
       "      <td>2921.502193</td>\n",
       "      <td>3030.808041</td>\n",
       "    </tr>\n",
       "    <tr>\n",
       "      <th>min</th>\n",
       "      <td>0.000000</td>\n",
       "      <td>8.168900</td>\n",
       "      <td>68.644700</td>\n",
       "      <td>1927.000000</td>\n",
       "      <td>0.000000</td>\n",
       "      <td>0.000000</td>\n",
       "      <td>0.000000</td>\n",
       "      <td>0.000000</td>\n",
       "      <td>0.000000</td>\n",
       "    </tr>\n",
       "    <tr>\n",
       "      <th>25%</th>\n",
       "      <td>16.725000</td>\n",
       "      <td>17.072000</td>\n",
       "      <td>74.388900</td>\n",
       "      <td>1997.091082</td>\n",
       "      <td>1211.362750</td>\n",
       "      <td>916.000000</td>\n",
       "      <td>896.500214</td>\n",
       "      <td>882.594850</td>\n",
       "      <td>824.842340</td>\n",
       "    </tr>\n",
       "    <tr>\n",
       "      <th>50%</th>\n",
       "      <td>59.200000</td>\n",
       "      <td>21.281800</td>\n",
       "      <td>76.979200</td>\n",
       "      <td>1997.091082</td>\n",
       "      <td>2431.823590</td>\n",
       "      <td>2428.226946</td>\n",
       "      <td>2467.936859</td>\n",
       "      <td>2547.759305</td>\n",
       "      <td>2600.804099</td>\n",
       "    </tr>\n",
       "    <tr>\n",
       "      <th>75%</th>\n",
       "      <td>385.250000</td>\n",
       "      <td>25.176450</td>\n",
       "      <td>79.206100</td>\n",
       "      <td>2003.000000</td>\n",
       "      <td>2431.823590</td>\n",
       "      <td>2428.226946</td>\n",
       "      <td>2467.936859</td>\n",
       "      <td>2547.759305</td>\n",
       "      <td>2600.804099</td>\n",
       "    </tr>\n",
       "    <tr>\n",
       "      <th>max</th>\n",
       "      <td>4760.000000</td>\n",
       "      <td>34.649000</td>\n",
       "      <td>95.408000</td>\n",
       "      <td>2018.000000</td>\n",
       "      <td>28127.000000</td>\n",
       "      <td>30539.000000</td>\n",
       "      <td>30015.000000</td>\n",
       "      <td>35116.000000</td>\n",
       "      <td>35136.000000</td>\n",
       "    </tr>\n",
       "  </tbody>\n",
       "</table>\n",
       "</div>"
      ],
      "text/plain": [
       "       capacity_mw    latitude   longitude  commissioning_year  \\\n",
       "count   907.000000  907.000000  907.000000          907.000000   \n",
       "mean    326.223755   21.197918   77.464907         1997.091082   \n",
       "std     590.085456    6.079148    4.812291           13.016360   \n",
       "min       0.000000    8.168900   68.644700         1927.000000   \n",
       "25%      16.725000   17.072000   74.388900         1997.091082   \n",
       "50%      59.200000   21.281800   76.979200         1997.091082   \n",
       "75%     385.250000   25.176450   79.206100         2003.000000   \n",
       "max    4760.000000   34.649000   95.408000         2018.000000   \n",
       "\n",
       "       generation_gwh_2014  generation_gwh_2015  generation_gwh_2016  \\\n",
       "count           907.000000           907.000000           907.000000   \n",
       "mean           2431.823590          2428.226946          2467.936859   \n",
       "std            2665.338608          2859.349132          2877.890004   \n",
       "min               0.000000             0.000000             0.000000   \n",
       "25%            1211.362750           916.000000           896.500214   \n",
       "50%            2431.823590          2428.226946          2467.936859   \n",
       "75%            2431.823590          2428.226946          2467.936859   \n",
       "max           28127.000000         30539.000000         30015.000000   \n",
       "\n",
       "       generation_gwh_2017  generation_gwh_2018  \n",
       "count           907.000000           907.000000  \n",
       "mean           2547.759305          2600.804099  \n",
       "std            2921.502193          3030.808041  \n",
       "min               0.000000             0.000000  \n",
       "25%             882.594850           824.842340  \n",
       "50%            2547.759305          2600.804099  \n",
       "75%            2547.759305          2600.804099  \n",
       "max           35116.000000         35136.000000  "
      ]
     },
     "execution_count": 29,
     "metadata": {},
     "output_type": "execute_result"
    }
   ],
   "source": [
    "df.describe()"
   ]
  },
  {
   "cell_type": "markdown",
   "metadata": {},
   "source": [
    "1.The 'capacity_mw' column exhibits a significant difference between the mean and median values, indicating a right-skewed distribution. This suggests that there are relatively few power plants with higher capacities, causing the distribution to be skewed towards lower capacity values. As it is our target variable do not need to handle it \n",
    "\n",
    "2.In some of the columns, there is a noticeable difference between the 75th percentile value and the maximum value. This implies the possibility of outliers in these columns, where certain observations have values significantly higher than the majority of the data."
   ]
  },
  {
   "cell_type": "code",
   "execution_count": 30,
   "metadata": {},
   "outputs": [
    {
     "data": {
      "text/plain": [
       "array([2.50000e+00, 9.80000e+01, 3.92000e+01, 1.35000e+02, 1.80000e+03,\n",
       "       2.50000e+02, 6.00000e+01, 1.92000e+02, 2.90000e+02, 2.10000e+02,\n",
       "       1.35000e+03, 1.34000e+02, 1.20000e+03, 1.69500e+01, 9.00000e+00,\n",
       "       2.63000e+03, 4.19330e+02, 6.00000e+02, 1.00000e+01, 1.70000e+01,\n",
       "       2.40000e+01, 6.52000e+02, 4.60000e+01, 5.00000e+01, 1.00000e+00,\n",
       "       1.65000e+01, 1.13600e+02, 1.98000e+01, 1.32000e+01, 5.00000e+00,\n",
       "       7.05000e+02, 2.80000e+01, 4.50000e+02, 1.80000e+02, 1.05000e+03,\n",
       "       5.10000e+02, 6.75000e+01, 3.00000e+02, 3.35000e+02, 1.20000e+01,\n",
       "       3.15000e+02, 3.00000e+01, 2.00000e+01, 4.20000e+01, 7.20000e+02,\n",
       "       9.00000e+01, 1.32000e+03, 1.20000e+02, 6.60000e+01, 2.70000e+02,\n",
       "       2.28000e+01, 1.50000e+01, 2.52000e+01, 1.80000e+01, 1.70000e+03,\n",
       "       2.60000e+01, 4.10000e+01, 1.37900e+03, 3.40000e+01, 1.60000e+01,\n",
       "       5.00000e+02, 8.00000e+01, 7.50000e+01, 1.21000e+03, 9.90000e+01,\n",
       "       6.96000e+01, 6.00000e+00, 7.50000e+02, 4.00000e+01, 1.65000e+02,\n",
       "       7.00000e+01, 8.15000e+01, 1.12000e+01, 3.63000e+01, 1.70000e+00,\n",
       "       2.48000e+01, 5.04000e+01, 1.50000e+02, 9.87000e+01, 3.00000e+00,\n",
       "       4.20000e+00, 5.40000e+02, 2.31000e+02, 3.50000e+01, 2.34000e+02,\n",
       "       6.30000e+02, 2.92000e+03, 3.60000e+01, 3.75000e+00, 3.28000e+01,\n",
       "       2.32000e+03, 2.40000e+02, 1.44000e+02, 4.40000e+01, 1.10000e+02,\n",
       "       2.21000e+02, 2.10000e+01, 6.60000e+02, 1.82000e+03, 8.29780e+02,\n",
       "       1.00000e+02, 1.60000e+03, 2.50000e+01, 9.90000e+02, 3.37500e+01,\n",
       "       5.10000e+01, 2.80000e+02, 3.30000e+02, 5.95200e+02, 2.20000e+01,\n",
       "       9.60000e+01, 1.55000e+01, 1.29600e+01, 6.76000e+01, 3.90000e+02,\n",
       "       1.28000e+01, 1.00000e+03, 1.25000e+02, 2.00000e+00, 3.75000e+01,\n",
       "       2.82000e+01, 2.25000e+01, 5.15000e+02, 6.88000e+01, 2.10000e+03,\n",
       "       4.31586e+02, 4.25000e+00, 3.10000e+02, 3.90000e+01, 8.00000e+02,\n",
       "       1.05000e+01, 2.25000e+02, 6.48000e+02, 1.15000e+02, 7.76500e+01,\n",
       "       4.68570e+02, 2.31000e+01, 3.20000e+01, 9.20000e+02, 2.05240e+02,\n",
       "       7.68000e+02, 5.50000e+01, 2.56000e+01, 7.50000e+00, 1.80000e+00,\n",
       "       2.55000e+01, 1.56100e+02, 3.51430e+02, 1.89000e+01, 3.47500e+02,\n",
       "       3.44000e+01, 2.73000e+01, 8.88000e+01, 6.05000e+02, 4.90000e+01,\n",
       "       4.20000e+02, 7.80000e+02, 3.50000e+02, 1.50000e+03, 1.00800e+02,\n",
       "       1.08000e+03, 6.35000e+01, 5.45000e+01, 1.55000e+02, 4.45674e+02,\n",
       "       1.39200e+02, 4.27500e+02, 9.18000e+01, 2.96000e+01, 3.30000e+01,\n",
       "       1.02500e+01, 4.00000e+02, 2.34000e+03, 8.80000e+02, 1.10000e+03,\n",
       "       4.40000e+02, 8.55000e+02, 4.00000e+00, 3.25000e+01, 1.19800e+02,\n",
       "       2.18400e+01, 1.95000e+02, 2.91000e+02, 6.45000e+02, 7.20000e+01,\n",
       "       4.14000e+01, 1.26000e+03, 1.75000e+01, 4.45000e+02, 1.45800e+03,\n",
       "       2.00000e+02, 2.40000e+03, 2.60000e+03, 8.90000e+02, 1.34000e+03,\n",
       "       1.24000e+03, 1.07880e+02, 1.95600e+03, 5.55000e+02, 2.00000e+03,\n",
       "       1.01000e+02, 7.56000e+01, 5.20000e+00, 2.08000e+01, 5.62500e+01,\n",
       "       2.11955e+02, 1.98000e+03, 1.26000e+02, 3.15000e+01, 1.05000e+02,\n",
       "       4.60000e+02, 9.70000e+00, 3.68000e+01, 2.10000e+00, 2.40000e+00,\n",
       "       1.14750e+02, 4.50000e+00, 1.40000e+02, 3.14000e+01, 6.32000e+01,\n",
       "       1.86000e+02, 3.94000e+02, 1.66500e+02, 3.88000e+02, 4.50000e+01,\n",
       "       3.06000e+01, 8.40000e+02, 2.46000e+02, 9.30000e+00, 7.89000e+01,\n",
       "       2.07000e+02, 3.12000e+01, 4.62000e+03, 4.00000e+03, 2.83000e+01,\n",
       "       6.10000e+02, 1.46500e+01, 6.60000e+00, 5.25000e+01, 8.15600e+02,\n",
       "       4.55000e+01, 6.50000e+01, 1.61750e+02, 1.16000e+01, 1.22700e+01,\n",
       "       1.47000e+03, 3.32000e+01, 2.76500e+01, 6.25000e+00, 3.76000e+01,\n",
       "       5.80000e+00, 7.20000e+00, 1.09400e+03, 5.20000e+02, 1.02000e+02,\n",
       "       3.30500e+02, 6.55000e+02, 7.26600e+02, 1.75000e+02, 1.14000e+03,\n",
       "       1.17000e+03, 2.04000e+01, 2.20000e+02, 1.60000e+02, 1.61000e+02,\n",
       "       7.02860e+02, 3.96000e+02, 1.37120e+03, 9.00000e+02, 5.92000e+01,\n",
       "       6.56000e+01, 3.52000e+01, 2.18000e+01, 1.48500e+01, 9.90000e+00,\n",
       "       1.52000e+01, 1.90000e+01, 1.72000e+02, 1.87000e+01, 4.80000e+00,\n",
       "       1.72000e+03, 1.37000e+03, 3.85000e+01, 1.40000e+03, 1.10000e+01,\n",
       "       1.98000e+02, 2.70500e+02, 4.12020e+02, 4.05000e+02, 1.25000e+01,\n",
       "       1.96708e+03, 1.65000e+03, 4.80000e+01, 3.00000e+03, 9.48000e+01,\n",
       "       6.30000e+01, 6.25000e+01, 2.64000e+01, 3.05000e+01, 3.51000e+01,\n",
       "       6.90000e+02, 1.05700e+02, 1.06000e+02, 1.97000e+01, 3.96000e+03,\n",
       "       2.90000e+01, 1.33000e+03, 1.03500e+03, 1.72000e+01, 5.40000e+01,\n",
       "       3.36000e+01, 2.98000e+03, 4.30000e+01, 3.30000e+00, 7.70000e+02,\n",
       "       1.30000e+02, 1.14750e+03, 1.50000e+00, 8.50000e+00, 2.25000e+00,\n",
       "       2.52000e+03, 8.40000e+00, 6.30000e+00, 3.60000e+00, 9.42000e+01,\n",
       "       9.70000e+01, 1.35000e+01, 1.32000e+02, 3.30000e+03, 2.60000e+02,\n",
       "       4.22000e+02, 9.35000e+00, 1.44000e+01, 7.40000e+01, 0.00000e+00,\n",
       "       4.96000e+01, 9.13500e+01, 8.00000e+00, 1.44000e+03, 1.11000e+03,\n",
       "       1.55000e+03, 3.82500e+02, 3.20000e+02, 6.72000e+02, 6.26000e+01,\n",
       "       4.80000e+02, 3.74571e+02, 2.57000e+01, 5.28000e+01, 1.87200e+02,\n",
       "       2.58000e+01, 3.07500e+01, 5.07000e+01, 3.88500e+02, 2.72300e+02,\n",
       "       4.76000e+03, 1.04000e+03, 4.25000e+01, 6.24000e+01, 3.46500e+01,\n",
       "       1.06600e+02])"
      ]
     },
     "execution_count": 30,
     "metadata": {},
     "output_type": "execute_result"
    }
   ],
   "source": [
    "df[\"capacity_mw\"].unique()"
   ]
  },
  {
   "cell_type": "markdown",
   "metadata": {},
   "source": [
    "so it is a continus data"
   ]
  },
  {
   "cell_type": "code",
   "execution_count": 31,
   "metadata": {},
   "outputs": [
    {
     "data": {
      "text/plain": [
       "array(['Solar', 'Coal', 'Wind', 'Gas', 'Hydro', 'Biomass', 'Oil',\n",
       "       'Nuclear'], dtype=object)"
      ]
     },
     "execution_count": 31,
     "metadata": {},
     "output_type": "execute_result"
    }
   ],
   "source": [
    "df['primary_fuel'].unique()"
   ]
  },
  {
   "cell_type": "markdown",
   "metadata": {},
   "source": [
    "it is categorical data"
   ]
  },
  {
   "cell_type": "code",
   "execution_count": 32,
   "metadata": {},
   "outputs": [],
   "source": [
    "#'country', 'country_long' these two columns has single value which is INDIA and it have not that much related with our Target column\n",
    "\n",
    "df.drop(['country', 'country_long'],axis = 1 ,inplace = True)"
   ]
  },
  {
   "cell_type": "markdown",
   "metadata": {},
   "source": [
    "name: name or title of the power plant, generally in Romanized form\n",
    "\n",
    "gppd_idnr: 10 or 12 character identifier for the power plant\n",
    "\n",
    "url: web document corresponding to the `source` field\n",
    "    \n",
    "    Drop this three variable which have no relation with our Target column"
   ]
  },
  {
   "cell_type": "code",
   "execution_count": 33,
   "metadata": {},
   "outputs": [],
   "source": [
    "df.drop(['name','gppd_idnr','url'],axis = 1, inplace = True)"
   ]
  },
  {
   "cell_type": "code",
   "execution_count": 34,
   "metadata": {},
   "outputs": [
    {
     "name": "stdout",
     "output_type": "stream",
     "text": [
      "Final size of the dataset: (907, 12)\n",
      "\n",
      "\n",
      "Name of the columns: Index(['capacity_mw', 'latitude', 'longitude', 'primary_fuel',\n",
      "       'commissioning_year', 'source', 'geolocation_source',\n",
      "       'generation_gwh_2014', 'generation_gwh_2015', 'generation_gwh_2016',\n",
      "       'generation_gwh_2017', 'generation_gwh_2018'],\n",
      "      dtype='object')\n"
     ]
    }
   ],
   "source": [
    "print(\"Final size of the dataset:\", df.shape)\n",
    "print('\\n')\n",
    "print(\"Name of the columns:\", df.columns)"
   ]
  },
  {
   "cell_type": "code",
   "execution_count": 35,
   "metadata": {},
   "outputs": [
    {
     "data": {
      "text/plain": [
       "<AxesSubplot:xlabel='primary_fuel', ylabel='count'>"
      ]
     },
     "execution_count": 35,
     "metadata": {},
     "output_type": "execute_result"
    },
    {
     "data": {
      "image/png": "[encoded data removed]",
      "text/plain": [
       "<Figure size 432x288 with 1 Axes>"
      ]
     },
     "metadata": {
      "needs_background": "light"
     },
     "output_type": "display_data"
    }
   ],
   "source": [
    "sns.countplot(\"primary_fuel\",data=df)"
   ]
  },
  {
   "cell_type": "markdown",
   "metadata": {},
   "source": [
    "coal is the highest primary_fuel and Nuclear is the least "
   ]
  },
  {
   "cell_type": "code",
   "execution_count": 36,
   "metadata": {},
   "outputs": [
    {
     "data": {
      "text/html": [
       "<div>\n",
       "<style scoped>\n",
       "    .dataframe tbody tr th:only-of-type {\n",
       "        vertical-align: middle;\n",
       "    }\n",
       "\n",
       "    .dataframe tbody tr th {\n",
       "        vertical-align: top;\n",
       "    }\n",
       "\n",
       "    .dataframe thead th {\n",
       "        text-align: right;\n",
       "    }\n",
       "</style>\n",
       "<table border=\"1\" class=\"dataframe\">\n",
       "  <thead>\n",
       "    <tr style=\"text-align: right;\">\n",
       "      <th></th>\n",
       "      <th>capacity_mw</th>\n",
       "      <th>latitude</th>\n",
       "      <th>longitude</th>\n",
       "      <th>primary_fuel</th>\n",
       "      <th>commissioning_year</th>\n",
       "      <th>source</th>\n",
       "      <th>geolocation_source</th>\n",
       "      <th>generation_gwh_2014</th>\n",
       "      <th>generation_gwh_2015</th>\n",
       "      <th>generation_gwh_2016</th>\n",
       "      <th>generation_gwh_2017</th>\n",
       "      <th>generation_gwh_2018</th>\n",
       "    </tr>\n",
       "  </thead>\n",
       "  <tbody>\n",
       "    <tr>\n",
       "      <th>0</th>\n",
       "      <td>2.5</td>\n",
       "      <td>28.1839</td>\n",
       "      <td>73.2407</td>\n",
       "      <td>Solar</td>\n",
       "      <td>2011.000000</td>\n",
       "      <td>National Renewable Energy Laboratory</td>\n",
       "      <td>National Renewable Energy Laboratory</td>\n",
       "      <td>2431.82359</td>\n",
       "      <td>2428.226946</td>\n",
       "      <td>2467.936859</td>\n",
       "      <td>2547.759305</td>\n",
       "      <td>2600.804099</td>\n",
       "    </tr>\n",
       "    <tr>\n",
       "      <th>1</th>\n",
       "      <td>98.0</td>\n",
       "      <td>24.7663</td>\n",
       "      <td>74.6090</td>\n",
       "      <td>Coal</td>\n",
       "      <td>1997.091082</td>\n",
       "      <td>Ultratech Cement ltd</td>\n",
       "      <td>WRI</td>\n",
       "      <td>2431.82359</td>\n",
       "      <td>2428.226946</td>\n",
       "      <td>2467.936859</td>\n",
       "      <td>2547.759305</td>\n",
       "      <td>2600.804099</td>\n",
       "    </tr>\n",
       "    <tr>\n",
       "      <th>2</th>\n",
       "      <td>39.2</td>\n",
       "      <td>21.9038</td>\n",
       "      <td>69.3732</td>\n",
       "      <td>Wind</td>\n",
       "      <td>1997.091082</td>\n",
       "      <td>CDM</td>\n",
       "      <td>WRI</td>\n",
       "      <td>2431.82359</td>\n",
       "      <td>2428.226946</td>\n",
       "      <td>2467.936859</td>\n",
       "      <td>2547.759305</td>\n",
       "      <td>2600.804099</td>\n",
       "    </tr>\n",
       "  </tbody>\n",
       "</table>\n",
       "</div>"
      ],
      "text/plain": [
       "   capacity_mw  latitude  longitude primary_fuel  commissioning_year  \\\n",
       "0          2.5   28.1839    73.2407        Solar         2011.000000   \n",
       "1         98.0   24.7663    74.6090         Coal         1997.091082   \n",
       "2         39.2   21.9038    69.3732         Wind         1997.091082   \n",
       "\n",
       "                                 source                    geolocation_source  \\\n",
       "0  National Renewable Energy Laboratory  National Renewable Energy Laboratory   \n",
       "1                  Ultratech Cement ltd                                   WRI   \n",
       "2                                   CDM                                   WRI   \n",
       "\n",
       "   generation_gwh_2014  generation_gwh_2015  generation_gwh_2016  \\\n",
       "0           2431.82359          2428.226946          2467.936859   \n",
       "1           2431.82359          2428.226946          2467.936859   \n",
       "2           2431.82359          2428.226946          2467.936859   \n",
       "\n",
       "   generation_gwh_2017  generation_gwh_2018  \n",
       "0          2547.759305          2600.804099  \n",
       "1          2547.759305          2600.804099  \n",
       "2          2547.759305          2600.804099  "
      ]
     },
     "execution_count": 36,
     "metadata": {},
     "output_type": "execute_result"
    }
   ],
   "source": [
    "df.head(3)"
   ]
  },
  {
   "cell_type": "code",
   "execution_count": 37,
   "metadata": {},
   "outputs": [
    {
     "data": {
      "text/plain": [
       "<AxesSubplot:xlabel='geolocation_source', ylabel='count'>"
      ]
     },
     "execution_count": 37,
     "metadata": {},
     "output_type": "execute_result"
    },
    {
     "data": {
      "image/png": "[encoded data removed]",
      "text/plain": [
       "<Figure size 432x288 with 1 Axes>"
      ]
     },
     "metadata": {
      "needs_background": "light"
     },
     "output_type": "display_data"
    }
   ],
   "source": [
    "sns.countplot(\"geolocation_source\",data=df)"
   ]
  },
  {
   "cell_type": "code",
   "execution_count": 38,
   "metadata": {},
   "outputs": [
    {
     "data": {
      "image/png": "[encoded data removed]",
      "text/plain": [
       "<Figure size 720x432 with 1 Axes>"
      ]
     },
     "metadata": {
      "needs_background": "light"
     },
     "output_type": "display_data"
    }
   ],
   "source": [
    "label_counts = df[\"source\"].value_counts()\n",
    "top_n = 10\n",
    "\n",
    "top_labels = label_counts.head(top_n)\n",
    "top_labels_names = top_labels.index.tolist()\n",
    "top_labels_counts = top_labels.values.tolist()\n",
    "\n",
    "plt.figure(figsize=(10, 6))\n",
    "plt.barh(top_labels_names, top_labels_counts)\n",
    "plt.xlabel('Count')\n",
    "plt.ylabel('Labels')\n",
    "plt.title(f'Top {top_n} Labels in Column')\n",
    "plt.show()"
   ]
  },
  {
   "cell_type": "markdown",
   "metadata": {},
   "source": [
    "Central Electricity Authority is the highest source"
   ]
  },
  {
   "cell_type": "code",
   "execution_count": 39,
   "metadata": {},
   "outputs": [
    {
     "data": {
      "text/plain": [
       "<AxesSubplot:xlabel='capacity_mw', ylabel='Count'>"
      ]
     },
     "execution_count": 39,
     "metadata": {},
     "output_type": "execute_result"
    },
    {
     "data": {
      "image/png": "[encoded data removed]",
      "text/plain": [
       "<Figure size 1080x360 with 1 Axes>"
      ]
     },
     "metadata": {
      "needs_background": "light"
     },
     "output_type": "display_data"
    }
   ],
   "source": [
    "plt.figure(figsize=(15,5))\n",
    "sns.histplot(x='capacity_mw',data=df,bins=10)"
   ]
  },
  {
   "cell_type": "code",
   "execution_count": 40,
   "metadata": {},
   "outputs": [
    {
     "data": {
      "text/plain": [
       "<AxesSubplot:xlabel='latitude', ylabel='Count'>"
      ]
     },
     "execution_count": 40,
     "metadata": {},
     "output_type": "execute_result"
    },
    {
     "data": {
      "image/png": "[encoded data removed]",
      "text/plain": [
       "<Figure size 1080x360 with 1 Axes>"
      ]
     },
     "metadata": {
      "needs_background": "light"
     },
     "output_type": "display_data"
    }
   ],
   "source": [
    "plt.figure(figsize=(15,5))\n",
    "sns.histplot(x='latitude',data=df,bins=10)"
   ]
  },
  {
   "cell_type": "code",
   "execution_count": 41,
   "metadata": {},
   "outputs": [
    {
     "data": {
      "text/plain": [
       "<AxesSubplot:xlabel='longitude', ylabel='Count'>"
      ]
     },
     "execution_count": 41,
     "metadata": {},
     "output_type": "execute_result"
    },
    {
     "data": {
      "image/png": "[encoded data removed]",
      "text/plain": [
       "<Figure size 1080x360 with 1 Axes>"
      ]
     },
     "metadata": {
      "needs_background": "light"
     },
     "output_type": "display_data"
    }
   ],
   "source": [
    "plt.figure(figsize=(15,5))\n",
    "sns.histplot(x='longitude',data=df,bins=10)"
   ]
  },
  {
   "cell_type": "code",
   "execution_count": 42,
   "metadata": {},
   "outputs": [
    {
     "data": {
      "text/plain": [
       "<AxesSubplot:xlabel='geolocation_source', ylabel='count'>"
      ]
     },
     "execution_count": 42,
     "metadata": {},
     "output_type": "execute_result"
    },
    {
     "data": {
      "image/png": "[encoded data removed]",
      "text/plain": [
       "<Figure size 1080x720 with 1 Axes>"
      ]
     },
     "metadata": {
      "needs_background": "light"
     },
     "output_type": "display_data"
    }
   ],
   "source": [
    "plt.figure(figsize=(15,10))\n",
    "sns.countplot(\"geolocation_source\",data=df, hue='primary_fuel')"
   ]
  },
  {
   "cell_type": "markdown",
   "metadata": {},
   "source": [
    "We can see 'WRI' geolocation_source uses coal most then Hydro and solar least."
   ]
  },
  {
   "cell_type": "code",
   "execution_count": 43,
   "metadata": {},
   "outputs": [
    {
     "data": {
      "text/plain": [
       "<AxesSubplot:xlabel='geolocation_source', ylabel='capacity_mw'>"
      ]
     },
     "execution_count": 43,
     "metadata": {},
     "output_type": "execute_result"
    },
    {
     "data": {
      "image/png": "[encoded data removed]",
      "text/plain": [
       "<Figure size 576x432 with 1 Axes>"
      ]
     },
     "metadata": {
      "needs_background": "light"
     },
     "output_type": "display_data"
    }
   ],
   "source": [
    "plt.figure(figsize=(8,6))\n",
    "sns.barplot(x=\"geolocation_source\",data=df, y='capacity_mw')"
   ]
  },
  {
   "cell_type": "markdown",
   "metadata": {},
   "source": [
    "We can see 'WRI' geolocation_source uses coal most then Hydro and solar least."
   ]
  },
  {
   "cell_type": "code",
   "execution_count": 44,
   "metadata": {},
   "outputs": [
    {
     "data": {
      "image/png": "[encoded data removed]",
      "text/plain": [
       "<Figure size 864x504 with 1 Axes>"
      ]
     },
     "metadata": {
      "needs_background": "light"
     },
     "output_type": "display_data"
    }
   ],
   "source": [
    "plt.figure(figsize=(12,7))\n",
    "df.corr()['capacity_mw'].sort_values(ascending=True).drop(['capacity_mw']).plot(kind='bar',color='c')\n",
    "plt.xlabel('Feature',fontsize=14)\n",
    "plt.ylabel('Target',fontsize=14)\n",
    "plt.title('Correlation',fontsize=18)\n",
    "plt.show()"
   ]
  },
  {
   "cell_type": "markdown",
   "metadata": {},
   "source": [
    " All Columns are positively correlated with target column \"capacity_mw\""
   ]
  },
  {
   "cell_type": "code",
   "execution_count": 45,
   "metadata": {},
   "outputs": [
    {
     "data": {
      "text/html": [
       "<div>\n",
       "<style scoped>\n",
       "    .dataframe tbody tr th:only-of-type {\n",
       "        vertical-align: middle;\n",
       "    }\n",
       "\n",
       "    .dataframe tbody tr th {\n",
       "        vertical-align: top;\n",
       "    }\n",
       "\n",
       "    .dataframe thead th {\n",
       "        text-align: right;\n",
       "    }\n",
       "</style>\n",
       "<table border=\"1\" class=\"dataframe\">\n",
       "  <thead>\n",
       "    <tr style=\"text-align: right;\">\n",
       "      <th></th>\n",
       "      <th>Correlation in Ascending order</th>\n",
       "    </tr>\n",
       "  </thead>\n",
       "  <tbody>\n",
       "    <tr>\n",
       "      <th>latitude</th>\n",
       "      <td>0.050984</td>\n",
       "    </tr>\n",
       "    <tr>\n",
       "      <th>longitude</th>\n",
       "      <td>0.195882</td>\n",
       "    </tr>\n",
       "    <tr>\n",
       "      <th>commissioning_year</th>\n",
       "      <td>0.274292</td>\n",
       "    </tr>\n",
       "    <tr>\n",
       "      <th>generation_gwh_2014</th>\n",
       "      <td>0.694350</td>\n",
       "    </tr>\n",
       "    <tr>\n",
       "      <th>generation_gwh_2015</th>\n",
       "      <td>0.711190</td>\n",
       "    </tr>\n",
       "    <tr>\n",
       "      <th>generation_gwh_2016</th>\n",
       "      <td>0.742221</td>\n",
       "    </tr>\n",
       "    <tr>\n",
       "      <th>generation_gwh_2017</th>\n",
       "      <td>0.757585</td>\n",
       "    </tr>\n",
       "    <tr>\n",
       "      <th>generation_gwh_2018</th>\n",
       "      <td>0.773456</td>\n",
       "    </tr>\n",
       "    <tr>\n",
       "      <th>capacity_mw</th>\n",
       "      <td>1.000000</td>\n",
       "    </tr>\n",
       "  </tbody>\n",
       "</table>\n",
       "</div>"
      ],
      "text/plain": [
       "                     Correlation in Ascending order\n",
       "latitude                                   0.050984\n",
       "longitude                                  0.195882\n",
       "commissioning_year                         0.274292\n",
       "generation_gwh_2014                        0.694350\n",
       "generation_gwh_2015                        0.711190\n",
       "generation_gwh_2016                        0.742221\n",
       "generation_gwh_2017                        0.757585\n",
       "generation_gwh_2018                        0.773456\n",
       "capacity_mw                                1.000000"
      ]
     },
     "execution_count": 45,
     "metadata": {},
     "output_type": "execute_result"
    }
   ],
   "source": [
    "df.corr()[\"capacity_mw\"].sort_values().to_frame(\"Correlation in Ascending order\")"
   ]
  },
  {
   "cell_type": "code",
   "execution_count": 46,
   "metadata": {},
   "outputs": [],
   "source": [
    "from sklearn.preprocessing import LabelEncoder"
   ]
  },
  {
   "cell_type": "code",
   "execution_count": 47,
   "metadata": {},
   "outputs": [],
   "source": [
    "code = LabelEncoder()\n",
    "for i in df.columns:\n",
    "    if df[i].dtypes==\"object\":\n",
    "        df[i]=code.fit_transform(df[i].values.reshape(-1,1))"
   ]
  },
  {
   "cell_type": "code",
   "execution_count": 48,
   "metadata": {},
   "outputs": [
    {
     "data": {
      "text/html": [
       "<div>\n",
       "<style scoped>\n",
       "    .dataframe tbody tr th:only-of-type {\n",
       "        vertical-align: middle;\n",
       "    }\n",
       "\n",
       "    .dataframe tbody tr th {\n",
       "        vertical-align: top;\n",
       "    }\n",
       "\n",
       "    .dataframe thead th {\n",
       "        text-align: right;\n",
       "    }\n",
       "</style>\n",
       "<table border=\"1\" class=\"dataframe\">\n",
       "  <thead>\n",
       "    <tr style=\"text-align: right;\">\n",
       "      <th></th>\n",
       "      <th>Correlation in Aescending order</th>\n",
       "    </tr>\n",
       "  </thead>\n",
       "  <tbody>\n",
       "    <tr>\n",
       "      <th>geolocation_source</th>\n",
       "      <td>-0.483217</td>\n",
       "    </tr>\n",
       "    <tr>\n",
       "      <th>capacity_mw</th>\n",
       "      <td>-0.380395</td>\n",
       "    </tr>\n",
       "    <tr>\n",
       "      <th>longitude</th>\n",
       "      <td>-0.347948</td>\n",
       "    </tr>\n",
       "    <tr>\n",
       "      <th>generation_gwh_2018</th>\n",
       "      <td>-0.136983</td>\n",
       "    </tr>\n",
       "    <tr>\n",
       "      <th>generation_gwh_2017</th>\n",
       "      <td>-0.132003</td>\n",
       "    </tr>\n",
       "    <tr>\n",
       "      <th>generation_gwh_2016</th>\n",
       "      <td>-0.131051</td>\n",
       "    </tr>\n",
       "    <tr>\n",
       "      <th>commissioning_year</th>\n",
       "      <td>-0.126650</td>\n",
       "    </tr>\n",
       "    <tr>\n",
       "      <th>generation_gwh_2015</th>\n",
       "      <td>-0.124828</td>\n",
       "    </tr>\n",
       "    <tr>\n",
       "      <th>generation_gwh_2014</th>\n",
       "      <td>-0.124769</td>\n",
       "    </tr>\n",
       "    <tr>\n",
       "      <th>latitude</th>\n",
       "      <td>-0.010204</td>\n",
       "    </tr>\n",
       "    <tr>\n",
       "      <th>source</th>\n",
       "      <td>0.053613</td>\n",
       "    </tr>\n",
       "    <tr>\n",
       "      <th>primary_fuel</th>\n",
       "      <td>1.000000</td>\n",
       "    </tr>\n",
       "  </tbody>\n",
       "</table>\n",
       "</div>"
      ],
      "text/plain": [
       "                     Correlation in Aescending order\n",
       "geolocation_source                         -0.483217\n",
       "capacity_mw                                -0.380395\n",
       "longitude                                  -0.347948\n",
       "generation_gwh_2018                        -0.136983\n",
       "generation_gwh_2017                        -0.132003\n",
       "generation_gwh_2016                        -0.131051\n",
       "commissioning_year                         -0.126650\n",
       "generation_gwh_2015                        -0.124828\n",
       "generation_gwh_2014                        -0.124769\n",
       "latitude                                   -0.010204\n",
       "source                                      0.053613\n",
       "primary_fuel                                1.000000"
      ]
     },
     "execution_count": 48,
     "metadata": {},
     "output_type": "execute_result"
    }
   ],
   "source": [
    "df.corr()[\"primary_fuel\"].sort_values().to_frame(\"Correlation in Aescending order\")"
   ]
  },
  {
   "cell_type": "markdown",
   "metadata": {},
   "source": [
    "1.The primary fuel type in the dataset shows a strong negative correlation with the geographical source of the power plants (-0.483217). This suggests that the choice of primary fuel is influenced by the specific geolocation of the power plants.\n",
    "\n",
    "2.There is a moderate negative correlation between the primary fuel type and the capacity of the power plants (-0.380395). This implies that the choice of primary fuel may vary depending on the capacity of the power plant.\n",
    "\n",
    "3.Other factors such as longitude, power generation in 2018, and commissioning year also exhibit negative correlations, albeit with smaller magnitudes. These variables may have some influence on the primary fuel type, although to a lesser extent compared to geolocation and capacity."
   ]
  },
  {
   "cell_type": "code",
   "execution_count": 49,
   "metadata": {},
   "outputs": [
    {
     "data": {
      "image/png": "[encoded data removed]",
      "text/plain": [
       "<Figure size 864x504 with 1 Axes>"
      ]
     },
     "metadata": {
      "needs_background": "light"
     },
     "output_type": "display_data"
    }
   ],
   "source": [
    "plt.figure(figsize=(12,7))\n",
    "df.corr()['primary_fuel'].sort_values(ascending=True).drop(['primary_fuel']).plot(kind='bar',color='c')\n",
    "plt.xlabel('Feature',fontsize=14)\n",
    "plt.ylabel('Target',fontsize=14)\n",
    "plt.title('Correlation',fontsize=18)\n",
    "plt.show()"
   ]
  },
  {
   "cell_type": "markdown",
   "metadata": {},
   "source": [
    " All columns are negatively correlated with Target Column \"primary_fuel\""
   ]
  },
  {
   "cell_type": "code",
   "execution_count": 50,
   "metadata": {},
   "outputs": [
    {
     "data": {
      "text/plain": [
       "<AxesSubplot:>"
      ]
     },
     "execution_count": 50,
     "metadata": {},
     "output_type": "execute_result"
    },
    {
     "data": {
      "image/png": "[encoded data removed]",
      "text/plain": [
       "<Figure size 1080x504 with 2 Axes>"
      ]
     },
     "metadata": {
      "needs_background": "light"
     },
     "output_type": "display_data"
    }
   ],
   "source": [
    "plt.figure(figsize=(15,7))\n",
    "sns.heatmap(df.corr(),annot=True, linewidth=0.5, linecolor='white', fmt='.2f')"
   ]
  },
  {
   "cell_type": "markdown",
   "metadata": {},
   "source": [
    "Multicollinearity can be seen in this analysis"
   ]
  },
  {
   "cell_type": "code",
   "execution_count": 51,
   "metadata": {
    "scrolled": false
   },
   "outputs": [
    {
     "data": {
      "image/png": "[encoded data removed]",
      "text/plain": [
       "<Figure size 2160x720 with 1 Axes>"
      ]
     },
     "metadata": {
      "needs_background": "light"
     },
     "output_type": "display_data"
    }
   ],
   "source": [
    "df.boxplot(figsize=(30,10))\n",
    "plt.subplots_adjust(bottom=0.25)\n",
    "plt.show()"
   ]
  },
  {
   "cell_type": "raw",
   "metadata": {},
   "source": [
    "Remove outliers"
   ]
  },
  {
   "cell_type": "raw",
   "metadata": {},
   "source": [
    "Target column: primary_fuel"
   ]
  },
  {
   "cell_type": "markdown",
   "metadata": {},
   "source": [
    "Outliers will be removed only from Continuous column: 'capacity_mw','latitude','longitude', 'commissioning_year', 'source', 'generation_gwh_2014', 'generation_gwh_2015', 'generation_gwh_2016', 'generation_gwh_2017', 'generation_gwh_2018' "
   ]
  },
  {
   "cell_type": "code",
   "execution_count": 52,
   "metadata": {},
   "outputs": [],
   "source": [
    "from scipy.stats import zscore"
   ]
  },
  {
   "cell_type": "code",
   "execution_count": 53,
   "metadata": {},
   "outputs": [
    {
     "data": {
      "text/plain": [
       "(907, 10)"
      ]
     },
     "execution_count": 53,
     "metadata": {},
     "output_type": "execute_result"
    }
   ],
   "source": [
    "variable = df[['capacity_mw','latitude','longitude','commissioning_year', 'source', 'generation_gwh_2014', 'generation_gwh_2015', 'generation_gwh_2016', 'generation_gwh_2017', 'generation_gwh_2018' ]]\n",
    "z = np.abs(zscore(variable))\n",
    "z.shape"
   ]
  },
  {
   "cell_type": "code",
   "execution_count": 54,
   "metadata": {},
   "outputs": [
    {
     "name": "stdout",
     "output_type": "stream",
     "text": [
      "(array([ 15,  15,  15,  15,  15,  71,  80, 143, 143, 143, 143, 143, 143,\n",
      "       147, 158, 179, 183, 191, 209, 209, 209, 209, 209, 209, 222, 244,\n",
      "       299, 308, 308, 308, 308, 308, 308, 321, 323, 333, 340, 342, 345,\n",
      "       360, 363, 364, 364, 364, 364, 364, 364, 371, 375, 416, 427, 444,\n",
      "       454, 478, 482, 484, 493, 493, 493, 493, 493, 493, 494, 494, 494,\n",
      "       494, 494, 494, 499, 519, 538, 541, 546, 573, 577, 583, 592, 601,\n",
      "       621, 638, 648, 648, 648, 648, 648, 648, 657, 657, 657, 657, 657,\n",
      "       657, 661, 669, 689, 695, 695, 695, 695, 695, 695, 706, 709, 721,\n",
      "       721, 721, 721, 724, 724, 724, 724, 724, 726, 726, 726, 726, 726,\n",
      "       726, 728, 767, 786, 786, 786, 786, 786, 786, 788, 807, 808, 808,\n",
      "       808, 808, 808, 808, 818, 832, 847, 848, 870, 871, 879, 880, 880,\n",
      "       880, 880, 880, 880, 895, 900], dtype=int64), array([0, 6, 7, 8, 9, 4, 4, 0, 5, 6, 7, 8, 9, 0, 5, 2, 2, 4, 0, 5, 6, 7,\n",
      "       8, 9, 3, 2, 4, 0, 5, 6, 7, 8, 9, 4, 2, 2, 2, 3, 4, 2, 0, 0, 5, 6,\n",
      "       7, 8, 9, 3, 0, 2, 2, 3, 3, 3, 0, 3, 0, 5, 6, 7, 8, 9, 0, 5, 6, 7,\n",
      "       8, 9, 2, 2, 3, 3, 2, 3, 2, 3, 3, 3, 3, 2, 0, 5, 6, 7, 8, 9, 0, 5,\n",
      "       6, 7, 8, 9, 4, 4, 4, 0, 5, 6, 7, 8, 9, 3, 3, 5, 6, 7, 9, 5, 6, 7,\n",
      "       8, 9, 0, 5, 6, 7, 8, 9, 3, 0, 0, 5, 6, 7, 8, 9, 0, 3, 0, 5, 6, 7,\n",
      "       8, 9, 2, 4, 2, 3, 4, 4, 4, 0, 5, 6, 7, 8, 9, 4, 4], dtype=int64))\n"
     ]
    }
   ],
   "source": [
    "threshold = 3\n",
    "print (np.where(z>3))"
   ]
  },
  {
   "cell_type": "code",
   "execution_count": 55,
   "metadata": {},
   "outputs": [
    {
     "name": "stdout",
     "output_type": "stream",
     "text": [
      "Shape before removing outliers: (907, 12)\n",
      "Shape after removing outliers: (834, 12)\n"
     ]
    }
   ],
   "source": [
    "print('Shape before removing outliers:', df.shape)\n",
    "\n",
    "df_new = df[(z < threshold).all(axis=1)]\n",
    "\n",
    "print('Shape after removing outliers:', df_new.shape)"
   ]
  },
  {
   "cell_type": "code",
   "execution_count": 56,
   "metadata": {},
   "outputs": [
    {
     "data": {
      "text/plain": [
       "8.04851157662624"
      ]
     },
     "execution_count": 56,
     "metadata": {},
     "output_type": "execute_result"
    }
   ],
   "source": [
    "data_loss=((907-834)/907)*100\n",
    "data_loss"
   ]
  },
  {
   "cell_type": "raw",
   "metadata": {},
   "source": [
    "Target column : capacity_mw"
   ]
  },
  {
   "cell_type": "code",
   "execution_count": 57,
   "metadata": {},
   "outputs": [
    {
     "data": {
      "text/plain": [
       "(907, 9)"
      ]
     },
     "execution_count": 57,
     "metadata": {},
     "output_type": "execute_result"
    }
   ],
   "source": [
    "variable1 = df[['latitude','longitude','commissioning_year', 'source', 'generation_gwh_2014', 'generation_gwh_2015', 'generation_gwh_2016', 'generation_gwh_2017', 'generation_gwh_2018' ]]\n",
    "z1 = np.abs(zscore(variable1))\n",
    "z1.shape"
   ]
  },
  {
   "cell_type": "code",
   "execution_count": 58,
   "metadata": {},
   "outputs": [
    {
     "name": "stdout",
     "output_type": "stream",
     "text": [
      "(array([ 15,  15,  15,  15,  71,  80, 143, 143, 143, 143, 143, 158, 179,\n",
      "       183, 191, 209, 209, 209, 209, 209, 222, 244, 299, 308, 308, 308,\n",
      "       308, 308, 321, 323, 333, 340, 342, 345, 360, 364, 364, 364, 364,\n",
      "       364, 371, 416, 427, 444, 454, 478, 484, 493, 493, 493, 493, 493,\n",
      "       494, 494, 494, 494, 494, 499, 519, 538, 541, 546, 573, 577, 583,\n",
      "       592, 601, 621, 638, 648, 648, 648, 648, 648, 657, 657, 657, 657,\n",
      "       657, 661, 669, 689, 695, 695, 695, 695, 695, 706, 709, 721, 721,\n",
      "       721, 721, 724, 724, 724, 724, 724, 726, 726, 726, 726, 726, 728,\n",
      "       786, 786, 786, 786, 786, 807, 808, 808, 808, 808, 808, 818, 832,\n",
      "       847, 848, 870, 871, 879, 880, 880, 880, 880, 880, 895, 900],\n",
      "      dtype=int64), array([5, 6, 7, 8, 3, 3, 4, 5, 6, 7, 8, 4, 1, 1, 3, 4, 5, 6, 7, 8, 2, 1,\n",
      "       3, 4, 5, 6, 7, 8, 3, 1, 1, 1, 2, 3, 1, 4, 5, 6, 7, 8, 2, 1, 1, 2,\n",
      "       2, 2, 2, 4, 5, 6, 7, 8, 4, 5, 6, 7, 8, 1, 1, 2, 2, 1, 2, 1, 2, 2,\n",
      "       2, 2, 1, 4, 5, 6, 7, 8, 4, 5, 6, 7, 8, 3, 3, 3, 4, 5, 6, 7, 8, 2,\n",
      "       2, 4, 5, 6, 8, 4, 5, 6, 7, 8, 4, 5, 6, 7, 8, 2, 4, 5, 6, 7, 8, 2,\n",
      "       4, 5, 6, 7, 8, 1, 3, 1, 2, 3, 3, 3, 4, 5, 6, 7, 8, 3, 3],\n",
      "      dtype=int64))\n"
     ]
    }
   ],
   "source": [
    "threshold = 3\n",
    "print (np.where(z1>3))"
   ]
  },
  {
   "cell_type": "code",
   "execution_count": 59,
   "metadata": {},
   "outputs": [
    {
     "name": "stdout",
     "output_type": "stream",
     "text": [
      "Shape before removing outliers: (907, 12)\n",
      "Shape after removing outliers: (840, 12)\n"
     ]
    }
   ],
   "source": [
    "print('Shape before removing outliers:', df.shape)\n",
    "\n",
    "df_new1 = df[(z1 < threshold).all(axis=1)]\n",
    "\n",
    "print('Shape after removing outliers:', df_new1.shape)"
   ]
  },
  {
   "cell_type": "code",
   "execution_count": 60,
   "metadata": {},
   "outputs": [
    {
     "data": {
      "text/plain": [
       "7.386990077177508"
      ]
     },
     "execution_count": 60,
     "metadata": {},
     "output_type": "execute_result"
    }
   ],
   "source": [
    "data_loss=((907-840)/907)*100\n",
    "data_loss"
   ]
  },
  {
   "cell_type": "code",
   "execution_count": 61,
   "metadata": {},
   "outputs": [
    {
     "data": {
      "text/plain": [
       "capacity_mw            1.952694\n",
       "latitude              -0.111185\n",
       "longitude              0.911122\n",
       "primary_fuel           0.412133\n",
       "commissioning_year    -0.842130\n",
       "source                 1.784584\n",
       "geolocation_source    -2.104209\n",
       "generation_gwh_2014    1.523244\n",
       "generation_gwh_2015    1.388578\n",
       "generation_gwh_2016    1.411295\n",
       "generation_gwh_2017    1.278075\n",
       "generation_gwh_2018    1.315105\n",
       "dtype: float64"
      ]
     },
     "execution_count": 61,
     "metadata": {},
     "output_type": "execute_result"
    }
   ],
   "source": [
    "# target column : primary_fuel\n",
    "df_new.skew()"
   ]
  },
  {
   "cell_type": "markdown",
   "metadata": {},
   "source": [
    "skewed variables : capacity_mw,longitude,commissioning_year,source,generation_gwh_2014,generation_gwh_2015,generation_gwh_2016, generation_gwh_2017,generation_gwh_2018\n",
    "\n",
    "Threshold value: +/- 0.5"
   ]
  },
  {
   "cell_type": "code",
   "execution_count": 62,
   "metadata": {
    "scrolled": false
   },
   "outputs": [
    {
     "data": {
      "image/png": "[encoded data removed]",
      "text/plain": [
       "<Figure size 1080x1296 with 10 Axes>"
      ]
     },
     "metadata": {
      "needs_background": "light"
     },
     "output_type": "display_data"
    }
   ],
   "source": [
    "cat_list = ['capacity_mw','latitude','longitude','commissioning_year', 'source', 'generation_gwh_2014', 'generation_gwh_2015', 'generation_gwh_2016', 'generation_gwh_2017', 'generation_gwh_2018']\n",
    "plt.figure(figsize=(15,18))\n",
    "plotnumber = 1\n",
    "\n",
    "for column in df_new[cat_list]:\n",
    "    if plotnumber<=10:\n",
    "        ax = plt.subplot(5,3,plotnumber)\n",
    "        sns.distplot(df_new[column])\n",
    "        plt.xlabel(column,fontsize=10)\n",
    "    plotnumber+=1\n",
    "plt.show()"
   ]
  },
  {
   "cell_type": "raw",
   "metadata": {},
   "source": [
    "Handling skewness\n",
    "Target : primary_fuel"
   ]
  },
  {
   "cell_type": "code",
   "execution_count": 63,
   "metadata": {},
   "outputs": [
    {
     "data": {
      "text/plain": [
       "capacity_mw            0.064360\n",
       "latitude              -0.111185\n",
       "longitude              0.728520\n",
       "primary_fuel           0.412133\n",
       "commissioning_year    -0.842130\n",
       "source                 0.781083\n",
       "geolocation_source    -2.104209\n",
       "generation_gwh_2014   -2.746235\n",
       "generation_gwh_2015   -2.440184\n",
       "generation_gwh_2016   -2.416320\n",
       "generation_gwh_2017   -2.406898\n",
       "generation_gwh_2018   -2.399066\n",
       "dtype: float64"
      ]
     },
     "execution_count": 63,
     "metadata": {},
     "output_type": "execute_result"
    }
   ],
   "source": [
    "for i in cat_list:\n",
    "    if df_new.skew().loc[i]>0.55:\n",
    "        df_new[i] = np.log1p(df_new[i])\n",
    "df_new.skew()"
   ]
  },
  {
   "cell_type": "code",
   "execution_count": 64,
   "metadata": {},
   "outputs": [
    {
     "data": {
      "text/plain": [
       "capacity_mw            0.064360\n",
       "latitude              -0.111185\n",
       "longitude              0.707912\n",
       "primary_fuel           0.412133\n",
       "commissioning_year    -0.842130\n",
       "source                -0.533882\n",
       "geolocation_source    -2.104209\n",
       "generation_gwh_2014   -2.746235\n",
       "generation_gwh_2015   -2.440184\n",
       "generation_gwh_2016   -2.416320\n",
       "generation_gwh_2017   -2.406898\n",
       "generation_gwh_2018   -2.399066\n",
       "dtype: float64"
      ]
     },
     "execution_count": 64,
     "metadata": {},
     "output_type": "execute_result"
    }
   ],
   "source": [
    "cat_list_new = ('longitude','commissioning_year','source','generation_gwh_2014', 'generation_gwh_2015', 'generation_gwh_2016', 'generation_gwh_2017', 'generation_gwh_2018')\n",
    "for i in cat_list_new:\n",
    "    if df_new.skew().loc[i]>0.55:\n",
    "        df_new[i] = np.sqrt(df_new[i])\n",
    "df_new.skew()"
   ]
  },
  {
   "cell_type": "code",
   "execution_count": 65,
   "metadata": {},
   "outputs": [
    {
     "data": {
      "text/plain": [
       "capacity_mw            0.064360\n",
       "latitude              -0.111185\n",
       "longitude              0.000000\n",
       "primary_fuel           0.412133\n",
       "commissioning_year    -0.842130\n",
       "source                -0.533882\n",
       "geolocation_source    -2.104209\n",
       "generation_gwh_2014   -2.746235\n",
       "generation_gwh_2015   -2.440184\n",
       "generation_gwh_2016   -2.416320\n",
       "generation_gwh_2017   -2.406898\n",
       "generation_gwh_2018   -2.399066\n",
       "dtype: float64"
      ]
     },
     "execution_count": 65,
     "metadata": {},
     "output_type": "execute_result"
    }
   ],
   "source": [
    "from sklearn.preprocessing  import power_transform, StandardScaler\n",
    "cat_list_new = ('longitude','commissioning_year','generation_gwh_2014', 'generation_gwh_2015', 'generation_gwh_2016', 'generation_gwh_2017', 'generation_gwh_2018')\n",
    "for i in cat_list_new:\n",
    "    if df_new.skew().loc[i]>0.55:\n",
    "        df_new[i] = power_transform(df_new[[i]], method='yeo-johnson')\n",
    "df_new.skew()"
   ]
  },
  {
   "cell_type": "code",
   "execution_count": 66,
   "metadata": {},
   "outputs": [
    {
     "data": {
      "text/plain": [
       "capacity_mw            2.136150\n",
       "latitude              -0.112335\n",
       "longitude              0.906539\n",
       "primary_fuel           0.423612\n",
       "commissioning_year    -0.834096\n",
       "source                 1.796064\n",
       "geolocation_source    -2.116273\n",
       "generation_gwh_2014    1.522552\n",
       "generation_gwh_2015    1.374346\n",
       "generation_gwh_2016    1.387879\n",
       "generation_gwh_2017    1.291276\n",
       "generation_gwh_2018    1.417776\n",
       "dtype: float64"
      ]
     },
     "execution_count": 66,
     "metadata": {},
     "output_type": "execute_result"
    }
   ],
   "source": [
    "# target column : capacity_mw \n",
    "df_new1.skew()"
   ]
  },
  {
   "cell_type": "markdown",
   "metadata": {},
   "source": [
    "skewed variable : longitude,commissioning_year, source, generation_gwh_2014,generation_gwh_2015,generation_gwh_2016, generation_gwh_2017,generation_gwh_2018   \n",
    "\n",
    "Threshold value : +/- 0.5"
   ]
  },
  {
   "cell_type": "code",
   "execution_count": 67,
   "metadata": {},
   "outputs": [
    {
     "data": {
      "image/png": "[encoded data removed]",
      "text/plain": [
       "<Figure size 1080x1296 with 9 Axes>"
      ]
     },
     "metadata": {
      "needs_background": "light"
     },
     "output_type": "display_data"
    }
   ],
   "source": [
    "cat_list1 = ['latitude','longitude','commissioning_year', 'source', 'generation_gwh_2014', 'generation_gwh_2015', 'generation_gwh_2016', 'generation_gwh_2017', 'generation_gwh_2018']\n",
    "plt.figure(figsize=(15,18))\n",
    "plotnumber = 1\n",
    "\n",
    "for column in df_new1[cat_list1]:\n",
    "    if plotnumber<=10:\n",
    "        ax = plt.subplot(5,3,plotnumber)\n",
    "        sns.distplot(df_new1[column])\n",
    "        plt.xlabel(column,fontsize=10)\n",
    "    plotnumber+=1\n",
    "plt.show()"
   ]
  },
  {
   "cell_type": "code",
   "execution_count": 68,
   "metadata": {},
   "outputs": [
    {
     "data": {
      "text/plain": [
       "capacity_mw            2.136150\n",
       "latitude              -0.112335\n",
       "longitude              0.723733\n",
       "primary_fuel           0.423612\n",
       "commissioning_year    -0.834096\n",
       "source                 0.791199\n",
       "geolocation_source    -2.116273\n",
       "generation_gwh_2014   -2.758602\n",
       "generation_gwh_2015   -2.450625\n",
       "generation_gwh_2016   -2.408393\n",
       "generation_gwh_2017   -2.409304\n",
       "generation_gwh_2018   -2.395539\n",
       "dtype: float64"
      ]
     },
     "execution_count": 68,
     "metadata": {},
     "output_type": "execute_result"
    }
   ],
   "source": [
    "for i in cat_list1:\n",
    "    if df_new1.skew().loc[i]>0.55:\n",
    "        df_new1[i] = np.log1p(df_new1[i])\n",
    "df_new1.skew()"
   ]
  },
  {
   "cell_type": "code",
   "execution_count": 69,
   "metadata": {},
   "outputs": [
    {
     "data": {
      "text/plain": [
       "capacity_mw            0.064360\n",
       "latitude              -0.111185\n",
       "longitude              0.000000\n",
       "primary_fuel           0.412133\n",
       "commissioning_year    -0.842130\n",
       "source                -0.533882\n",
       "geolocation_source    -2.104209\n",
       "generation_gwh_2014   -2.746235\n",
       "generation_gwh_2015   -2.440184\n",
       "generation_gwh_2016   -2.416320\n",
       "generation_gwh_2017   -2.406898\n",
       "generation_gwh_2018   -2.399066\n",
       "dtype: float64"
      ]
     },
     "execution_count": 69,
     "metadata": {},
     "output_type": "execute_result"
    }
   ],
   "source": [
    "cat_list_new = ('longitude','commissioning_year','generation_gwh_2014','source', 'generation_gwh_2015', 'generation_gwh_2016', 'generation_gwh_2017', 'generation_gwh_2018')\n",
    "for i in cat_list_new:\n",
    "    if df_new1.skew().loc[i]>0.55:\n",
    "        df_new1[i] = power_transform(df_new1[[i]], method='yeo-johnson')\n",
    "df_new.skew()"
   ]
  },
  {
   "cell_type": "code",
   "execution_count": 70,
   "metadata": {},
   "outputs": [
    {
     "data": {
      "text/plain": [
       "capacity_mw            0.064360\n",
       "latitude              -0.111185\n",
       "longitude              0.000000\n",
       "primary_fuel           0.412133\n",
       "commissioning_year    -0.842130\n",
       "source                -0.533882\n",
       "geolocation_source    -2.104209\n",
       "generation_gwh_2014   -2.746235\n",
       "generation_gwh_2015   -2.440184\n",
       "generation_gwh_2016   -2.416320\n",
       "generation_gwh_2017   -2.406898\n",
       "generation_gwh_2018   -2.399066\n",
       "dtype: float64"
      ]
     },
     "execution_count": 70,
     "metadata": {},
     "output_type": "execute_result"
    }
   ],
   "source": [
    "cat_list_new = ('commissioning_year','generation_gwh_2014', 'generation_gwh_2015', 'generation_gwh_2016', 'generation_gwh_2017', 'generation_gwh_2018')\n",
    "for i in cat_list_new:\n",
    "    if df_new.skew().loc[i]>0.55:\n",
    "        df_new[i] = power_transform(df_new1[[i]], method='yeo-johnson')\n",
    "df_new.skew()"
   ]
  },
  {
   "cell_type": "markdown",
   "metadata": {},
   "source": [
    "Spliting data into Target and Features: Target Variable is primary_fuel"
   ]
  },
  {
   "cell_type": "code",
   "execution_count": 71,
   "metadata": {},
   "outputs": [],
   "source": [
    "x=df_new.drop(\"primary_fuel\",axis=1)\n",
    "y=df_new[\"primary_fuel\"]"
   ]
  },
  {
   "cell_type": "markdown",
   "metadata": {},
   "source": [
    "As a classification problem we need to balance the data of target column so that we use oversampling method"
   ]
  },
  {
   "cell_type": "code",
   "execution_count": 72,
   "metadata": {},
   "outputs": [
    {
     "data": {
      "text/plain": [
       "1    231\n",
       "3    221\n",
       "7    123\n",
       "6    121\n",
       "2     64\n",
       "0     45\n",
       "5     20\n",
       "4      9\n",
       "Name: primary_fuel, dtype: int64"
      ]
     },
     "execution_count": 72,
     "metadata": {},
     "output_type": "execute_result"
    }
   ],
   "source": [
    "y.value_counts()"
   ]
  },
  {
   "cell_type": "code",
   "execution_count": 73,
   "metadata": {},
   "outputs": [],
   "source": [
    "from imblearn.over_sampling import SMOTE"
   ]
  },
  {
   "cell_type": "code",
   "execution_count": 74,
   "metadata": {},
   "outputs": [],
   "source": [
    "SM = SMOTE()\n",
    "x, y = SM.fit_resample(x,y)"
   ]
  },
  {
   "cell_type": "code",
   "execution_count": 75,
   "metadata": {},
   "outputs": [
    {
     "data": {
      "text/plain": [
       "7    231\n",
       "6    231\n",
       "5    231\n",
       "4    231\n",
       "3    231\n",
       "2    231\n",
       "1    231\n",
       "0    231\n",
       "Name: primary_fuel, dtype: int64"
      ]
     },
     "execution_count": 75,
     "metadata": {},
     "output_type": "execute_result"
    }
   ],
   "source": [
    "y.value_counts()"
   ]
  },
  {
   "cell_type": "markdown",
   "metadata": {},
   "source": [
    "now the target column have equal proportion"
   ]
  },
  {
   "cell_type": "code",
   "execution_count": 76,
   "metadata": {},
   "outputs": [],
   "source": [
    "# scale the whole data into single format\n",
    "scaler = StandardScaler()\n",
    "x = pd.DataFrame(scaler.fit_transform(x), columns = x.columns)"
   ]
  },
  {
   "cell_type": "markdown",
   "metadata": {},
   "source": [
    "Spliting data into Target and Features: Target Variable is capacity_mw"
   ]
  },
  {
   "cell_type": "code",
   "execution_count": 77,
   "metadata": {},
   "outputs": [],
   "source": [
    "x1=df_new1.drop(\"capacity_mw\",axis=1)\n",
    "y1=df_new1[\"capacity_mw\"]"
   ]
  },
  {
   "cell_type": "code",
   "execution_count": 78,
   "metadata": {},
   "outputs": [],
   "source": [
    "scaler = StandardScaler()\n",
    "x1 = pd.DataFrame(scaler.fit_transform(x1), columns = x1.columns)"
   ]
  },
  {
   "cell_type": "markdown",
   "metadata": {},
   "source": [
    "The Variance Threshold method allows you to eliminate low-variance features, which often correspond to constant or near-constant values, to reduce the dimensionality of the dataset and potentially improve model performance."
   ]
  },
  {
   "cell_type": "markdown",
   "metadata": {},
   "source": [
    "Target Variable is primary_fuel"
   ]
  },
  {
   "cell_type": "code",
   "execution_count": 79,
   "metadata": {},
   "outputs": [],
   "source": [
    "from sklearn.feature_selection import VarianceThreshold, SelectKBest, f_classif"
   ]
  },
  {
   "cell_type": "code",
   "execution_count": 80,
   "metadata": {},
   "outputs": [
    {
     "data": {
      "text/plain": [
       "VarianceThreshold(threshold=0)"
      ]
     },
     "execution_count": 80,
     "metadata": {},
     "output_type": "execute_result"
    }
   ],
   "source": [
    "var_threshold = VarianceThreshold(threshold=0)\n",
    "var_threshold.fit(x)"
   ]
  },
  {
   "cell_type": "code",
   "execution_count": 81,
   "metadata": {},
   "outputs": [
    {
     "data": {
      "text/plain": [
       "array([ True,  True, False,  True,  True,  True,  True,  True,  True,\n",
       "        True,  True])"
      ]
     },
     "execution_count": 81,
     "metadata": {},
     "output_type": "execute_result"
    }
   ],
   "source": [
    "var_threshold.get_support()"
   ]
  },
  {
   "cell_type": "code",
   "execution_count": 82,
   "metadata": {},
   "outputs": [
    {
     "data": {
      "text/plain": [
       "Index(['capacity_mw', 'latitude', 'commissioning_year', 'source',\n",
       "       'geolocation_source', 'generation_gwh_2014', 'generation_gwh_2015',\n",
       "       'generation_gwh_2016', 'generation_gwh_2017', 'generation_gwh_2018'],\n",
       "      dtype='object')"
      ]
     },
     "execution_count": 82,
     "metadata": {},
     "output_type": "execute_result"
    }
   ],
   "source": [
    "x.columns[var_threshold.get_support()]"
   ]
  },
  {
   "cell_type": "code",
   "execution_count": 83,
   "metadata": {},
   "outputs": [
    {
     "name": "stdout",
     "output_type": "stream",
     "text": [
      "1\n"
     ]
    }
   ],
   "source": [
    "# taking  out  all the  constent  columns \n",
    "cons_columns = [column for column in x.columns\n",
    "               if column not in x.columns[var_threshold.get_support()]]\n",
    "print(len(cons_columns))"
   ]
  },
  {
   "cell_type": "code",
   "execution_count": 84,
   "metadata": {},
   "outputs": [
    {
     "data": {
      "text/plain": [
       "['longitude']"
      ]
     },
     "execution_count": 84,
     "metadata": {},
     "output_type": "execute_result"
    }
   ],
   "source": [
    "cons_columns"
   ]
  },
  {
   "cell_type": "code",
   "execution_count": 85,
   "metadata": {},
   "outputs": [],
   "source": [
    "x = x.drop([\"longitude\"],axis=1)"
   ]
  },
  {
   "cell_type": "markdown",
   "metadata": {},
   "source": [
    " Target Variable is capacity_mw"
   ]
  },
  {
   "cell_type": "code",
   "execution_count": 86,
   "metadata": {},
   "outputs": [
    {
     "data": {
      "text/plain": [
       "VarianceThreshold(threshold=0)"
      ]
     },
     "execution_count": 86,
     "metadata": {},
     "output_type": "execute_result"
    }
   ],
   "source": [
    "var_threshold = VarianceThreshold(threshold=0)\n",
    "var_threshold.fit(x1)"
   ]
  },
  {
   "cell_type": "code",
   "execution_count": 87,
   "metadata": {},
   "outputs": [
    {
     "data": {
      "text/plain": [
       "array([ True,  True,  True,  True,  True,  True,  True,  True,  True,\n",
       "        True,  True])"
      ]
     },
     "execution_count": 87,
     "metadata": {},
     "output_type": "execute_result"
    }
   ],
   "source": [
    "var_threshold.get_support()"
   ]
  },
  {
   "cell_type": "code",
   "execution_count": 88,
   "metadata": {},
   "outputs": [
    {
     "data": {
      "text/plain": [
       "Index(['latitude', 'longitude', 'primary_fuel', 'commissioning_year', 'source',\n",
       "       'geolocation_source', 'generation_gwh_2014', 'generation_gwh_2015',\n",
       "       'generation_gwh_2016', 'generation_gwh_2017', 'generation_gwh_2018'],\n",
       "      dtype='object')"
      ]
     },
     "execution_count": 88,
     "metadata": {},
     "output_type": "execute_result"
    }
   ],
   "source": [
    "x1.columns[var_threshold.get_support()]"
   ]
  },
  {
   "cell_type": "code",
   "execution_count": 89,
   "metadata": {},
   "outputs": [
    {
     "name": "stdout",
     "output_type": "stream",
     "text": [
      "1\n"
     ]
    }
   ],
   "source": [
    "cons_columns1 = [column for column in x1.columns\n",
    "               if column not in x1.columns[var_threshold.get_support()]]\n",
    "print(len(cons_columns))"
   ]
  },
  {
   "cell_type": "code",
   "execution_count": 90,
   "metadata": {},
   "outputs": [
    {
     "data": {
      "text/plain": [
       "['longitude']"
      ]
     },
     "execution_count": 90,
     "metadata": {},
     "output_type": "execute_result"
    }
   ],
   "source": [
    "cons_columns"
   ]
  },
  {
   "cell_type": "code",
   "execution_count": 91,
   "metadata": {},
   "outputs": [],
   "source": [
    "x1 = x1.drop([\"longitude\"],axis=1)"
   ]
  },
  {
   "cell_type": "code",
   "execution_count": 92,
   "metadata": {},
   "outputs": [],
   "source": [
    "# solving multicollinearity\n",
    "from statsmodels.stats.outliers_influence import variance_inflation_factor"
   ]
  },
  {
   "cell_type": "code",
   "execution_count": 93,
   "metadata": {},
   "outputs": [
    {
     "data": {
      "text/html": [
       "<div>\n",
       "<style scoped>\n",
       "    .dataframe tbody tr th:only-of-type {\n",
       "        vertical-align: middle;\n",
       "    }\n",
       "\n",
       "    .dataframe tbody tr th {\n",
       "        vertical-align: top;\n",
       "    }\n",
       "\n",
       "    .dataframe thead th {\n",
       "        text-align: right;\n",
       "    }\n",
       "</style>\n",
       "<table border=\"1\" class=\"dataframe\">\n",
       "  <thead>\n",
       "    <tr style=\"text-align: right;\">\n",
       "      <th></th>\n",
       "      <th>VIF values</th>\n",
       "      <th>Features</th>\n",
       "    </tr>\n",
       "  </thead>\n",
       "  <tbody>\n",
       "    <tr>\n",
       "      <th>0</th>\n",
       "      <td>1.477224</td>\n",
       "      <td>capacity_mw</td>\n",
       "    </tr>\n",
       "    <tr>\n",
       "      <th>1</th>\n",
       "      <td>1.126630</td>\n",
       "      <td>latitude</td>\n",
       "    </tr>\n",
       "    <tr>\n",
       "      <th>2</th>\n",
       "      <td>1.077737</td>\n",
       "      <td>commissioning_year</td>\n",
       "    </tr>\n",
       "    <tr>\n",
       "      <th>3</th>\n",
       "      <td>1.294524</td>\n",
       "      <td>source</td>\n",
       "    </tr>\n",
       "    <tr>\n",
       "      <th>4</th>\n",
       "      <td>1.470214</td>\n",
       "      <td>geolocation_source</td>\n",
       "    </tr>\n",
       "    <tr>\n",
       "      <th>5</th>\n",
       "      <td>3.850606</td>\n",
       "      <td>generation_gwh_2014</td>\n",
       "    </tr>\n",
       "    <tr>\n",
       "      <th>6</th>\n",
       "      <td>6.585170</td>\n",
       "      <td>generation_gwh_2015</td>\n",
       "    </tr>\n",
       "    <tr>\n",
       "      <th>7</th>\n",
       "      <td>8.146049</td>\n",
       "      <td>generation_gwh_2016</td>\n",
       "    </tr>\n",
       "    <tr>\n",
       "      <th>8</th>\n",
       "      <td>3.700034</td>\n",
       "      <td>generation_gwh_2017</td>\n",
       "    </tr>\n",
       "    <tr>\n",
       "      <th>9</th>\n",
       "      <td>6.808361</td>\n",
       "      <td>generation_gwh_2018</td>\n",
       "    </tr>\n",
       "  </tbody>\n",
       "</table>\n",
       "</div>"
      ],
      "text/plain": [
       "   VIF values             Features\n",
       "0    1.477224          capacity_mw\n",
       "1    1.126630             latitude\n",
       "2    1.077737   commissioning_year\n",
       "3    1.294524               source\n",
       "4    1.470214   geolocation_source\n",
       "5    3.850606  generation_gwh_2014\n",
       "6    6.585170  generation_gwh_2015\n",
       "7    8.146049  generation_gwh_2016\n",
       "8    3.700034  generation_gwh_2017\n",
       "9    6.808361  generation_gwh_2018"
      ]
     },
     "execution_count": 93,
     "metadata": {},
     "output_type": "execute_result"
    }
   ],
   "source": [
    "#  Target Variable is primary_fuel\n",
    "vif = pd.DataFrame()\n",
    "vif['VIF values']= [variance_inflation_factor(x.values,i) for i in range(len(x.columns))]\n",
    "vif['Features'] = x.columns\n",
    "vif"
   ]
  },
  {
   "cell_type": "markdown",
   "metadata": {},
   "source": [
    "In this case we considered threshold value 10 by default, but the value is less than 10"
   ]
  },
  {
   "cell_type": "markdown",
   "metadata": {},
   "source": [
    "VIF for Target Variable is capacity_mw"
   ]
  },
  {
   "cell_type": "code",
   "execution_count": 94,
   "metadata": {},
   "outputs": [
    {
     "data": {
      "text/html": [
       "<div>\n",
       "<style scoped>\n",
       "    .dataframe tbody tr th:only-of-type {\n",
       "        vertical-align: middle;\n",
       "    }\n",
       "\n",
       "    .dataframe tbody tr th {\n",
       "        vertical-align: top;\n",
       "    }\n",
       "\n",
       "    .dataframe thead th {\n",
       "        text-align: right;\n",
       "    }\n",
       "</style>\n",
       "<table border=\"1\" class=\"dataframe\">\n",
       "  <thead>\n",
       "    <tr style=\"text-align: right;\">\n",
       "      <th></th>\n",
       "      <th>VIF values</th>\n",
       "      <th>Features</th>\n",
       "    </tr>\n",
       "  </thead>\n",
       "  <tbody>\n",
       "    <tr>\n",
       "      <th>0</th>\n",
       "      <td>1.072078</td>\n",
       "      <td>latitude</td>\n",
       "    </tr>\n",
       "    <tr>\n",
       "      <th>1</th>\n",
       "      <td>1.413198</td>\n",
       "      <td>primary_fuel</td>\n",
       "    </tr>\n",
       "    <tr>\n",
       "      <th>2</th>\n",
       "      <td>1.063022</td>\n",
       "      <td>commissioning_year</td>\n",
       "    </tr>\n",
       "    <tr>\n",
       "      <th>3</th>\n",
       "      <td>1.293232</td>\n",
       "      <td>source</td>\n",
       "    </tr>\n",
       "    <tr>\n",
       "      <th>4</th>\n",
       "      <td>1.714260</td>\n",
       "      <td>geolocation_source</td>\n",
       "    </tr>\n",
       "    <tr>\n",
       "      <th>5</th>\n",
       "      <td>2.594201</td>\n",
       "      <td>generation_gwh_2014</td>\n",
       "    </tr>\n",
       "    <tr>\n",
       "      <th>6</th>\n",
       "      <td>4.238126</td>\n",
       "      <td>generation_gwh_2015</td>\n",
       "    </tr>\n",
       "    <tr>\n",
       "      <th>7</th>\n",
       "      <td>6.891640</td>\n",
       "      <td>generation_gwh_2016</td>\n",
       "    </tr>\n",
       "    <tr>\n",
       "      <th>8</th>\n",
       "      <td>4.506228</td>\n",
       "      <td>generation_gwh_2017</td>\n",
       "    </tr>\n",
       "    <tr>\n",
       "      <th>9</th>\n",
       "      <td>5.686559</td>\n",
       "      <td>generation_gwh_2018</td>\n",
       "    </tr>\n",
       "  </tbody>\n",
       "</table>\n",
       "</div>"
      ],
      "text/plain": [
       "   VIF values             Features\n",
       "0    1.072078             latitude\n",
       "1    1.413198         primary_fuel\n",
       "2    1.063022   commissioning_year\n",
       "3    1.293232               source\n",
       "4    1.714260   geolocation_source\n",
       "5    2.594201  generation_gwh_2014\n",
       "6    4.238126  generation_gwh_2015\n",
       "7    6.891640  generation_gwh_2016\n",
       "8    4.506228  generation_gwh_2017\n",
       "9    5.686559  generation_gwh_2018"
      ]
     },
     "execution_count": 94,
     "metadata": {},
     "output_type": "execute_result"
    }
   ],
   "source": [
    "vif = pd.DataFrame()\n",
    "vif['VIF values']= [variance_inflation_factor(x1.values,i) for i in range(len(x1.columns))]\n",
    "vif['Features'] = x1.columns\n",
    "vif"
   ]
  },
  {
   "cell_type": "markdown",
   "metadata": {},
   "source": [
    "Here, also same case"
   ]
  },
  {
   "cell_type": "markdown",
   "metadata": {},
   "source": [
    "Creating Model We are using Classification Model for Target Variable, primary_fuel and Regression Model for Target Variable, capacity_mw"
   ]
  },
  {
   "cell_type": "markdown",
   "metadata": {},
   "source": [
    "Target Variable: primary_fuel"
   ]
  },
  {
   "cell_type": "code",
   "execution_count": 112,
   "metadata": {},
   "outputs": [],
   "source": [
    "from sklearn.model_selection import train_test_split\n",
    "from sklearn.linear_model import LogisticRegression\n",
    "from sklearn.metrics import roc_curve, auc, roc_auc_score, accuracy_score, classification_report, confusion_matrix\n",
    "from sklearn.tree import DecisionTreeClassifier\n",
    "from sklearn.ensemble import RandomForestClassifier\n",
    "from sklearn.svm import SVC\n",
    "from sklearn.neighbors import KNeighborsClassifier as KNN\n",
    "from sklearn.model_selection import cross_val_score\n",
    "from sklearn.model_selection import GridSearchCV"
   ]
  },
  {
   "cell_type": "code",
   "execution_count": 96,
   "metadata": {},
   "outputs": [
    {
     "name": "stdout",
     "output_type": "stream",
     "text": [
      "Best accuracy is  0.9027027027027027  on Random_state  14\n"
     ]
    }
   ],
   "source": [
    "maxAccu=0\n",
    "maxRS=0\n",
    "for i in range(1,100):\n",
    "    x_train,x_test,y_train,y_test = train_test_split(x,y,test_size=.30, random_state =i)\n",
    "    DTC = DecisionTreeClassifier()\n",
    "    DTC.fit(x_train, y_train)\n",
    "    pred = DTC.predict(x_test)\n",
    "    acc=accuracy_score(y_test, pred)\n",
    "    if acc>maxAccu:\n",
    "        maxAccu=acc\n",
    "        maxRS=i\n",
    "print(\"Best accuracy is \",maxAccu,\" on Random_state \",maxRS)"
   ]
  },
  {
   "cell_type": "code",
   "execution_count": 97,
   "metadata": {},
   "outputs": [],
   "source": [
    "x_train,x_test,y_train,y_test=train_test_split(x,y,test_size=.30,random_state=maxRS)"
   ]
  },
  {
   "cell_type": "code",
   "execution_count": 98,
   "metadata": {},
   "outputs": [
    {
     "name": "stdout",
     "output_type": "stream",
     "text": [
      "accuracy_score:  0.7135135135135136\n",
      "confusion_matrix: \n",
      " [[65  1  0  0  0  0  0  4]\n",
      " [ 4 25  6  1 16  4  0  2]\n",
      " [ 3  9 34  9  2 13  0  3]\n",
      " [ 0 15  3 30  4  3  0 17]\n",
      " [ 0  2  0  5 58  0  0  0]\n",
      " [18  2  0  1  0 41  0  5]\n",
      " [ 0  2  0  0  0  0 73  0]\n",
      " [ 0  0  0  5  0  0  0 70]]\n",
      "classification_report: \n",
      "               precision    recall  f1-score   support\n",
      "\n",
      "           0       0.72      0.93      0.81        70\n",
      "           1       0.45      0.43      0.44        58\n",
      "           2       0.79      0.47      0.59        73\n",
      "           3       0.59      0.42      0.49        72\n",
      "           4       0.72      0.89      0.80        65\n",
      "           5       0.67      0.61      0.64        67\n",
      "           6       1.00      0.97      0.99        75\n",
      "           7       0.69      0.93      0.80        75\n",
      "\n",
      "    accuracy                           0.71       555\n",
      "   macro avg       0.70      0.71      0.69       555\n",
      "weighted avg       0.71      0.71      0.70       555\n",
      "\n"
     ]
    }
   ],
   "source": [
    "lr=LogisticRegression()\n",
    "lr.fit(x_train,y_train)\n",
    "pred_lr=lr.predict(x_test)\n",
    "\n",
    "print(\"accuracy_score: \", accuracy_score(y_test, pred_lr))\n",
    "print(\"confusion_matrix: \\n\", confusion_matrix(y_test, pred_lr))\n",
    "print(\"classification_report: \\n\", classification_report(y_test,pred_lr))"
   ]
  },
  {
   "cell_type": "code",
   "execution_count": 99,
   "metadata": {},
   "outputs": [
    {
     "name": "stdout",
     "output_type": "stream",
     "text": [
      "accuracy_score:  0.9009009009009009\n",
      "confusion_matrix: \n",
      " [[67  2  0  0  0  1  0  0]\n",
      " [ 3 33  7  6  8  1  0  0]\n",
      " [ 2  4 58  3  2  4  0  0]\n",
      " [ 0  2  5 64  1  0  0  0]\n",
      " [ 0  0  0  2 63  0  0  0]\n",
      " [ 0  1  1  0  0 65  0  0]\n",
      " [ 0  0  0  0  0  0 75  0]\n",
      " [ 0  0  0  0  0  0  0 75]]\n",
      "classification_report: \n",
      "               precision    recall  f1-score   support\n",
      "\n",
      "           0       0.93      0.96      0.94        70\n",
      "           1       0.79      0.57      0.66        58\n",
      "           2       0.82      0.79      0.81        73\n",
      "           3       0.85      0.89      0.87        72\n",
      "           4       0.85      0.97      0.91        65\n",
      "           5       0.92      0.97      0.94        67\n",
      "           6       1.00      1.00      1.00        75\n",
      "           7       1.00      1.00      1.00        75\n",
      "\n",
      "    accuracy                           0.90       555\n",
      "   macro avg       0.89      0.89      0.89       555\n",
      "weighted avg       0.90      0.90      0.90       555\n",
      "\n"
     ]
    }
   ],
   "source": [
    "rfc = RandomForestClassifier(n_estimators=100)\n",
    "rfc.fit(x_train,y_train)\n",
    "pred_rfc = rfc.predict(x_test)\n",
    "\n",
    "print(\"accuracy_score: \",accuracy_score(y_test, pred_rfc))\n",
    "print(\"confusion_matrix: \\n\",confusion_matrix(y_test, pred_rfc))\n",
    "print(\"classification_report: \\n\",classification_report(y_test,pred_rfc))"
   ]
  },
  {
   "cell_type": "code",
   "execution_count": 100,
   "metadata": {},
   "outputs": [
    {
     "name": "stdout",
     "output_type": "stream",
     "text": [
      "accuracy_score:  0.9045045045045045\n",
      "confusion_matrix: \n",
      " [[69  1  0  0  0  0  0  0]\n",
      " [ 2 36  6  7  5  2  0  0]\n",
      " [ 0  5 55  5  2  6  0  0]\n",
      " [ 0  2  4 62  2  2  0  0]\n",
      " [ 0  0  0  0 65  0  0  0]\n",
      " [ 0  0  2  0  0 65  0  0]\n",
      " [ 0  0  0  0  0  0 75  0]\n",
      " [ 0  0  0  0  0  0  0 75]]\n",
      "classification_report: \n",
      "               precision    recall  f1-score   support\n",
      "\n",
      "           0       0.97      0.99      0.98        70\n",
      "           1       0.82      0.62      0.71        58\n",
      "           2       0.82      0.75      0.79        73\n",
      "           3       0.84      0.86      0.85        72\n",
      "           4       0.88      1.00      0.94        65\n",
      "           5       0.87      0.97      0.92        67\n",
      "           6       1.00      1.00      1.00        75\n",
      "           7       1.00      1.00      1.00        75\n",
      "\n",
      "    accuracy                           0.90       555\n",
      "   macro avg       0.90      0.90      0.90       555\n",
      "weighted avg       0.90      0.90      0.90       555\n",
      "\n"
     ]
    }
   ],
   "source": [
    "dtc = DecisionTreeClassifier()\n",
    "dtc.fit(x_train,y_train)\n",
    "pred_dtc = dtc.predict(x_test)\n",
    "\n",
    "print(\"accuracy_score: \",accuracy_score(y_test, pred_dtc))\n",
    "print(\"confusion_matrix: \\n\",confusion_matrix(y_test, pred_dtc))\n",
    "print(\"classification_report: \\n\",classification_report(y_test,pred_dtc))"
   ]
  },
  {
   "cell_type": "code",
   "execution_count": 101,
   "metadata": {},
   "outputs": [
    {
     "name": "stdout",
     "output_type": "stream",
     "text": [
      "accuracy_score:  0.7783783783783784\n",
      "confusion_matrix: \n",
      " [[64  1  0  0  0  3  0  2]\n",
      " [ 4 24  7  2 17  2  0  2]\n",
      " [ 2  7 43  7  2 10  0  2]\n",
      " [ 0 12  6 33  4  0  0 17]\n",
      " [ 0  0  0  0 65  0  0  0]\n",
      " [ 9  0  0  1  0 53  0  4]\n",
      " [ 0  0  0  0  0  0 75  0]\n",
      " [ 0  0  0  0  0  0  0 75]]\n",
      "classification_report: \n",
      "               precision    recall  f1-score   support\n",
      "\n",
      "           0       0.81      0.91      0.86        70\n",
      "           1       0.55      0.41      0.47        58\n",
      "           2       0.77      0.59      0.67        73\n",
      "           3       0.77      0.46      0.57        72\n",
      "           4       0.74      1.00      0.85        65\n",
      "           5       0.78      0.79      0.79        67\n",
      "           6       1.00      1.00      1.00        75\n",
      "           7       0.74      1.00      0.85        75\n",
      "\n",
      "    accuracy                           0.78       555\n",
      "   macro avg       0.77      0.77      0.76       555\n",
      "weighted avg       0.77      0.78      0.76       555\n",
      "\n"
     ]
    }
   ],
   "source": [
    "svc = SVC(kernel='linear', gamma=3)\n",
    "svc.fit(x_train,y_train)\n",
    "pred_svc = svc.predict(x_test)\n",
    "\n",
    "print(\"accuracy_score: \", accuracy_score(y_test, pred_svc))\n",
    "print(\"confusion_matrix: \\n\", confusion_matrix(y_test, pred_svc))\n",
    "print(\"classification_report: \\n\", classification_report(y_test,pred_svc))"
   ]
  },
  {
   "cell_type": "code",
   "execution_count": 102,
   "metadata": {},
   "outputs": [
    {
     "name": "stdout",
     "output_type": "stream",
     "text": [
      "accuracy_score:  0.8342342342342343\n",
      "confusion_matrix: \n",
      " [[67  1  0  0  0  2  0  0]\n",
      " [ 3 29  8  3 11  4  0  0]\n",
      " [ 2  6 48  1  2 14  0  0]\n",
      " [ 0  9  5 47  1  2  0  8]\n",
      " [ 0  1  0  3 61  0  0  0]\n",
      " [ 3  0  2  0  0 62  0  0]\n",
      " [ 0  0  0  0  0  0 75  0]\n",
      " [ 0  0  0  0  0  1  0 74]]\n",
      "classification_report: \n",
      "               precision    recall  f1-score   support\n",
      "\n",
      "           0       0.89      0.96      0.92        70\n",
      "           1       0.63      0.50      0.56        58\n",
      "           2       0.76      0.66      0.71        73\n",
      "           3       0.87      0.65      0.75        72\n",
      "           4       0.81      0.94      0.87        65\n",
      "           5       0.73      0.93      0.82        67\n",
      "           6       1.00      1.00      1.00        75\n",
      "           7       0.90      0.99      0.94        75\n",
      "\n",
      "    accuracy                           0.83       555\n",
      "   macro avg       0.83      0.83      0.82       555\n",
      "weighted avg       0.83      0.83      0.83       555\n",
      "\n"
     ]
    }
   ],
   "source": [
    "knn = KNN()\n",
    "knn.fit(x_train,y_train)\n",
    "pred_knn = knn.predict(x_test)\n",
    "\n",
    "print(\"accuracy_score: \",accuracy_score(y_test, pred_knn))\n",
    "print(\"confusion_matrix: \\n\",confusion_matrix(y_test, pred_knn))\n",
    "print(\"classification_report: \\n\",classification_report(y_test,pred_knn))"
   ]
  },
  {
   "cell_type": "markdown",
   "metadata": {},
   "source": [
    "cross validation score of models"
   ]
  },
  {
   "cell_type": "code",
   "execution_count": 105,
   "metadata": {},
   "outputs": [
    {
     "name": "stdout",
     "output_type": "stream",
     "text": [
      "CV score for Logistic Regression:  0.6991225371713177\n"
     ]
    }
   ],
   "source": [
    "print('CV score for Logistic Regression: ',cross_val_score(lr,x,y,cv=5).mean())"
   ]
  },
  {
   "cell_type": "code",
   "execution_count": 106,
   "metadata": {},
   "outputs": [
    {
     "name": "stdout",
     "output_type": "stream",
     "text": [
      "CV score for Random forest Classifier:  0.9025869772211236\n"
     ]
    }
   ],
   "source": [
    "print('CV score for Random forest Classifier: ',cross_val_score(rfc,x,y,cv=5).mean())"
   ]
  },
  {
   "cell_type": "code",
   "execution_count": 107,
   "metadata": {},
   "outputs": [
    {
     "name": "stdout",
     "output_type": "stream",
     "text": [
      "CV score for Decision Tree Classifier:  0.8679601552772285\n"
     ]
    }
   ],
   "source": [
    "print('CV score for Decision Tree Classifier: ',cross_val_score(dtc,x,y,cv=5).mean())"
   ]
  },
  {
   "cell_type": "code",
   "execution_count": 108,
   "metadata": {},
   "outputs": [
    {
     "name": "stdout",
     "output_type": "stream",
     "text": [
      "CV score for Support Vector  Classifier:  0.7656881271515419\n"
     ]
    }
   ],
   "source": [
    "print('CV score for Support Vector  Classifier: ',cross_val_score(svc,x,y,cv=5).mean())"
   ]
  },
  {
   "cell_type": "code",
   "execution_count": 109,
   "metadata": {},
   "outputs": [
    {
     "name": "stdout",
     "output_type": "stream",
     "text": [
      "CV score for KNN Classifier:  0.8327810737566835\n"
     ]
    }
   ],
   "source": [
    "print('CV score for KNN Classifier: ',cross_val_score(knn,x,y,cv=5).mean())"
   ]
  },
  {
   "cell_type": "markdown",
   "metadata": {},
   "source": [
    "From the observation of accuracy and cross validation score and their difference we can predict that Random Forest Classifier is the best model."
   ]
  },
  {
   "cell_type": "code",
   "execution_count": 110,
   "metadata": {},
   "outputs": [],
   "source": [
    "parameter={\"max_depth\":np.arange(1,10),\n",
    "           \"criterion\":[\"gini\",\"entropy\"],\n",
    "            \"min_samples_split\": [2, 5, 10],\n",
    "            \"n_estimators\": [50, 100, 200]}"
   ]
  },
  {
   "cell_type": "code",
   "execution_count": 113,
   "metadata": {},
   "outputs": [],
   "source": [
    "gcv=GridSearchCV(RandomForestClassifier(),parameter,cv=5)"
   ]
  },
  {
   "cell_type": "code",
   "execution_count": 114,
   "metadata": {},
   "outputs": [
    {
     "data": {
      "text/plain": [
       "GridSearchCV(cv=5, estimator=RandomForestClassifier(),\n",
       "             param_grid={'criterion': ['gini', 'entropy'],\n",
       "                         'max_depth': array([1, 2, 3, 4, 5, 6, 7, 8, 9]),\n",
       "                         'min_samples_split': [2, 5, 10],\n",
       "                         'n_estimators': [50, 100, 200]})"
      ]
     },
     "execution_count": 114,
     "metadata": {},
     "output_type": "execute_result"
    }
   ],
   "source": [
    "gcv.fit(x_train,y_train)"
   ]
  },
  {
   "cell_type": "code",
   "execution_count": 115,
   "metadata": {},
   "outputs": [
    {
     "data": {
      "text/plain": [
       "{'criterion': 'entropy',\n",
       " 'max_depth': 9,\n",
       " 'min_samples_split': 2,\n",
       " 'n_estimators': 50}"
      ]
     },
     "execution_count": 115,
     "metadata": {},
     "output_type": "execute_result"
    }
   ],
   "source": [
    "gcv.best_params_"
   ]
  },
  {
   "cell_type": "code",
   "execution_count": 117,
   "metadata": {},
   "outputs": [
    {
     "name": "stdout",
     "output_type": "stream",
     "text": [
      "0.8792792792792793\n",
      "[[63  3  0  0  0  3  0  1]\n",
      " [ 3 29  7  5 11  3  0  0]\n",
      " [ 2  3 53  3  2 10  0  0]\n",
      " [ 0  4  5 63  0  0  0  0]\n",
      " [ 0  0  0  2 63  0  0  0]\n",
      " [ 0  0  0  0  0 67  0  0]\n",
      " [ 0  0  0  0  0  0 75  0]\n",
      " [ 0  0  0  0  0  0  0 75]]\n"
     ]
    }
   ],
   "source": [
    "final_model=RandomForestClassifier(max_depth=9,criterion=\"entropy\",min_samples_split= 2 ,n_estimators = 50)\n",
    "final_model.fit(x_train,y_train)\n",
    "pred=final_model.predict(x_test)\n",
    "acc=accuracy_score(y_test,pred)\n",
    "confusion=confusion_matrix(y_test,pred)\n",
    "print(acc)\n",
    "print(confusion)"
   ]
  },
  {
   "cell_type": "code",
   "execution_count": 118,
   "metadata": {},
   "outputs": [],
   "source": [
    "#  ROC-AUC Curve\n",
    "fpr,tpr,thresholds = roc_curve(y_test,pred,pos_label=True)"
   ]
  },
  {
   "cell_type": "code",
   "execution_count": 119,
   "metadata": {},
   "outputs": [
    {
     "data": {
      "image/png": "[encoded data removed]",
      "text/plain": [
       "<Figure size 432x288 with 1 Axes>"
      ]
     },
     "metadata": {
      "needs_background": "light"
     },
     "output_type": "display_data"
    }
   ],
   "source": [
    "plt.figure()\n",
    "plt.plot(fpr,tpr,color=\"orange\",lw=2,label = \"ROC Curve (area= %0.2f)\" % acc)\n",
    "plt.plot([0,1],[0,1],color=\"navy\",lw=3,linestyle=\"--\")\n",
    "plt.xlim([0.0,1.0])\n",
    "plt.ylim([0.0,1.05])\n",
    "plt.xlabel(\"False Positive Rate\")\n",
    "plt.ylabel(\"True Positive Rate\")\n",
    "plt.title(\"RRandom Forest Classifier\")\n",
    "plt.legend(loc=\"lower right\")\n",
    "plt.show()"
   ]
  },
  {
   "cell_type": "markdown",
   "metadata": {},
   "source": [
    "This is the AUC-ROC curve for the models which is plotted False positive rate against True positive rate. So the model has the area under curve as 0.88\n"
   ]
  },
  {
   "cell_type": "code",
   "execution_count": 120,
   "metadata": {},
   "outputs": [],
   "source": [
    "# for save the model\n",
    "import pickle"
   ]
  },
  {
   "cell_type": "code",
   "execution_count": 123,
   "metadata": {},
   "outputs": [
    {
     "data": {
      "text/plain": [
       "array([1, 7, 2, 7, 4, 0, 7, 6, 6, 3, 4, 6, 0, 6, 5, 5, 1, 3, 2, 5, 3, 5,\n",
       "       1, 5, 1, 7, 7, 2, 6, 2, 1, 5, 1, 3, 4, 0, 0, 3, 7, 1, 4, 7, 2, 0,\n",
       "       6, 2, 5, 7, 7, 3, 0, 6, 5, 2, 3, 6, 3, 4, 5, 2, 3, 3, 5, 6, 3, 1,\n",
       "       6, 5, 2, 2, 6, 6, 6, 0, 6, 2, 1, 6, 5, 5, 0, 2, 4, 3, 4, 6, 5, 3,\n",
       "       0, 5, 3, 1, 3, 4, 6, 2, 4, 7, 2, 6, 0, 3, 3, 3, 4, 7, 4, 4, 6, 6,\n",
       "       0, 3, 4, 0, 6, 3, 6, 7, 7, 4, 5, 4, 0, 0, 2, 3, 6, 5, 3, 2, 0, 4,\n",
       "       3, 0, 5, 7, 1, 1, 2, 0, 5, 6, 5, 0, 7, 2, 7, 7, 4, 2, 3, 6, 2, 7,\n",
       "       6, 5, 6, 5, 5, 4, 4, 3, 7, 2, 3, 7, 0, 3, 0, 4, 2, 2, 1, 5, 3, 5,\n",
       "       4, 5, 5, 4, 1, 2, 7, 2, 0, 7, 6, 2, 3, 2, 6, 4, 0, 5, 6, 7, 1, 3,\n",
       "       4, 2, 0, 5, 4, 7, 2, 6, 0, 7, 7, 3, 2, 4, 5, 2, 0, 3, 7, 7, 2, 3,\n",
       "       1, 1, 0, 7, 3, 7, 7, 6, 7, 0, 0, 5, 6, 7, 3, 1, 0, 4, 5, 7, 3, 7,\n",
       "       6, 1, 4, 4, 5, 6, 6, 7, 6, 6, 7, 0, 4, 0, 7, 3, 7, 6, 3, 2, 5, 2,\n",
       "       3, 3, 2, 3, 0, 7, 2, 1, 7, 1, 4, 3, 0, 1, 5, 5, 2, 7, 5, 6, 6, 4,\n",
       "       2, 4, 0, 0, 2, 4, 7, 6, 5, 5, 6, 7, 1, 7, 2, 6, 7, 3, 3, 5, 5, 6,\n",
       "       0, 2, 7, 4, 3, 0, 5, 7, 4, 0, 4, 4, 3, 3, 3, 7, 4, 4, 2, 7, 2, 5,\n",
       "       4, 6, 6, 7, 4, 0, 3, 3, 7, 5, 4, 2, 0, 0, 2, 0, 3, 4, 0, 5, 3, 3,\n",
       "       5, 0, 1, 0, 4, 0, 3, 5, 7, 3, 6, 6, 5, 1, 7, 4, 4, 7, 5, 5, 4, 5,\n",
       "       4, 7, 5, 0, 7, 5, 4, 3, 7, 3, 3, 0, 7, 7, 6, 4, 6, 4, 6, 6, 4, 0,\n",
       "       5, 5, 3, 5, 7, 5, 5, 0, 7, 7, 5, 4, 6, 1, 4, 5, 2, 0, 3, 4, 5, 2,\n",
       "       4, 5, 6, 6, 3, 7, 7, 6, 1, 6, 2, 5, 3, 6, 6, 3, 5, 6, 2, 5, 0, 5,\n",
       "       1, 4, 5, 4, 5, 4, 4, 1, 3, 6, 3, 2, 5, 6, 4, 4, 3, 2, 4, 4, 2, 7,\n",
       "       1, 7, 4, 4, 3, 2, 5, 1, 3, 3, 6, 5, 1, 5, 5, 4, 7, 7, 0, 0, 2, 0,\n",
       "       0, 3, 3, 2, 6, 7, 3, 4, 4, 3, 1, 0, 1, 2, 6, 2, 0, 2, 6, 0, 3, 5,\n",
       "       4, 6, 0, 2, 7, 6, 5, 7, 5, 4, 0, 0, 3, 0, 1, 6, 3, 5, 7, 5, 7, 0,\n",
       "       5, 4, 7, 6, 2, 0, 7, 0, 4, 0, 1, 6, 6, 5, 6, 5, 2, 2, 0, 2, 1, 0,\n",
       "       5, 5, 6, 0, 4])"
      ]
     },
     "execution_count": 123,
     "metadata": {},
     "output_type": "execute_result"
    }
   ],
   "source": [
    "pickle.dump(gcv,open('Global_Power_Plant.pickle','wb'))\n",
    "loaded_model = pickle.load(open('Global_Power_Plant.pickle', 'rb'))\n",
    "loaded_model.predict(x_test)"
   ]
  },
  {
   "cell_type": "code",
   "execution_count": 124,
   "metadata": {},
   "outputs": [
    {
     "data": {
      "text/html": [
       "<div>\n",
       "<style scoped>\n",
       "    .dataframe tbody tr th:only-of-type {\n",
       "        vertical-align: middle;\n",
       "    }\n",
       "\n",
       "    .dataframe tbody tr th {\n",
       "        vertical-align: top;\n",
       "    }\n",
       "\n",
       "    .dataframe thead th {\n",
       "        text-align: right;\n",
       "    }\n",
       "</style>\n",
       "<table border=\"1\" class=\"dataframe\">\n",
       "  <thead>\n",
       "    <tr style=\"text-align: right;\">\n",
       "      <th></th>\n",
       "      <th>Orginal</th>\n",
       "      <th>Predicted</th>\n",
       "    </tr>\n",
       "  </thead>\n",
       "  <tbody>\n",
       "    <tr>\n",
       "      <th>0</th>\n",
       "      <td>3</td>\n",
       "      <td>1</td>\n",
       "    </tr>\n",
       "    <tr>\n",
       "      <th>1</th>\n",
       "      <td>7</td>\n",
       "      <td>7</td>\n",
       "    </tr>\n",
       "    <tr>\n",
       "      <th>2</th>\n",
       "      <td>2</td>\n",
       "      <td>2</td>\n",
       "    </tr>\n",
       "    <tr>\n",
       "      <th>3</th>\n",
       "      <td>7</td>\n",
       "      <td>7</td>\n",
       "    </tr>\n",
       "    <tr>\n",
       "      <th>4</th>\n",
       "      <td>4</td>\n",
       "      <td>4</td>\n",
       "    </tr>\n",
       "    <tr>\n",
       "      <th>...</th>\n",
       "      <td>...</td>\n",
       "      <td>...</td>\n",
       "    </tr>\n",
       "    <tr>\n",
       "      <th>550</th>\n",
       "      <td>5</td>\n",
       "      <td>5</td>\n",
       "    </tr>\n",
       "    <tr>\n",
       "      <th>551</th>\n",
       "      <td>5</td>\n",
       "      <td>5</td>\n",
       "    </tr>\n",
       "    <tr>\n",
       "      <th>552</th>\n",
       "      <td>6</td>\n",
       "      <td>6</td>\n",
       "    </tr>\n",
       "    <tr>\n",
       "      <th>553</th>\n",
       "      <td>0</td>\n",
       "      <td>0</td>\n",
       "    </tr>\n",
       "    <tr>\n",
       "      <th>554</th>\n",
       "      <td>4</td>\n",
       "      <td>4</td>\n",
       "    </tr>\n",
       "  </tbody>\n",
       "</table>\n",
       "<p>555 rows × 2 columns</p>\n",
       "</div>"
      ],
      "text/plain": [
       "     Orginal  Predicted\n",
       "0          3          1\n",
       "1          7          7\n",
       "2          2          2\n",
       "3          7          7\n",
       "4          4          4\n",
       "..       ...        ...\n",
       "550        5          5\n",
       "551        5          5\n",
       "552        6          6\n",
       "553        0          0\n",
       "554        4          4\n",
       "\n",
       "[555 rows x 2 columns]"
      ]
     },
     "execution_count": 124,
     "metadata": {},
     "output_type": "execute_result"
    }
   ],
   "source": [
    "  #Checking predicted and original values\n",
    "a =np.array(y_test)\n",
    "predicted=np.array(gcv.predict(x_test))\n",
    "Global_Power_Plant=pd.DataFrame({'Orginal':a,'Predicted':predicted}, index=range(len(a)))\n",
    "Global_Power_Plant"
   ]
  },
  {
   "cell_type": "markdown",
   "metadata": {},
   "source": [
    "Target variable : \"capacity_mw\""
   ]
  },
  {
   "cell_type": "code",
   "execution_count": 126,
   "metadata": {},
   "outputs": [],
   "source": [
    "from sklearn.linear_model import LinearRegression,Ridge, Lasso\n",
    "from sklearn.tree import DecisionTreeRegressor\n",
    "from sklearn.ensemble import RandomForestRegressor\n",
    "from sklearn.svm import SVR\n",
    "from sklearn.neighbors import KNeighborsRegressor as KNN\n",
    "from sklearn.metrics import roc_curve, auc, roc_auc_score, r2_score, classification_report, mean_absolute_error, mean_squared_error"
   ]
  },
  {
   "cell_type": "code",
   "execution_count": 127,
   "metadata": {},
   "outputs": [
    {
     "name": "stdout",
     "output_type": "stream",
     "text": [
      "Best Accuracy is: 0.7952202108028397 on random_state: 89\n"
     ]
    }
   ],
   "source": [
    "maxAcc = 0\n",
    "maxRS=0\n",
    "for i in range(1,100):\n",
    "    x_train,x_test,y_train,y_test = train_test_split(x1,y1,test_size = .30, random_state = i)\n",
    "    modDTR =  DecisionTreeRegressor()\n",
    "    modDTR.fit(x_train,y_train)\n",
    "    pred = modDTR.predict(x_test)\n",
    "    acc  = r2_score(y_test,pred)\n",
    "    if acc>maxAcc:\n",
    "        maxAcc=acc\n",
    "        maxRS=i\n",
    "print(f\"Best Accuracy is: {maxAcc} on random_state: {maxRS}\")"
   ]
  },
  {
   "cell_type": "code",
   "execution_count": 128,
   "metadata": {},
   "outputs": [],
   "source": [
    "x_train,x_test,y_train,y_test=train_test_split(x1,y1,test_size=.30,random_state=maxRS)"
   ]
  },
  {
   "cell_type": "code",
   "execution_count": 129,
   "metadata": {},
   "outputs": [
    {
     "name": "stdout",
     "output_type": "stream",
     "text": [
      "R2 score:  0.41515864865437124\n",
      "Mean abs error:  251.46855832094457\n",
      "Mean squared error:  145703.03791118017\n",
      "Root Mean Squared Error:  381.71067303807496\n"
     ]
    }
   ],
   "source": [
    "lr=LinearRegression()\n",
    "lr.fit(x_train,y_train)\n",
    "pred_lr=lr.predict(x_test)\n",
    "\n",
    "print(\"R2 score: \", r2_score(y_test, pred_lr))\n",
    "print(\"Mean abs error: \", mean_absolute_error(y_test, pred_lr))\n",
    "print(\"Mean squared error: \",mean_squared_error(y_test,pred_lr))\n",
    "print(\"Root Mean Squared Error: \", np.sqrt(mean_squared_error(y_test,pred_lr)))"
   ]
  },
  {
   "cell_type": "code",
   "execution_count": 134,
   "metadata": {},
   "outputs": [
    {
     "data": {
      "image/png": "[encoded data removed]",
      "text/plain": [
       "<Figure size 576x360 with 1 Axes>"
      ]
     },
     "metadata": {
      "needs_background": "light"
     },
     "output_type": "display_data"
    }
   ],
   "source": [
    "plt.figure(figsize = (8,5))\n",
    "plt.scatter(x = pred_lr, y = y_test , color= 'r')\n",
    "plt.plot(pred_lr,pred_lr,color = 'b')\n",
    "plt.xlabel(\"Actual\")\n",
    "plt.ylabel(\"Predicted\")\n",
    "plt.title(\"Linear Regression\")\n",
    "plt.show()"
   ]
  },
  {
   "cell_type": "code",
   "execution_count": 135,
   "metadata": {},
   "outputs": [
    {
     "name": "stdout",
     "output_type": "stream",
     "text": [
      "R2 score:  0.8339381034840934\n",
      "Mean abs error:  100.80052900921842\n",
      "Mean squared error:  41371.42961589332\n",
      "Root Mean Squared Error:  203.39967948817747\n"
     ]
    }
   ],
   "source": [
    "RFR=RandomForestRegressor(n_estimators=600, random_state=28)\n",
    "RFR.fit(x_train,y_train)\n",
    "pred_RFR=RFR.predict(x_test)\n",
    "\n",
    "\n",
    "print(\"R2 score: \", r2_score(y_test, pred_RFR))\n",
    "print(\"Mean abs error: \", mean_absolute_error(y_test, pred_RFR))\n",
    "print(\"Mean squared error: \", mean_squared_error(y_test,pred_RFR))\n",
    "print(\"Root Mean Squared Error: \", np.sqrt(mean_squared_error(y_test,pred_RFR)))"
   ]
  },
  {
   "cell_type": "code",
   "execution_count": 144,
   "metadata": {},
   "outputs": [
    {
     "data": {
      "image/png": "[encoded data removed]",
      "text/plain": [
       "<Figure size 576x360 with 1 Axes>"
      ]
     },
     "metadata": {
      "needs_background": "light"
     },
     "output_type": "display_data"
    }
   ],
   "source": [
    "plt.figure(figsize=(8,5))\n",
    "plt.scatter(x=y_test,y=pred_RFR,color='r')\n",
    "plt.plot(y_test,y_test,color='b')\n",
    "plt.xlabel(\"Actual\")\n",
    "plt.ylabel(\"Predicted\")\n",
    "plt.title(\"Random forest Regression\")\n",
    "plt.show()"
   ]
  },
  {
   "cell_type": "code",
   "execution_count": 140,
   "metadata": {},
   "outputs": [
    {
     "name": "stdout",
     "output_type": "stream",
     "text": [
      "R2 score:  0.7450641374852502\n",
      "Mean abs error:  131.62312654320988\n",
      "Mean squared error:  63512.83054018208\n",
      "Root Mean Squared Error:  252.01752030401\n"
     ]
    }
   ],
   "source": [
    "knn=KNN(n_neighbors=9 )\n",
    "knn.fit(x_train,y_train)\n",
    "pred_knn=knn.predict(x_test)\n",
    "\n",
    "print(\"R2 score: \", r2_score(y_test, pred_knn))\n",
    "print(\"Mean abs error: \", mean_absolute_error(y_test, pred_knn))\n",
    "print(\"Mean squared error: \", mean_squared_error(y_test,pred_knn))\n",
    "print(\"Root Mean Squared Error: \", np.sqrt(mean_squared_error(y_test,pred_knn)))"
   ]
  },
  {
   "cell_type": "code",
   "execution_count": 145,
   "metadata": {},
   "outputs": [
    {
     "data": {
      "image/png": "[encoded data removed]",
      "text/plain": [
       "<Figure size 576x360 with 1 Axes>"
      ]
     },
     "metadata": {
      "needs_background": "light"
     },
     "output_type": "display_data"
    }
   ],
   "source": [
    "plt.figure(figsize=(8,5))\n",
    "plt.scatter(x=y_test,y=pred_knn,color='r')\n",
    "plt.plot(y_test,y_test,color='b')\n",
    "plt.xlabel(\"Actual\")\n",
    "plt.ylabel(\"Predicted\")\n",
    "plt.title(\"KNN Regression\")\n",
    "plt.show()"
   ]
  },
  {
   "cell_type": "code",
   "execution_count": 146,
   "metadata": {},
   "outputs": [
    {
     "name": "stdout",
     "output_type": "stream",
     "text": [
      "R2 score:  0.7710171523309902\n",
      "Mean abs error:  124.74277777777776\n",
      "Mean squared error:  57047.08885266667\n",
      "Root Mean Squared Error:  238.8453241172342\n"
     ]
    }
   ],
   "source": [
    "DTR= DecisionTreeRegressor(random_state=29)\n",
    "DTR.fit(x_train,y_train)\n",
    "pred_DTR=DTR.predict(x_test)\n",
    "\n",
    "\n",
    "print(\"R2 score: \", r2_score(y_test, pred_DTR))\n",
    "print(\"Mean abs error: \", mean_absolute_error(y_test, pred_DTR))\n",
    "print(\"Mean squared error: \", mean_squared_error(y_test,pred_DTR))\n",
    "print(\"Root Mean Squared Error: \", np.sqrt(mean_squared_error(y_test,pred_DTR)))"
   ]
  },
  {
   "cell_type": "code",
   "execution_count": 147,
   "metadata": {},
   "outputs": [
    {
     "data": {
      "image/png": "[encoded data removed]",
      "text/plain": [
       "<Figure size 720x432 with 1 Axes>"
      ]
     },
     "metadata": {
      "needs_background": "light"
     },
     "output_type": "display_data"
    }
   ],
   "source": [
    "plt.figure(figsize=(10,6))\n",
    "plt.scatter(x=y_test,y=pred_DTR,color='r')\n",
    "plt.plot(y_test,y_test,color='b')\n",
    "plt.xlabel(\"Actual\")\n",
    "plt.ylabel(\"Predicted\")\n",
    "plt.title(\"Decision Tree Regression\")\n",
    "plt.show()"
   ]
  },
  {
   "cell_type": "code",
   "execution_count": 148,
   "metadata": {},
   "outputs": [
    {
     "name": "stdout",
     "output_type": "stream",
     "text": [
      "The CV score  for Linear_regression is : 0.29027634660350377\n"
     ]
    }
   ],
   "source": [
    "print('The CV score  for Linear_regression is :',cross_val_score(lr,x1,y1,cv=7).mean())"
   ]
  },
  {
   "cell_type": "code",
   "execution_count": 149,
   "metadata": {},
   "outputs": [
    {
     "name": "stdout",
     "output_type": "stream",
     "text": [
      "The CV  score for  the Random forest regressor is: 0.7749173467109182\n"
     ]
    }
   ],
   "source": [
    "print(\"The CV  score for  the Random forest regressor is:\",cross_val_score(RFR,x1,y1,cv=7).mean())"
   ]
  },
  {
   "cell_type": "code",
   "execution_count": 150,
   "metadata": {},
   "outputs": [
    {
     "name": "stdout",
     "output_type": "stream",
     "text": [
      "The CV score  for  the KNN regressor is : 0.6651130326511137\n"
     ]
    }
   ],
   "source": [
    "print('The CV score  for  the KNN regressor is :',cross_val_score(knn,x1,y1,cv=7).mean())"
   ]
  },
  {
   "cell_type": "code",
   "execution_count": 151,
   "metadata": {},
   "outputs": [
    {
     "name": "stdout",
     "output_type": "stream",
     "text": [
      "The CV score  for  the DTR is : 0.5778695962479026\n"
     ]
    }
   ],
   "source": [
    "print('The CV score  for  the DTR is :',cross_val_score(DTR,x1,y1,cv=7).mean())"
   ]
  },
  {
   "cell_type": "markdown",
   "metadata": {},
   "source": [
    "From the observation of R2 Score and cross validation score and their difference we can predict that Random Forest Regressor is the best model."
   ]
  },
  {
   "cell_type": "code",
   "execution_count": 152,
   "metadata": {},
   "outputs": [],
   "source": [
    "parameter = {'n_estimators':[30,60,80],'max_depth': [10,20,40],\n",
    "             'min_samples_leaf':[5,10,20],'min_samples_split':[5,10],\n",
    "             'criterion':['mse','mae'],'max_features':[\"auto\",\"sqrt\",\"log2\"]}"
   ]
  },
  {
   "cell_type": "code",
   "execution_count": 153,
   "metadata": {},
   "outputs": [],
   "source": [
    "GridCV = GridSearchCV(RandomForestRegressor(),parameter,cv=5,n_jobs = -1,verbose = 1)"
   ]
  },
  {
   "cell_type": "code",
   "execution_count": 154,
   "metadata": {},
   "outputs": [
    {
     "name": "stdout",
     "output_type": "stream",
     "text": [
      "Fitting 5 folds for each of 324 candidates, totalling 1620 fits\n"
     ]
    },
    {
     "data": {
      "text/plain": [
       "GridSearchCV(cv=5, estimator=RandomForestRegressor(), n_jobs=-1,\n",
       "             param_grid={'criterion': ['mse', 'mae'], 'max_depth': [10, 20, 40],\n",
       "                         'max_features': ['auto', 'sqrt', 'log2'],\n",
       "                         'min_samples_leaf': [5, 10, 20],\n",
       "                         'min_samples_split': [5, 10],\n",
       "                         'n_estimators': [30, 60, 80]},\n",
       "             verbose=1)"
      ]
     },
     "execution_count": 154,
     "metadata": {},
     "output_type": "execute_result"
    }
   ],
   "source": [
    "GridCV.fit(x_train,y_train)"
   ]
  },
  {
   "cell_type": "code",
   "execution_count": 155,
   "metadata": {},
   "outputs": [
    {
     "data": {
      "text/plain": [
       "{'criterion': 'mse',\n",
       " 'max_depth': 10,\n",
       " 'max_features': 'sqrt',\n",
       " 'min_samples_leaf': 5,\n",
       " 'min_samples_split': 10,\n",
       " 'n_estimators': 30}"
      ]
     },
     "execution_count": 155,
     "metadata": {},
     "output_type": "execute_result"
    }
   ],
   "source": [
    "GridCV.best_params_"
   ]
  },
  {
   "cell_type": "code",
   "execution_count": 156,
   "metadata": {},
   "outputs": [
    {
     "name": "stdout",
     "output_type": "stream",
     "text": [
      "83.39381034840933\n"
     ]
    }
   ],
   "source": [
    "Best_model_Regressor = RandomForestRegressor(n_estimators = 30,criterion = 'mse', max_depth= 10, max_features = 'sqrt',min_samples_leaf = 5, min_samples_split = 10)\n",
    "Best_model_Regressor.fit(x_train,y_train)\n",
    "pred = Best_model_Regressor.predict(x_test)\n",
    "acc = r2_score(y_test,pred_RFR)\n",
    "print(acc*100)"
   ]
  },
  {
   "cell_type": "code",
   "execution_count": 157,
   "metadata": {},
   "outputs": [
    {
     "data": {
      "text/plain": [
       "array([  63.63410954, 1432.77148644,  463.79319295,  221.17761063,\n",
       "       1378.3849654 ,   77.02550776,  175.36643782,   44.22959841,\n",
       "         31.07197663,  812.78442607,   33.72032066,   37.39735004,\n",
       "        843.20191329, 1012.61446081,   26.38427248,  562.1955607 ,\n",
       "        123.20495293,   15.71981919,  548.02017778,  172.26872998,\n",
       "        493.20955507,   41.55121438,  459.51886257,  321.10994034,\n",
       "        452.90497489,   34.38951702,   50.08920253,   58.37490557,\n",
       "        333.56755057,   34.47805567, 1361.07750805,   90.4983387 ,\n",
       "         62.06295988,  126.00745483,   37.84503229,   54.54769067,\n",
       "         34.38951702,   22.7486564 ,  173.90661559,  122.58822819,\n",
       "        105.1525627 ,   21.93666599,   20.11071244,   14.26729454,\n",
       "        127.99854997,   36.40311402,   33.63715845,  345.1269828 ,\n",
       "        298.62038029,   14.26729454,   35.26309569,  471.84255377,\n",
       "        441.380489  , 1097.46286017,   34.04053715,   46.00083784,\n",
       "         27.73161316,  632.94547479,  323.40273687,  400.897439  ,\n",
       "        190.39363063,  202.25380111,  270.39069408,   28.71034419,\n",
       "        127.08264208, 1324.33138534,  412.33007237,   27.73161316,\n",
       "         56.22343841,   14.99858242,  459.91500614,   37.45482241,\n",
       "         27.73161316,   29.11955415,  214.84627851,   70.29369412,\n",
       "        211.87387496,   72.77040483,  433.7012784 ,   64.96615165,\n",
       "        450.66654747,   63.40798281,   96.81350915,   63.13026558,\n",
       "        857.2181081 ,  828.34191379,   35.58834669,  140.61946134,\n",
       "        422.74716751,   28.75840804,  317.04034665,  316.20592113,\n",
       "        162.97199304,   46.29904677,  250.21553195,   69.91994166,\n",
       "        111.43537579,  509.21318925,  614.32657419,   27.73161316,\n",
       "         11.26057728,   15.05718147,   70.8561092 , 1242.70068743,\n",
       "         34.26502096,   23.41347411,   70.70487655,  644.59629101,\n",
       "       1169.63763177, 1427.23951431,   33.13813007,   17.59701608,\n",
       "        162.97199304,   38.6432877 ,   34.38951702,  442.74389023,\n",
       "        381.66997195,   34.38951702,  548.02775873,  105.83281994,\n",
       "         68.77587785,   41.38658352,   35.58834669, 1311.69968309,\n",
       "         36.35324266,  348.11694684,  228.48919994,   99.48810703,\n",
       "         96.81350915,   15.62701496, 1093.76628871, 1190.79916521,\n",
       "        990.78879088,   34.38951702, 1418.70086502,   20.36673119,\n",
       "         77.24228643,   28.94620441,  240.08395208,  279.39702448,\n",
       "         67.66634171,  416.53804074,  101.16036433,  200.30763311,\n",
       "       1481.06597594,   64.24998737, 1018.50165645,   21.77173841,\n",
       "         55.00619738,   76.84438055,   36.35324266,   60.01854941,\n",
       "        178.59925587,   48.34218536,   52.99006087,  105.08037429,\n",
       "       1358.36152773,  219.23068743,   78.6059975 ,   33.63715845,\n",
       "         59.2920339 ,   21.16333451,  141.7190277 ,   33.1829549 ,\n",
       "         29.34055343,  440.4929816 ,   62.68700297,   37.84503229,\n",
       "         34.26502096,   79.50581515,  560.38452267,  694.24187436,\n",
       "         19.00730261,   34.34439336, 1194.48317531,   53.05362046,\n",
       "         27.73161316,  151.96183847,  344.42417133,   62.423624  ,\n",
       "        314.01117832,  136.01015208, 1435.90897348,   28.75840804,\n",
       "         22.37533605, 1143.97990762,   29.34055343, 1563.18665969,\n",
       "         40.32277231,   33.90483377, 1385.39871601,  101.82649595,\n",
       "         28.94620441,   67.13118919,   49.75537101,   21.16333451,\n",
       "       1473.4308029 ,  105.61921259,  827.65655153,  760.60407107,\n",
       "        314.97419522, 1200.34572391,   19.25024564, 1433.5805217 ,\n",
       "         89.94404817,   50.60806796,  119.76336072,   67.34217067,\n",
       "        368.23174378, 1388.58927051,   19.07595993,   29.39368581,\n",
       "         71.28553164,   90.36887989,  148.37113334,   35.7010371 ,\n",
       "        331.83764252,  319.0870573 ,  123.20495293,   36.35324266,\n",
       "         19.61490274,  205.55620133,   34.13540786,  220.11954633,\n",
       "         28.75840804,  818.60430188,  210.64886931,  136.01015208,\n",
       "         87.26188217,   34.01224062,   63.55458222,  151.97546112,\n",
       "         14.3075633 ,  153.79495056,  702.7059102 ,   36.40311402,\n",
       "        397.66753834,  763.98981832,   20.59221625,  318.91770801,\n",
       "       1192.25417989,   34.13540786,  218.23671122, 1592.19499003,\n",
       "         58.61976428,  748.94746518,   19.57550103,   29.52498333,\n",
       "         27.61364589,   33.72032066,   58.29359345,   21.7801641 ])"
      ]
     },
     "execution_count": 157,
     "metadata": {},
     "output_type": "execute_result"
    }
   ],
   "source": [
    "filename='Global_Power_Plant_Database_Project.pickle'\n",
    "pickle.dump(Best_model_Regressor,open(filename,'wb'))\n",
    "loaded_model_r = pickle.load(open(filename, 'rb'))\n",
    "loaded_model_r.predict(x_test)"
   ]
  },
  {
   "cell_type": "code",
   "execution_count": 158,
   "metadata": {},
   "outputs": [
    {
     "data": {
      "text/html": [
       "<div>\n",
       "<style scoped>\n",
       "    .dataframe tbody tr th:only-of-type {\n",
       "        vertical-align: middle;\n",
       "    }\n",
       "\n",
       "    .dataframe tbody tr th {\n",
       "        vertical-align: top;\n",
       "    }\n",
       "\n",
       "    .dataframe thead th {\n",
       "        text-align: right;\n",
       "    }\n",
       "</style>\n",
       "<table border=\"1\" class=\"dataframe\">\n",
       "  <thead>\n",
       "    <tr style=\"text-align: right;\">\n",
       "      <th></th>\n",
       "      <th>Original</th>\n",
       "      <th>Predicted</th>\n",
       "    </tr>\n",
       "  </thead>\n",
       "  <tbody>\n",
       "    <tr>\n",
       "      <th>0</th>\n",
       "      <td>45.00</td>\n",
       "      <td>63.634110</td>\n",
       "    </tr>\n",
       "    <tr>\n",
       "      <th>1</th>\n",
       "      <td>2320.00</td>\n",
       "      <td>1432.771486</td>\n",
       "    </tr>\n",
       "    <tr>\n",
       "      <th>2</th>\n",
       "      <td>420.00</td>\n",
       "      <td>463.793193</td>\n",
       "    </tr>\n",
       "    <tr>\n",
       "      <th>3</th>\n",
       "      <td>34.65</td>\n",
       "      <td>221.177611</td>\n",
       "    </tr>\n",
       "    <tr>\n",
       "      <th>4</th>\n",
       "      <td>1500.00</td>\n",
       "      <td>1378.384965</td>\n",
       "    </tr>\n",
       "    <tr>\n",
       "      <th>...</th>\n",
       "      <td>...</td>\n",
       "      <td>...</td>\n",
       "    </tr>\n",
       "    <tr>\n",
       "      <th>247</th>\n",
       "      <td>2.00</td>\n",
       "      <td>29.524983</td>\n",
       "    </tr>\n",
       "    <tr>\n",
       "      <th>248</th>\n",
       "      <td>6.00</td>\n",
       "      <td>27.613646</td>\n",
       "    </tr>\n",
       "    <tr>\n",
       "      <th>249</th>\n",
       "      <td>5.00</td>\n",
       "      <td>33.720321</td>\n",
       "    </tr>\n",
       "    <tr>\n",
       "      <th>250</th>\n",
       "      <td>100.00</td>\n",
       "      <td>58.293593</td>\n",
       "    </tr>\n",
       "    <tr>\n",
       "      <th>251</th>\n",
       "      <td>2.00</td>\n",
       "      <td>21.780164</td>\n",
       "    </tr>\n",
       "  </tbody>\n",
       "</table>\n",
       "<p>252 rows × 2 columns</p>\n",
       "</div>"
      ],
      "text/plain": [
       "     Original    Predicted\n",
       "0       45.00    63.634110\n",
       "1     2320.00  1432.771486\n",
       "2      420.00   463.793193\n",
       "3       34.65   221.177611\n",
       "4     1500.00  1378.384965\n",
       "..        ...          ...\n",
       "247      2.00    29.524983\n",
       "248      6.00    27.613646\n",
       "249      5.00    33.720321\n",
       "250    100.00    58.293593\n",
       "251      2.00    21.780164\n",
       "\n",
       "[252 rows x 2 columns]"
      ]
     },
     "execution_count": 158,
     "metadata": {},
     "output_type": "execute_result"
    }
   ],
   "source": [
    "a = np.array(y_test)\n",
    "predicted = np.array(Best_model_Regressor.predict(x_test))\n",
    "Global_Power_Plant_Database_Project = pd.DataFrame({\"Original\":a,\"Predicted\":predicted},index= range(len(a)))\n",
    "Global_Power_Plant_Database_Project"
   ]
  },
  {
   "cell_type": "code",
   "execution_count": null,
   "metadata": {},
   "outputs": [],
   "source": []
  }
 ],
 "metadata": {
  "kernelspec": {
   "display_name": "Python 3",
   "language": "python",
   "name": "python3"
  },
  "language_info": {
   "codemirror_mode": {
    "name": "ipython",
    "version": 3
   },
   "file_extension": ".py",
   "mimetype": "text/x-python",
   "name": "python",
   "nbconvert_exporter": "python",
   "pygments_lexer": "ipython3",
   "version": "3.8.5"
  }
 },
 "nbformat": 4,
 "nbformat_minor": 4
}
